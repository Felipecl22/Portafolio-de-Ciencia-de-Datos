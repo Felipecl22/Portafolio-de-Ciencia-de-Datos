{
  "nbformat": 4,
  "nbformat_minor": 0,
  "metadata": {
    "colab": {
      "provenance": [],
      "authorship_tag": "ABX9TyNg39WQBD0fZp6NEzhGzqW4",
      "include_colab_link": true
    },
    "kernelspec": {
      "name": "python3",
      "display_name": "Python 3"
    },
    "language_info": {
      "name": "python"
    }
  },
  "cells": [
    {
      "cell_type": "markdown",
      "metadata": {
        "id": "view-in-github",
        "colab_type": "text"
      },
      "source": [
        "<a href=\"https://colab.research.google.com/github/Felipecl22/Portafolio-de-Ciencia-de-Datos/blob/nueva-rama/KNN.ipynb\" target=\"_parent\"><img src=\"https://colab.research.google.com/assets/colab-badge.svg\" alt=\"Open In Colab\"/></a>"
      ]
    },
    {
      "cell_type": "code",
      "execution_count": null,
      "metadata": {
        "colab": {
          "base_uri": "https://localhost:8080/"
        },
        "id": "-gSDNgmxKV_d",
        "outputId": "09e6b267-ca77-4ae5-881f-c6c866a8c213"
      },
      "outputs": [
        {
          "output_type": "stream",
          "name": "stdout",
          "text": [
            "Precisión del clasificador KNN: 1.0\n"
          ]
        }
      ],
      "source": [
        "from sklearn.datasets import load_iris\n",
        "from sklearn.model_selection import train_test_split\n",
        "from sklearn.neighbors import KNeighborsClassifier\n",
        "from sklearn.metrics import accuracy_score\n",
        "\n",
        "# Cargar el conjunto de datos de iris\n",
        "iris = load_iris()\n",
        "X = iris.data  # Características\n",
        "y = iris.target  # Etiquetas\n",
        "\n",
        "# Dividir el conjunto de datos en conjuntos de entrenamiento y prueba\n",
        "X_train, X_test, y_train, y_test = train_test_split(X, y, test_size=0.2, random_state=42)\n",
        "\n",
        "# Inicializar y ajustar el modelo KNN\n",
        "knn = KNeighborsClassifier(n_neighbors=3)\n",
        "knn.fit(X_train, y_train)\n",
        "\n",
        "# Realizar predicciones en el conjunto de prueba\n",
        "y_pred = knn.predict(X_test)\n",
        "\n",
        "# Calcular la precisión del modelo\n",
        "precision = accuracy_score(y_test, y_pred)\n",
        "print(\"Precisión del clasificador KNN:\", precision)"
      ]
    },
    {
      "cell_type": "code",
      "source": [
        "# Crear una nueva observación (nueva flor de iris)\n",
        "nueva_flor = [[5.1, 3.5, 1.4, 0.2]]  # Longitud del sépalo, ancho del sépalo, longitud del pétalo, ancho del pétalo\n",
        "\n",
        "# Utilizar el modelo KNN para predecir la especie de la nueva flor\n",
        "especie_predicha = knn.predict(nueva_flor)\n",
        "\n",
        "print(\"Especie predicha para la nueva flor:\", iris.target_names[especie_predicha])\n"
      ],
      "metadata": {
        "colab": {
          "base_uri": "https://localhost:8080/"
        },
        "id": "011rRrX-KxsC",
        "outputId": "4dcc06f0-a1c8-46e8-ae30-4872bb777ea6"
      },
      "execution_count": null,
      "outputs": [
        {
          "output_type": "stream",
          "name": "stdout",
          "text": [
            "Especie predicha para la nueva flor: ['setosa']\n"
          ]
        }
      ]
    }
  ]
}