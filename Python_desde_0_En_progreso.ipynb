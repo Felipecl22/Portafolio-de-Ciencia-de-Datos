{
  "nbformat": 4,
  "nbformat_minor": 0,
  "metadata": {
    "colab": {
      "provenance": [],
      "authorship_tag": "ABX9TyMgevdYIaGooFsz2udazpKm",
      "include_colab_link": true
    },
    "kernelspec": {
      "name": "python3",
      "display_name": "Python 3"
    },
    "language_info": {
      "name": "python"
    }
  },
  "cells": [
    {
      "cell_type": "markdown",
      "metadata": {
        "id": "view-in-github",
        "colab_type": "text"
      },
      "source": [
        "<a href=\"https://colab.research.google.com/github/Felipecl22/Portafolio-de-Ciencia-de-Datos/blob/nueva-rama/Python_desde_0_En_progreso.ipynb\" target=\"_parent\"><img src=\"https://colab.research.google.com/assets/colab-badge.svg\" alt=\"Open In Colab\"/></a>"
      ]
    },
    {
      "cell_type": "markdown",
      "source": [
        "# Strings"
      ],
      "metadata": {
        "id": "LmV7bg3J7Wuk"
      }
    },
    {
      "cell_type": "code",
      "execution_count": null,
      "metadata": {
        "colab": {
          "base_uri": "https://localhost:8080/"
        },
        "id": "r-XvfEV55qxC",
        "outputId": "54678702-276b-48f8-d042-619d306c7431"
      },
      "outputs": [
        {
          "output_type": "stream",
          "name": "stdout",
          "text": [
            " Felipe Felipe Felipe\n"
          ]
        }
      ],
      "source": [
        "print(3 * \" Felipe\")"
      ]
    },
    {
      "cell_type": "code",
      "source": [
        "A = \"Felipe\"\n",
        "B = \"Mardones\""
      ],
      "metadata": {
        "id": "yicpewAb7HkI"
      },
      "execution_count": null,
      "outputs": []
    },
    {
      "cell_type": "code",
      "source": [
        "print(A.count(\"e\"))"
      ],
      "metadata": {
        "colab": {
          "base_uri": "https://localhost:8080/"
        },
        "id": "LLqF784V7Pm0",
        "outputId": "91146139-dfdb-4f72-97cb-c0ae7725b429"
      },
      "execution_count": null,
      "outputs": [
        {
          "output_type": "stream",
          "name": "stdout",
          "text": [
            "2\n"
          ]
        }
      ]
    },
    {
      "cell_type": "code",
      "source": [
        "A.upper()"
      ],
      "metadata": {
        "colab": {
          "base_uri": "https://localhost:8080/",
          "height": 35
        },
        "id": "uu332E337etN",
        "outputId": "3272d73d-c633-4d06-858b-e1955ccf71e6"
      },
      "execution_count": null,
      "outputs": [
        {
          "output_type": "execute_result",
          "data": {
            "text/plain": [
              "'FELIPE'"
            ],
            "application/vnd.google.colaboratory.intrinsic+json": {
              "type": "string"
            }
          },
          "metadata": {},
          "execution_count": 6
        }
      ]
    },
    {
      "cell_type": "code",
      "source": [
        "A.title() + \" \" + B.title()"
      ],
      "metadata": {
        "colab": {
          "base_uri": "https://localhost:8080/",
          "height": 35
        },
        "id": "HeJsjLc_7qB8",
        "outputId": "211e0f6f-c51e-4561-c747-e2b8027a3ad1"
      },
      "execution_count": null,
      "outputs": [
        {
          "output_type": "execute_result",
          "data": {
            "text/plain": [
              "'Felipe Mardones'"
            ],
            "application/vnd.google.colaboratory.intrinsic+json": {
              "type": "string"
            }
          },
          "metadata": {},
          "execution_count": 9
        }
      ]
    },
    {
      "cell_type": "code",
      "source": [
        "len(A)"
      ],
      "metadata": {
        "colab": {
          "base_uri": "https://localhost:8080/"
        },
        "id": "vlLPAnsk71no",
        "outputId": "e6131225-bfe3-4416-8827-830614542815"
      },
      "execution_count": null,
      "outputs": [
        {
          "output_type": "execute_result",
          "data": {
            "text/plain": [
              "6"
            ]
          },
          "metadata": {},
          "execution_count": 11
        }
      ]
    },
    {
      "cell_type": "code",
      "source": [
        "print(\", \".join([\"a\",\"b\",\"c\"])) # Le dimos un espacio."
      ],
      "metadata": {
        "colab": {
          "base_uri": "https://localhost:8080/"
        },
        "id": "-P7E_4EG8K91",
        "outputId": "62e65a97-26ec-4597-f7f8-43e563daf119"
      },
      "execution_count": null,
      "outputs": [
        {
          "output_type": "stream",
          "name": "stdout",
          "text": [
            "a, b, c\n"
          ]
        }
      ]
    },
    {
      "cell_type": "code",
      "source": [
        "\",\".join([\"a\",\"b\",\"c\"]) # Sin espacios."
      ],
      "metadata": {
        "colab": {
          "base_uri": "https://localhost:8080/",
          "height": 35
        },
        "id": "CHQwDwkI8Mcn",
        "outputId": "3c31fec9-987b-4cd2-e2fc-92a597c28199"
      },
      "execution_count": null,
      "outputs": [
        {
          "output_type": "execute_result",
          "data": {
            "text/plain": [
              "'a,b,c'"
            ],
            "application/vnd.google.colaboratory.intrinsic+json": {
              "type": "string"
            }
          },
          "metadata": {},
          "execution_count": 13
        }
      ]
    },
    {
      "cell_type": "code",
      "source": [
        "# Salto de línea \\n\n",
        "\n",
        "print(\"hola\\na\\ntodos\")"
      ],
      "metadata": {
        "colab": {
          "base_uri": "https://localhost:8080/"
        },
        "id": "Yq4uLquq8bOt",
        "outputId": "1d1b8acf-c3d6-479d-a07b-75c1af33d2f2"
      },
      "execution_count": null,
      "outputs": [
        {
          "output_type": "stream",
          "name": "stdout",
          "text": [
            "hola\n",
            "a\n",
            "todos\n"
          ]
        }
      ]
    },
    {
      "cell_type": "markdown",
      "source": [
        "# Variables"
      ],
      "metadata": {
        "id": "xzFFOzkg9B7W"
      }
    },
    {
      "cell_type": "code",
      "source": [
        "entero = 2\n",
        "decimal = 6.5\n",
        "texto = \"Hola Mundo\"\n",
        "print(type(entero)) # int\n",
        "print(type(decimal)) # float\n",
        "print(type(texto)) # str"
      ],
      "metadata": {
        "colab": {
          "base_uri": "https://localhost:8080/"
        },
        "id": "vEHKq26V8qCY",
        "outputId": "3e0310e9-aa19-4c00-b939-b3c706769fb7"
      },
      "execution_count": null,
      "outputs": [
        {
          "output_type": "stream",
          "name": "stdout",
          "text": [
            "<class 'int'>\n",
            "<class 'float'>\n",
            "<class 'str'>\n"
          ]
        }
      ]
    },
    {
      "cell_type": "code",
      "source": [
        "a = 2 # se asigna el valor 2 a la variable a\n",
        "t = a + 1 # se suma 1 al valor de a y se reasigna\n",
        "print(t) # se muestra el resultado final"
      ],
      "metadata": {
        "colab": {
          "base_uri": "https://localhost:8080/"
        },
        "id": "GUoD7q4R9Tce",
        "outputId": "dd67d494-1bcf-495a-f011-d2ee5a404181"
      },
      "execution_count": null,
      "outputs": [
        {
          "output_type": "stream",
          "name": "stdout",
          "text": [
            "3\n"
          ]
        }
      ]
    },
    {
      "cell_type": "code",
      "source": [
        "# Interpolación\n",
        "\n",
        "# Permite introducir una variable, un dato o una operación válida dentro un String.\n",
        "\n",
        "# Interpolación\n",
        "print(f\"Mi nombre es {A} {B}\")\n"
      ],
      "metadata": {
        "colab": {
          "base_uri": "https://localhost:8080/"
        },
        "id": "AG4JaV429jm9",
        "outputId": "9862c7f8-8ec5-4913-f23a-db397def8df7"
      },
      "execution_count": null,
      "outputs": [
        {
          "output_type": "stream",
          "name": "stdout",
          "text": [
            "Mi nombre es Felipe Mardones\n"
          ]
        }
      ]
    },
    {
      "cell_type": "code",
      "source": [
        "# Precisión de datos\n",
        "\n",
        "# Permite controlar la precisión de los decimales de manera muy sencilla.\n",
        "\n",
        "print(f'El resultado es {1/9:.2f}')\n",
        "\n",
        "# : indica que lo que sigue es el formato.\n",
        "# .2f significa que el número se debe mostrar con dos cifras decimales como un flotante."
      ],
      "metadata": {
        "colab": {
          "base_uri": "https://localhost:8080/"
        },
        "id": "oEhn92CC-PYE",
        "outputId": "1ab4608c-5e36-409e-ef13-8b37b1104f24"
      },
      "execution_count": null,
      "outputs": [
        {
          "output_type": "stream",
          "name": "stdout",
          "text": [
            "El resultado es 0.11\n"
          ]
        }
      ]
    },
    {
      "cell_type": "markdown",
      "source": [
        "# Ingresando datos"
      ],
      "metadata": {
        "id": "iGou0rzP_K7K"
      }
    },
    {
      "cell_type": "code",
      "source": [
        "# Al invocar input() la consola quedará bloqueada hasta que ingresemos una secuencia de caracteres y presionemos la tecla enter.\n",
        "# Este valor puede almacenarse dentro de una variable y de esa manera ser utilizada en nuestro código:\n",
        "\n",
        "nombre = input(\"Ingrese su nombre: \")"
      ],
      "metadata": {
        "colab": {
          "base_uri": "https://localhost:8080/"
        },
        "id": "Ntx31Xdp_M_t",
        "outputId": "6c89f137-cf36-4f07-e104-9063b03b4d31"
      },
      "execution_count": null,
      "outputs": [
        {
          "name": "stdout",
          "output_type": "stream",
          "text": [
            "Ingrese su nombre: Nico\n"
          ]
        }
      ]
    },
    {
      "cell_type": "code",
      "source": [
        "print(f\"Hola {nombre}\")"
      ],
      "metadata": {
        "colab": {
          "base_uri": "https://localhost:8080/"
        },
        "id": "KFmgj3xF_qnF",
        "outputId": "6bc09e8a-952e-42e2-ab56-4f80bb93cfad"
      },
      "execution_count": null,
      "outputs": [
        {
          "output_type": "stream",
          "name": "stdout",
          "text": [
            "Hola Nico\n"
          ]
        }
      ]
    },
    {
      "cell_type": "code",
      "source": [
        "# importa librería math\n",
        "import math\n",
        "\n",
        "# Solicitud de Inputs\n",
        "proteina = float(input(\"Ingrese los gr de proteina:\\n>\"))\n",
        "carbohidratos = float(input(\"Ingrese el los de Carbohidrato:\\n>\"))\n",
        "grasa = float(input(\"Ingrese el los de Grasa:\\n>\"))\n",
        "\n",
        "# cálculo de calorías\n",
        "calorias = 4 * (proteina + carbohidratos) + 9 * grasa\n",
        "\n",
        "# entregar output en el formato solicitado\n",
        "print(f'Las calorías totales del producto son: {math.ceil(calorias)}')"
      ],
      "metadata": {
        "colab": {
          "base_uri": "https://localhost:8080/"
        },
        "id": "G6vvkqAWfuXQ",
        "outputId": "e7c39716-f928-46de-dee2-8f18766caac5"
      },
      "execution_count": null,
      "outputs": [
        {
          "output_type": "stream",
          "name": "stdout",
          "text": [
            "Ingrese los gr de proteina:\n",
            ">2\n",
            "Ingrese el los de Carbohidrato:\n",
            ">3\n",
            "Ingrese el los de Grasa:\n",
            ">4\n",
            "Las calorías totales del producto son: 56\n"
          ]
        }
      ]
    },
    {
      "cell_type": "markdown",
      "source": [
        "# Librerías"
      ],
      "metadata": {
        "id": "misUUp1Od9uv"
      }
    },
    {
      "cell_type": "code",
      "source": [
        "import os"
      ],
      "metadata": {
        "id": "rOCMclSheBpt"
      },
      "execution_count": null,
      "outputs": []
    },
    {
      "cell_type": "code",
      "source": [
        "os.getcwd()"
      ],
      "metadata": {
        "colab": {
          "base_uri": "https://localhost:8080/",
          "height": 35
        },
        "id": "KgOp2lyweEDw",
        "outputId": "f4263fde-573c-4f6c-8362-3aa80047551d"
      },
      "execution_count": null,
      "outputs": [
        {
          "output_type": "execute_result",
          "data": {
            "text/plain": [
              "'/content'"
            ],
            "application/vnd.google.colaboratory.intrinsic+json": {
              "type": "string"
            }
          },
          "metadata": {},
          "execution_count": 32
        }
      ]
    },
    {
      "cell_type": "code",
      "source": [
        "import math"
      ],
      "metadata": {
        "id": "ruSh37aueJ52"
      },
      "execution_count": null,
      "outputs": []
    },
    {
      "cell_type": "code",
      "source": [
        "from math import ceil"
      ],
      "metadata": {
        "id": "LLlb5AW0eMNN"
      },
      "execution_count": null,
      "outputs": []
    },
    {
      "cell_type": "code",
      "source": [
        "ceil(5.1)"
      ],
      "metadata": {
        "colab": {
          "base_uri": "https://localhost:8080/"
        },
        "id": "V2yPGCQNeU-H",
        "outputId": "5551177a-4771-4328-f94e-5c7033aa7d3c"
      },
      "execution_count": null,
      "outputs": [
        {
          "output_type": "execute_result",
          "data": {
            "text/plain": [
              "6"
            ]
          },
          "metadata": {},
          "execution_count": 38
        }
      ]
    },
    {
      "cell_type": "code",
      "source": [
        "import pandas as pd"
      ],
      "metadata": {
        "id": "fPviE19cefqX"
      },
      "execution_count": null,
      "outputs": []
    },
    {
      "cell_type": "markdown",
      "source": [
        "# Ejercicios"
      ],
      "metadata": {
        "id": "UjYvijNRjUF2"
      }
    },
    {
      "cell_type": "code",
      "source": [
        "import math\n",
        "\n",
        "radio_km = float(input(\"Ingrese el radio en Kilómetros: \"))\n",
        "g = float(input(\"Ingrese la constante g: \"))\n",
        "radio_mts = radio_km * 1000\n",
        "#body_mass = float(input(\"Ingrese la masa del objeto: \"))\n",
        "\n",
        "velocidad_de_escape = math.sqrt(2 * g * radio_mts)\n",
        "\n",
        "print(f\"La velocidad de escape es: {velocidad_de_escape:.1f} [m/s]\")\n"
      ],
      "metadata": {
        "colab": {
          "base_uri": "https://localhost:8080/"
        },
        "id": "HDgorau8jW0x",
        "outputId": "3781babd-95a4-4b8f-a440-6e3d783f2758"
      },
      "execution_count": null,
      "outputs": [
        {
          "output_type": "stream",
          "name": "stdout",
          "text": [
            "Ingrese el radio en Kilómetros: 6371\n",
            "Ingrese la constante g: 9.8\n",
            "La velocidad de escape es: 11174.6 [m/s]\n"
          ]
        }
      ]
    },
    {
      "cell_type": "markdown",
      "source": [
        "# Listas, tuplas, diccionarios"
      ],
      "metadata": {
        "id": "aBzRvW_nFChX"
      }
    },
    {
      "cell_type": "code",
      "source": [
        "# Pueden ser de distintos tipos de dato.\n",
        "lista_heterogenea = [1, \"gato\", 3.0, False]\n",
        "print(lista_heterogenea)"
      ],
      "metadata": {
        "colab": {
          "base_uri": "https://localhost:8080/"
        },
        "id": "0Mo_K4tWFGAs",
        "outputId": "db057f93-a9bc-4eb7-820e-1bb618d536f3"
      },
      "execution_count": null,
      "outputs": [
        {
          "output_type": "stream",
          "name": "stdout",
          "text": [
            "[1, 'gato', 3.0, False]\n"
          ]
        }
      ]
    },
    {
      "cell_type": "code",
      "source": [
        "# índice parte de 0.\n",
        "colores = [\"verde\", \"rojo\", \"rosa\", \"azul\"]\n",
        "print(colores[0])\n",
        "print(colores[1])\n",
        "print(colores[2])\n",
        "print(colores[3])"
      ],
      "metadata": {
        "colab": {
          "base_uri": "https://localhost:8080/"
        },
        "id": "ZOXJG-sCFUcN",
        "outputId": "63404c73-4621-444b-d852-1b3dbca203d3"
      },
      "execution_count": null,
      "outputs": [
        {
          "output_type": "stream",
          "name": "stdout",
          "text": [
            "verde\n",
            "rojo\n",
            "rosa\n",
            "azul\n"
          ]
        }
      ]
    },
    {
      "cell_type": "code",
      "source": [
        "# Los índices también se pueden utilizar con números negativos y de esta forma referirse a los elementos desde el último al primero.\n",
        "# Parte de -n, no aplica el -1.\n",
        "print(colores[-1])\n",
        "print(colores[-2])\n",
        "print(colores[-3])\n",
        "print(colores[-4])"
      ],
      "metadata": {
        "colab": {
          "base_uri": "https://localhost:8080/"
        },
        "id": "6TX3zts6FyQ9",
        "outputId": "d50135f9-6012-4b64-b5c8-72f791f4857a"
      },
      "execution_count": null,
      "outputs": [
        {
          "output_type": "stream",
          "name": "stdout",
          "text": [
            "azul\n",
            "rosa\n",
            "rojo\n",
            "verde\n"
          ]
        }
      ]
    },
    {
      "cell_type": "code",
      "source": [
        "# Par ordenado inmutable (no se pueden modificar partes de ella, en caso de querer actualizarlo se debe modificar la tupla completa)\n",
        "\n",
        "tupla_ej = (\"Abril\", 2021)\n",
        "type(tupla_ej)"
      ],
      "metadata": {
        "colab": {
          "base_uri": "https://localhost:8080/"
        },
        "id": "IMm_W8ROGVwd",
        "outputId": "71aa4f71-427b-41c1-a1b3-a82a09a64804"
      },
      "execution_count": null,
      "outputs": [
        {
          "output_type": "execute_result",
          "data": {
            "text/plain": [
              "tuple"
            ]
          },
          "metadata": {},
          "execution_count": 53
        }
      ]
    },
    {
      "cell_type": "code",
      "source": [
        "# Una propiedad útil es lo que se llama unpacking o desempaquetamiento:\n",
        "\n",
        "mes, año = tupla_ej\n",
        "print(mes)\n",
        "print(año)"
      ],
      "metadata": {
        "colab": {
          "base_uri": "https://localhost:8080/"
        },
        "id": "2QD7LDQqHG81",
        "outputId": "e4f8857a-5b73-4485-d224-fb232a03e78f"
      },
      "execution_count": null,
      "outputs": [
        {
          "output_type": "stream",
          "name": "stdout",
          "text": [
            "Abril\n",
            "2021\n"
          ]
        }
      ]
    },
    {
      "cell_type": "code",
      "source": [
        "type(año)"
      ],
      "metadata": {
        "colab": {
          "base_uri": "https://localhost:8080/"
        },
        "id": "v_nMjborHpge",
        "outputId": "10cd97c6-1e8e-450a-dfb5-9404cb0d25da"
      },
      "execution_count": null,
      "outputs": [
        {
          "output_type": "execute_result",
          "data": {
            "text/plain": [
              "int"
            ]
          },
          "metadata": {},
          "execution_count": 57
        }
      ]
    },
    {
      "cell_type": "code",
      "source": [
        "#Sets\n",
        "# Este tipo de estructura suele ser bastante útil en análisis de texto, para conocer las palabras únicas que existen en él.\n",
        "\n",
        "muchos_animales = {'Gato', 'Perro', 'Tortuga',\n",
        "'Gato', 'Perro', 'Tortuga',\n",
        "'Gato', 'Perro', 'Tortuga',\n",
        "'Gato', 'Perro', 'Tortuga',\n",
        "'Hurón', 'Hamster', 'Erizo de Tierra'}\n",
        "\n",
        "print(muchos_animales)\n"
      ],
      "metadata": {
        "colab": {
          "base_uri": "https://localhost:8080/"
        },
        "id": "woMHE3LQHx8-",
        "outputId": "ab7bd31a-4fd9-4b59-fb13-db797fa13ff9"
      },
      "execution_count": null,
      "outputs": [
        {
          "output_type": "stream",
          "name": "stdout",
          "text": [
            "{'Gato', 'Perro', 'Hurón', 'Erizo de Tierra', 'Hamster', 'Tortuga'}\n"
          ]
        }
      ]
    },
    {
      "cell_type": "code",
      "source": [
        "# Diccionario\n",
        "# clave:valor\n",
        "\n",
        "# La lista es un elemento ordenado donde el orden lo entrega el índice, en cambio, en un diccionario es un elemento no ordenado, no\n",
        "# hay un elemento que va primero, segundo o último. La única manera de acceder a dicho elemento es mediante su clave.\n",
        "\n",
        "# En una lista usamos la posición para acceder a un elemento, y los índices se generan en forma implícita\n",
        "lista = [25, 31, \"hola\"]\n",
        "lista[2] # \"hola\""
      ],
      "metadata": {
        "colab": {
          "base_uri": "https://localhost:8080/",
          "height": 35
        },
        "id": "7dC6A21OW-o3",
        "outputId": "a5cb681d-d22f-40da-b185-997289ec079f"
      },
      "execution_count": null,
      "outputs": [
        {
          "output_type": "execute_result",
          "data": {
            "text/plain": [
              "'hola'"
            ],
            "application/vnd.google.colaboratory.intrinsic+json": {
              "type": "string"
            }
          },
          "metadata": {},
          "execution_count": 60
        }
      ]
    },
    {
      "cell_type": "code",
      "source": [
        "# En un diccionario usamos la clave, y se deben definir de forma explícita\n",
        "diccionario = {\"a\": 25, \"b\": 31, \"c\": \"hola\"}\n",
        "diccionario[\"c\"] # \"hola\""
      ],
      "metadata": {
        "colab": {
          "base_uri": "https://localhost:8080/",
          "height": 35
        },
        "id": "GZauslFye-vz",
        "outputId": "1abbbc0f-420b-40c2-d2bb-e52afae5e7c8"
      },
      "execution_count": null,
      "outputs": [
        {
          "output_type": "execute_result",
          "data": {
            "text/plain": [
              "'hola'"
            ],
            "application/vnd.google.colaboratory.intrinsic+json": {
              "type": "string"
            }
          },
          "metadata": {},
          "execution_count": 61
        }
      ]
    },
    {
      "cell_type": "code",
      "source": [
        "notas = {\n",
        "\"Camila\": 7,\n",
        "\"Antonio\": 5,\n",
        "\"Felipe\": 6,\n",
        "\"Daniela\": 5,\n",
        "\"Vicente\": 7,\n",
        "}"
      ],
      "metadata": {
        "id": "L5oZjLkvfJRc"
      },
      "execution_count": null,
      "outputs": []
    },
    {
      "cell_type": "code",
      "source": [
        "# Se accede al elemento en un diccionario usando la clave, no tiene un órden y solo puede haber un valor asociado a una clave.\n",
        "notas[\"Felipe\"]"
      ],
      "metadata": {
        "colab": {
          "base_uri": "https://localhost:8080/"
        },
        "id": "kUvNzZ1MfTz1",
        "outputId": "be7bacad-5a3b-4d5b-b6d4-78577830854b"
      },
      "execution_count": null,
      "outputs": [
        {
          "output_type": "execute_result",
          "data": {
            "text/plain": [
              "6"
            ]
          },
          "metadata": {},
          "execution_count": 64
        }
      ]
    },
    {
      "cell_type": "markdown",
      "source": [
        "# Condicionales"
      ],
      "metadata": {
        "id": "coTH34prf42H"
      }
    },
    {
      "cell_type": "code",
      "source": [
        "# IF\n",
        "\n",
        "edad = int(input(\"¿Qué edad tienes?\"))\n",
        "if edad >= 18:\n",
        "   print(\"Eres mayor de edad\")"
      ],
      "metadata": {
        "id": "ZNyFOCJLf9XR"
      },
      "execution_count": null,
      "outputs": []
    },
    {
      "cell_type": "code",
      "source": [
        "if condición:\n",
        "# código que se ejecutará SÓLO SI se cumple la condición\n",
        "else:\n",
        "# código que se ejecutará si NO se cumple la condición"
      ],
      "metadata": {
        "id": "98TtFuBpjs5-"
      },
      "execution_count": null,
      "outputs": []
    },
    {
      "cell_type": "code",
      "source": [
        "# IF + ELSE\n",
        "\n",
        "edad = int(input(\"¿Qué edad tienes? \"))\n",
        "if edad >= 18:\n",
        "   print(\"Eres mayor de edad\")\n",
        "else:\n",
        "   print(\"Eres menor de edad\")"
      ],
      "metadata": {
        "colab": {
          "base_uri": "https://localhost:8080/"
        },
        "id": "l3AK1FHYjuf9",
        "outputId": "2ec0cb41-aeb9-47ed-f4a3-c549189cbfcc"
      },
      "execution_count": null,
      "outputs": [
        {
          "output_type": "stream",
          "name": "stdout",
          "text": [
            "¿Qué edad tienes? 17\n",
            "Eres menor de edad\n"
          ]
        }
      ]
    },
    {
      "cell_type": "code",
      "source": [
        "# elif \"Siempre cumplirá alguna condición\"\n",
        "\n",
        "if condición:\n",
        "# código que se ejecutará SÓLO SI se cumple la condición\n",
        "elif:\n",
        "# código que se ejecutará SÓLO SI se cumple la condición\n",
        "else:\n",
        "# código que se ejecutará si NO se cumple las condiciones anteriores"
      ],
      "metadata": {
        "id": "pXmGT7cJkfF1"
      },
      "execution_count": null,
      "outputs": []
    },
    {
      "cell_type": "code",
      "source": [
        "# IF + ELSE\n",
        "\n",
        "edad = int(input(\"¿Qué edad tienes? \"))\n",
        "if   edad > 18:\n",
        "     print(\"Eres mayor de edad\")\n",
        "elif edad == 18:\n",
        "     print(\"Tienes exactamente 18 años de edad\")\n",
        "else:\n",
        "     print(\"Eres menor de edad\")"
      ],
      "metadata": {
        "colab": {
          "base_uri": "https://localhost:8080/"
        },
        "id": "O7QtQQ40kkOc",
        "outputId": "98385aa6-e61c-49ad-e353-ee335158cabf"
      },
      "execution_count": null,
      "outputs": [
        {
          "output_type": "stream",
          "name": "stdout",
          "text": [
            "¿Qué edad tienes? 17\n",
            "Eres menor de edad\n"
          ]
        }
      ]
    },
    {
      "cell_type": "code",
      "source": [
        "# Ejercicio resuelto\n",
        "\n",
        "valor = int(input('Ingrese el valor a probar: '))\n",
        "if valor ==0:\n",
        "  print('Este número es cero')\n",
        "elif valor % 2 == 0:\n",
        "  print('Este es un número par')\n",
        "else:\n",
        "  print('Este es un número impar')"
      ],
      "metadata": {
        "colab": {
          "base_uri": "https://localhost:8080/"
        },
        "id": "brb8q8O1ly4V",
        "outputId": "5afc68af-814e-4d78-a12e-643fad16e305"
      },
      "execution_count": null,
      "outputs": [
        {
          "output_type": "stream",
          "name": "stdout",
          "text": [
            "Ingrese el valor a probar: 4\n",
            "Este es un número par\n"
          ]
        }
      ]
    },
    {
      "cell_type": "code",
      "source": [
        "# Ejercicio\n",
        "# Crear un programa donde el usuario debe ingresar un password en la plataforma.\n",
        "# Si el password tiene menos de 6 letras, se debe mostrar el aviso:\n",
        "# “El password es demasiado corto”.\n",
        "\n",
        "password = str(input('Ingrese password: '))\n",
        "if len(password)<6:\n",
        "  print('El password es demasiado corto')\n",
        "else:\n",
        "  print('Contraseña correctamente creada')\n"
      ],
      "metadata": {
        "colab": {
          "base_uri": "https://localhost:8080/"
        },
        "id": "mGWMLSDNmXBE",
        "outputId": "e99b933f-862b-48c5-cc8a-1d73036ab224"
      },
      "execution_count": null,
      "outputs": [
        {
          "output_type": "stream",
          "name": "stdout",
          "text": [
            "Ingrese password: Felipe\n",
            "Contraseña correctamente creada\n"
          ]
        }
      ]
    },
    {
      "cell_type": "code",
      "source": [
        "# Ejercicio\n",
        "\n",
        "# Crear un programa donde el usuario debe ingresar un password.\n",
        "# Si el password es 12345, entonces se debe informar que el password es incorrecto.\n",
        "\n",
        "password = int(input('Ingrese password: '))\n",
        "if password != 12345:\n",
        "  print('Contraseña correctamente creada')\n",
        "else:\n",
        "  print('La contraseña es incorrecta!')"
      ],
      "metadata": {
        "colab": {
          "base_uri": "https://localhost:8080/"
        },
        "id": "5irlgJsxmY8o",
        "outputId": "830178ee-cbd6-4d5d-c815-ba1d38438b58"
      },
      "execution_count": null,
      "outputs": [
        {
          "output_type": "stream",
          "name": "stdout",
          "text": [
            "Ingrese password: 12345\n",
            "La contraseña es incorrecta!\n"
          ]
        }
      ]
    },
    {
      "cell_type": "code",
      "source": [
        "# Ejercicio\n",
        "\n",
        "w  = float(input(\"Ingrese el valor de w: \"))\n",
        "h_usuario = int(input(\"Ingrese el valor de h en metros: \"))\n",
        "h = h_usuario / 100\n",
        "\n",
        "# if h_usuario == valor_esperado:\n",
        "#   h = float(input(\"Ingrese el valor específico: \"))\n",
        "# else:\n",
        "#   print(\"Ingrese un valor decimal\")\n",
        "\n",
        "IMC = w / h**2\n",
        "\n",
        "if IMC < 18.5:\n",
        "  print(\"Bajo peso\")\n",
        "elif IMC >= 18.5 and IMC < 25:\n",
        "  print(f\"Peso normal, su IMC es: {IMC:.2f}\")\n",
        "elif IMC >= 25 and IMC < 30:\n",
        "  print(f\"Sobrepeso, su IMC es: {IMC:.2f}\")\n",
        "elif IMC >= 30 and IMC < 35:\n",
        "  print(f\"Obesidad Grado 1, su IMC es: {IMC:.2f}\")\n",
        "elif IMC >= 35 and IMC < 40:\n",
        "  print(f\"Obesidad Grado 2, su IMC es: {IMC:.2f}\")\n",
        "elif IMC > 40:\n",
        "  print(f\"Obesidad Grado 3, su IMC es: {IMC:.2f}\")\n",
        "else:\n",
        "  print(\"Ingrese un valor correcto\")\n"
      ],
      "metadata": {
        "colab": {
          "base_uri": "https://localhost:8080/"
        },
        "id": "4tqfJPDt7wpM",
        "outputId": "babe6cbf-4793-4f07-912a-e7964daecd80"
      },
      "execution_count": null,
      "outputs": [
        {
          "output_type": "stream",
          "name": "stdout",
          "text": [
            "Ingrese el valor de w: 85\n",
            "Ingrese el valor de h en metros: 184\n",
            "Sobrepeso, su IMC es: 25.11\n"
          ]
        }
      ]
    },
    {
      "cell_type": "code",
      "source": [
        "import random\n",
        "\n",
        "opciones = [\"piedra\", \"papel\", \"tijera\"]\n",
        "maquina = random.choice(opciones)\n",
        "usuario = input(\"Ingrese su opción: \")\n",
        "\n",
        "if maquina == usuario:\n",
        "  print(f\"Empate, la máquina eligió: {maquina}\")\n",
        "elif maquina == \"piedra\" and usuario == \"tijera\":\n",
        "  print(f\"Perdíste, máquina gana con {maquina}\")\n",
        "elif maquina == \"piedra\" and usuario == \"tijera\":\n",
        "  print(f\"Perdiste, la máquina gana con {maquina}\")\n",
        "elif maquina == \"tijera\" and usuario == \"papel\":\n",
        "  print(f\"Perdiste, la máquina gana con {maquina}\")\n",
        "elif maquina == \"papel\" and usuario == \"piedra\":\n",
        "  print(f\"Perdiste, la máquina gana con {maquina}\")\n",
        "else:\n",
        "    if usuario not in opciones:\n",
        "        print(\"Opción inválida. Debe elegir entre piedra, papel o tijera.\")\n",
        "    else:\n",
        "        print(f\"Ganaste, la máquina eligió {maquina}\")\n"
      ],
      "metadata": {
        "colab": {
          "base_uri": "https://localhost:8080/"
        },
        "id": "wq3w-C1Jcdvf",
        "outputId": "437bcd8f-b249-4c0f-a0c8-9c4a6d57d380"
      },
      "execution_count": null,
      "outputs": [
        {
          "output_type": "stream",
          "name": "stdout",
          "text": [
            "Ingrese su opción: papel\n",
            "Ganaste, la máquina eligió piedra\n"
          ]
        }
      ]
    },
    {
      "cell_type": "markdown",
      "source": [
        "# For"
      ],
      "metadata": {
        "id": "MxNh-dVZokXp"
      }
    },
    {
      "cell_type": "code",
      "source": [
        "# En Python funciona como un “for each”, es decir, que el for iterará en cada elemento de un objeto. Este objeto tiene una característica que lo define: debe ser un iterable.\n",
        "\n",
        "# Su sintaxis es la siguiente:\n",
        "\"\"\" for variable in iterable:\n",
        "  se ejecutará código para cada valor del iterable.\n",
        "  El código debe estar correctamente indentado.\"\"\""
      ],
      "metadata": {
        "id": "WVyI8ujlos5f"
      },
      "execution_count": null,
      "outputs": []
    },
    {
      "cell_type": "markdown",
      "source": [
        "Un primer iterable y el más común inicialmente, es utilizar la función range(), la que permite\n",
        "generar un espacio con un rango de números. Existen 3 maneras de utilizar range():"
      ],
      "metadata": {
        "id": "83mwqNB3sKAV"
      }
    },
    {
      "cell_type": "code",
      "source": [
        "# Rango de un sólo valor\n",
        "for i in range(10):\n",
        "    print(i)"
      ],
      "metadata": {
        "colab": {
          "base_uri": "https://localhost:8080/"
        },
        "id": "Uv3MOJl-sLJW",
        "outputId": "122d1fad-a8dd-4425-b0e9-51a20ad2f885"
      },
      "execution_count": null,
      "outputs": [
        {
          "output_type": "stream",
          "name": "stdout",
          "text": [
            "0\n",
            "1\n",
            "2\n",
            "3\n",
            "4\n",
            "5\n",
            "6\n",
            "7\n",
            "8\n",
            "9\n"
          ]
        }
      ]
    },
    {
      "cell_type": "code",
      "source": [
        "# Rango entre dos valores\n",
        "for i in range(4,10):\n",
        "    print(i)"
      ],
      "metadata": {
        "colab": {
          "base_uri": "https://localhost:8080/"
        },
        "id": "9x_DbXmjscNN",
        "outputId": "1f2b37c4-9e48-4af5-9523-8a7a323bfcfe"
      },
      "execution_count": null,
      "outputs": [
        {
          "output_type": "stream",
          "name": "stdout",
          "text": [
            "4\n",
            "5\n",
            "6\n",
            "7\n",
            "8\n",
            "9\n"
          ]
        }
      ]
    },
    {
      "cell_type": "code",
      "source": [
        "# rango entre 4 a 9 y de dos saltos.\n",
        "for i in range(4,10,2):\n",
        "    print(i)"
      ],
      "metadata": {
        "colab": {
          "base_uri": "https://localhost:8080/"
        },
        "id": "xv6trmtsskNW",
        "outputId": "ce56ba2d-280e-44d9-d9b4-c009b1e03253"
      },
      "execution_count": null,
      "outputs": [
        {
          "output_type": "stream",
          "name": "stdout",
          "text": [
            "4\n",
            "6\n",
            "8\n"
          ]
        }
      ]
    },
    {
      "cell_type": "code",
      "source": [
        "# Iterar sobre una lista\n",
        "\n",
        "lista = [1,2,3,4,5]\n",
        "\n",
        "for elemento in lista:\n",
        "    print(elemento)"
      ],
      "metadata": {
        "colab": {
          "base_uri": "https://localhost:8080/"
        },
        "id": "IdbyCrPqs24W",
        "outputId": "b313bb06-b668-42e8-8b4f-021364a9126f"
      },
      "execution_count": null,
      "outputs": [
        {
          "output_type": "stream",
          "name": "stdout",
          "text": [
            "1\n",
            "2\n",
            "3\n",
            "4\n",
            "5\n"
          ]
        }
      ]
    },
    {
      "cell_type": "code",
      "source": [
        "# Iterar sobre un string\n",
        "\n",
        "string = \"Hola Mundo\"\n",
        "\n",
        "for letra in string:\n",
        "    print(letra)"
      ],
      "metadata": {
        "colab": {
          "base_uri": "https://localhost:8080/"
        },
        "id": "8efvLVCvtW9v",
        "outputId": "0ce0b0fa-ae0a-4824-b11f-3016de9036da"
      },
      "execution_count": null,
      "outputs": [
        {
          "output_type": "stream",
          "name": "stdout",
          "text": [
            "H\n",
            "o\n",
            "l\n",
            "a\n",
            " \n",
            "M\n",
            "u\n",
            "n\n",
            "d\n",
            "o\n"
          ]
        }
      ]
    },
    {
      "cell_type": "markdown",
      "source": [
        "El ciclo for permite nombrar la variable iteradora\n",
        "de cualquier manera, por lo tanto, es conveniente utilizar un nombre\n",
        "variable que sea representativo de lo que se está iterando."
      ],
      "metadata": {
        "id": "LLgWnbv6tstm"
      }
    },
    {
      "cell_type": "code",
      "source": [
        "# Diccionario\n",
        "\n",
        "# Un diccionario se compone de una clave y un valor, es por eso que la manera más común de iterar diccionarios es utilizando\n",
        "# .items()\n",
        "\n",
        "diccionario = {\"Nombre\": \"Oliver\",\n",
        "              \"Apellido\": \"Aton\",\n",
        "              \"Ocupación\": \"Futbolista\"}\n",
        "\n",
        "for clave, valor in diccionario.items():\n",
        "    print(f\"Mi {clave} es {valor}\")"
      ],
      "metadata": {
        "colab": {
          "base_uri": "https://localhost:8080/"
        },
        "id": "wu1cfr7kty6-",
        "outputId": "337222d3-261a-4e75-8e36-7681018c0fec"
      },
      "execution_count": null,
      "outputs": [
        {
          "output_type": "stream",
          "name": "stdout",
          "text": [
            "Mi Nombre es Oliver\n",
            "Mi Apellido es Aton\n",
            "Mi Ocupación es Futbolista\n"
          ]
        }
      ]
    },
    {
      "cell_type": "code",
      "source": [
        "vista_items = diccionario.items()\n",
        "print(vista_items)"
      ],
      "metadata": {
        "colab": {
          "base_uri": "https://localhost:8080/"
        },
        "id": "ppsJzLhWu6d2",
        "outputId": "8f50c70a-5dc1-4f7a-bd60-be9496e56c94"
      },
      "execution_count": null,
      "outputs": [
        {
          "output_type": "stream",
          "name": "stdout",
          "text": [
            "dict_items([('Nombre', 'Oliver'), ('Apellido', 'Aton'), ('Ocupación', 'Futbolista')])\n"
          ]
        }
      ]
    },
    {
      "cell_type": "code",
      "source": [
        "# Se accede a un elemento mediante su clave.\n",
        "diccionario[\"Ocupación\"]"
      ],
      "metadata": {
        "colab": {
          "base_uri": "https://localhost:8080/",
          "height": 35
        },
        "id": "PbsPH5WHvAMU",
        "outputId": "1c0e4930-d397-4009-8cbd-ee894f5b6800"
      },
      "execution_count": null,
      "outputs": [
        {
          "output_type": "execute_result",
          "data": {
            "text/plain": [
              "'Futbolista'"
            ],
            "application/vnd.google.colaboratory.intrinsic+json": {
              "type": "string"
            }
          },
          "metadata": {},
          "execution_count": 40
        }
      ]
    },
    {
      "cell_type": "markdown",
      "source": [
        ".items()"
      ],
      "metadata": {
        "id": "NRxP1FXU2a2h"
      }
    },
    {
      "cell_type": "code",
      "source": [
        "# .items () representa una vista dinámica de los pares clave-valor del diccionario, que se puede iterar o convertir en una lista.\n",
        "# Es dinámica porque refleja en tiempo real los cambios en el diccionario original. Si añades, eliminas o modificas pares clave-valor\n",
        "# en el diccionario después de obtener la vista con .items(), esos cambios se reflejarán automáticamente en la vista dict_items.\n",
        "\n",
        "print(type(vista_items))"
      ],
      "metadata": {
        "colab": {
          "base_uri": "https://localhost:8080/"
        },
        "id": "Jf4_7wp6vXiE",
        "outputId": "a232fb12-9062-4041-8a6c-cc1737f6c526"
      },
      "execution_count": null,
      "outputs": [
        {
          "output_type": "stream",
          "name": "stdout",
          "text": [
            "<class 'dict_items'>\n"
          ]
        }
      ]
    },
    {
      "cell_type": "code",
      "source": [
        "# Puedes transformar el .items en una lista.\n",
        "lista_items = list(vista_items)\n",
        "print(lista_items)\n",
        "print(lista_items[2])"
      ],
      "metadata": {
        "colab": {
          "base_uri": "https://localhost:8080/"
        },
        "id": "lHyCdhAlv_s-",
        "outputId": "6dbafd87-fabc-46f6-eb12-7ec52e0f11d8"
      },
      "execution_count": null,
      "outputs": [
        {
          "output_type": "stream",
          "name": "stdout",
          "text": [
            "[('Nombre', 'Oliver'), ('Apellido', 'Aton'), ('Ocupación', 'Futbolista')]\n",
            "('Ocupación', 'Futbolista')\n"
          ]
        }
      ]
    },
    {
      "cell_type": "code",
      "source": [
        "for clave, valor in diccionario.items():\n",
        "    print(f\"Mi claves es: {clave} y mi valor es: {valor}\")"
      ],
      "metadata": {
        "colab": {
          "base_uri": "https://localhost:8080/"
        },
        "id": "m_PiYZD-wxaF",
        "outputId": "da5dcadb-857b-46bd-b637-919644810c78"
      },
      "execution_count": null,
      "outputs": [
        {
          "output_type": "stream",
          "name": "stdout",
          "text": [
            "Mi claves es: Nombre y mi valor es: Oliver\n",
            "Mi claves es: Apellido y mi valor es: Aton\n",
            "Mi claves es: Ocupación y mi valor es: Futbolista\n"
          ]
        }
      ]
    },
    {
      "cell_type": "markdown",
      "source": [
        "Enumerate permite iterar sobre una secuencia (como una lista) y obtener tanto el índice como el valor de cada elemento durante la iteración."
      ],
      "metadata": {
        "id": "KlxSS6Ri2TK9"
      }
    },
    {
      "cell_type": "code",
      "source": [
        "# Enumerate\n",
        "\n",
        "lista_2 = [\"manzana\", \"plátano\", \"pera\", \"frutilla\"]\n",
        "\n",
        "for posicion, elemento in enumerate(lista_2):\n",
        "    print(f\"El elemento {elemento} está en la posición {posicion}\")"
      ],
      "metadata": {
        "colab": {
          "base_uri": "https://localhost:8080/"
        },
        "id": "nfAcGjaUyC9W",
        "outputId": "b7710ab1-c546-4211-9527-653a18f56991"
      },
      "execution_count": null,
      "outputs": [
        {
          "output_type": "stream",
          "name": "stdout",
          "text": [
            "El elemento manzana está en la posición 0\n",
            "El elemento plátano está en la posición 1\n",
            "El elemento pera está en la posición 2\n",
            "El elemento frutilla está en la posición 3\n"
          ]
        }
      ]
    },
    {
      "cell_type": "code",
      "source": [
        "# Enumerate con strings\n",
        "\n",
        "texto = \"hola\"\n",
        "for pos, letra in enumerate(texto):\n",
        "    print(f\"La letra en la posición {pos} es la {letra}\")"
      ],
      "metadata": {
        "colab": {
          "base_uri": "https://localhost:8080/"
        },
        "id": "0Vj12HKT2lt6",
        "outputId": "1f5de26f-1708-4125-a926-5c8c97a1bb7a"
      },
      "execution_count": null,
      "outputs": [
        {
          "output_type": "stream",
          "name": "stdout",
          "text": [
            "La letra en la posición 0 es la h\n",
            "La letra en la posición 1 es la o\n",
            "La letra en la posición 2 es la l\n",
            "La letra en la posición 3 es la a\n"
          ]
        }
      ]
    },
    {
      "cell_type": "code",
      "source": [
        "# Extraer letra de un string\n",
        "texto[0]"
      ],
      "metadata": {
        "colab": {
          "base_uri": "https://localhost:8080/",
          "height": 35
        },
        "id": "D-cswnOt2uhp",
        "outputId": "9369a408-5fdd-4470-86c4-ff2d290d8aa7"
      },
      "execution_count": null,
      "outputs": [
        {
          "output_type": "execute_result",
          "data": {
            "text/plain": [
              "'h'"
            ],
            "application/vnd.google.colaboratory.intrinsic+json": {
              "type": "string"
            }
          },
          "metadata": {},
          "execution_count": 47
        }
      ]
    },
    {
      "cell_type": "markdown",
      "source": [
        "La función zip() en Python se usa para combinar dos o más iterables (como listas, tuplas, etc.) en un solo iterable."
      ],
      "metadata": {
        "id": "Jy1MLAd54LYr"
      }
    },
    {
      "cell_type": "code",
      "source": [
        "# .zip()\n",
        "\n",
        "prefijo = ['La','El','La','El']\n",
        "frutas = ['manzana', 'platano','frutilla','tomate']\n",
        "colores = ['verde','amarillo','roja','rojo']\n",
        "\n",
        "for p, fruta, color in zip(prefijo, frutas, colores):\n",
        "    print(f'{p} {fruta} es de color {color}')"
      ],
      "metadata": {
        "colab": {
          "base_uri": "https://localhost:8080/"
        },
        "id": "VvNoj5T44Nir",
        "outputId": "6fe1c2ea-c8b0-4370-e972-f696bbdc24d5"
      },
      "execution_count": null,
      "outputs": [
        {
          "output_type": "stream",
          "name": "stdout",
          "text": [
            "La manzana es de color verde\n",
            "El platano es de color amarillo\n",
            "La frutilla es de color roja\n",
            "El tomate es de color rojo\n"
          ]
        }
      ]
    },
    {
      "cell_type": "markdown",
      "source": [
        "While\n",
        "\n",
        "\n",
        "El bucle while en Python se utiliza para ejecutar un bloque de código repetidamente mientras se cumpla una condición. La estructura básica de un bucle while es:"
      ],
      "metadata": {
        "id": "OfaOfamyXHjy"
      }
    },
    {
      "cell_type": "code",
      "source": [
        "while condición:\n",
        "    # Código a ejecutar mientras la condición sea True"
      ],
      "metadata": {
        "id": "05IaXX8VXIvk"
      },
      "execution_count": null,
      "outputs": []
    },
    {
      "cell_type": "markdown",
      "source": [
        "Bucle Infinito\n",
        "\n",
        "Un bucle while sin una condición que eventualmente se vuelva False es un bucle infinito:"
      ],
      "metadata": {
        "id": "dFeqRssLXicc"
      }
    },
    {
      "cell_type": "code",
      "source": [
        "while True:\n",
        "    print(\"Esto es un bucle infinito\")\n",
        "    # Necesitarías una forma de salir del bucle, como una instrucción `break`"
      ],
      "metadata": {
        "id": "6RDSYeuoXgi8"
      },
      "execution_count": null,
      "outputs": []
    },
    {
      "cell_type": "markdown",
      "source": [
        "Break"
      ],
      "metadata": {
        "id": "Wy0A9IjGWXNO"
      }
    },
    {
      "cell_type": "code",
      "source": [
        "i = 0\n",
        "while i < 10:\n",
        "  i += 1\n",
        "  if i == 5:\n",
        "      break\n",
        "  print(i)"
      ],
      "metadata": {
        "colab": {
          "base_uri": "https://localhost:8080/"
        },
        "id": "7SwCoq_xWYpJ",
        "outputId": "9d8a02c4-1e18-426d-9c9f-a97bc521d69e"
      },
      "execution_count": null,
      "outputs": [
        {
          "output_type": "stream",
          "name": "stdout",
          "text": [
            "1\n",
            "2\n",
            "3\n",
            "4\n"
          ]
        }
      ]
    },
    {
      "cell_type": "markdown",
      "source": [
        "Continue\n",
        "\n",
        "Puedes usar continue para saltar el resto del código en la iteración actual y pasar a la siguiente iteración del bucle:"
      ],
      "metadata": {
        "id": "QCR9jkvjX2Je"
      }
    },
    {
      "cell_type": "code",
      "source": [
        "contador = 0\n",
        "\n",
        "while contador < 5:\n",
        "    contador += 1\n",
        "    if contador == 3:\n",
        "        continue  # Salta la impresión cuando contador es 3\n",
        "    print(contador)"
      ],
      "metadata": {
        "colab": {
          "base_uri": "https://localhost:8080/"
        },
        "id": "mtjYxXrrX3N0",
        "outputId": "9ad81f13-0cbc-4867-d329-8ff1c867d604"
      },
      "execution_count": null,
      "outputs": [
        {
          "output_type": "stream",
          "name": "stdout",
          "text": [
            "1\n",
            "2\n",
            "4\n",
            "5\n"
          ]
        }
      ]
    },
    {
      "cell_type": "markdown",
      "source": [
        "Ejercicio"
      ],
      "metadata": {
        "id": "91Yzv1vmZqQL"
      }
    },
    {
      "cell_type": "code",
      "source": [
        "import random\n",
        "import sys\n",
        "\n",
        "buscar = 4 #\n",
        "lista = [1,2,3,4,5,6,7,8,9,0]\n",
        "\n",
        "# .shuffle de la librería random permite mezclar la lista de dígitos para aumentar un poco la dificultad.\n",
        "random.shuffle(lista)\n",
        "\n",
        "for position, elemento in enumerate(lista):\n",
        "    if elemento == buscar:\n",
        "       print(\"¡Elemento encontrado! Se terminará del ciclo\")\n",
        "       break\n",
        "    else:\n",
        "       print(\"Elemento no encontrado\")\n",
        "print(\"Ha terminado el ciclo\")\n",
        "print(f'El elemento {buscar} se encontró en la posición {position}')\n",
        "print(f'La lista mezclada es: {lista}')"
      ],
      "metadata": {
        "colab": {
          "base_uri": "https://localhost:8080/"
        },
        "id": "LNzQnrWyZpnK",
        "outputId": "5e8f41d3-4588-4f71-fb6a-d80e8979bcd4"
      },
      "execution_count": null,
      "outputs": [
        {
          "output_type": "stream",
          "name": "stdout",
          "text": [
            "Elemento no encontrado\n",
            "Elemento no encontrado\n",
            "¡Elemento encontrado! Se terminará del ciclo\n",
            "Ha terminado el ciclo\n",
            "El elemento 4 se encontró en la posición 2\n",
            "La lista mezclada es: [6, 2, 4, 9, 8, 1, 7, 0, 3, 5]\n"
          ]
        }
      ]
    },
    {
      "cell_type": "code",
      "source": [
        "random.shuffle(lista)\n",
        "print(lista)"
      ],
      "metadata": {
        "colab": {
          "base_uri": "https://localhost:8080/"
        },
        "id": "cwKJg3AWbKqT",
        "outputId": "c8f7ac94-a0e5-4e0a-ee03-5b310551141c"
      },
      "execution_count": null,
      "outputs": [
        {
          "output_type": "stream",
          "name": "stdout",
          "text": [
            "[9, 6, 1, 4, 0, 7, 5, 2, 3, 8]\n"
          ]
        }
      ]
    },
    {
      "cell_type": "code",
      "source": [
        "for numero1 in range(10):\n",
        "    print(f'\\nTabla del {numero1}:------------------------------\\n')\n",
        "    for numero2 in range(10):\n",
        "        print(f\"{numero1} * {numero2} = {numero1*numero2}\")"
      ],
      "metadata": {
        "colab": {
          "base_uri": "https://localhost:8080/"
        },
        "id": "n_CvDg9ChZcP",
        "outputId": "dd891334-7b4b-49cf-bac9-309d6a8fb96b"
      },
      "execution_count": null,
      "outputs": [
        {
          "output_type": "stream",
          "name": "stdout",
          "text": [
            "\n",
            "Tabla del 0:------------------------------\n",
            "\n",
            "0 * 0 = 0\n",
            "0 * 1 = 0\n",
            "0 * 2 = 0\n",
            "0 * 3 = 0\n",
            "0 * 4 = 0\n",
            "0 * 5 = 0\n",
            "0 * 6 = 0\n",
            "0 * 7 = 0\n",
            "0 * 8 = 0\n",
            "0 * 9 = 0\n",
            "\n",
            "Tabla del 1:------------------------------\n",
            "\n",
            "1 * 0 = 0\n",
            "1 * 1 = 1\n",
            "1 * 2 = 2\n",
            "1 * 3 = 3\n",
            "1 * 4 = 4\n",
            "1 * 5 = 5\n",
            "1 * 6 = 6\n",
            "1 * 7 = 7\n",
            "1 * 8 = 8\n",
            "1 * 9 = 9\n",
            "\n",
            "Tabla del 2:------------------------------\n",
            "\n",
            "2 * 0 = 0\n",
            "2 * 1 = 2\n",
            "2 * 2 = 4\n",
            "2 * 3 = 6\n",
            "2 * 4 = 8\n",
            "2 * 5 = 10\n",
            "2 * 6 = 12\n",
            "2 * 7 = 14\n",
            "2 * 8 = 16\n",
            "2 * 9 = 18\n",
            "\n",
            "Tabla del 3:------------------------------\n",
            "\n",
            "3 * 0 = 0\n",
            "3 * 1 = 3\n",
            "3 * 2 = 6\n",
            "3 * 3 = 9\n",
            "3 * 4 = 12\n",
            "3 * 5 = 15\n",
            "3 * 6 = 18\n",
            "3 * 7 = 21\n",
            "3 * 8 = 24\n",
            "3 * 9 = 27\n",
            "\n",
            "Tabla del 4:------------------------------\n",
            "\n",
            "4 * 0 = 0\n",
            "4 * 1 = 4\n",
            "4 * 2 = 8\n",
            "4 * 3 = 12\n",
            "4 * 4 = 16\n",
            "4 * 5 = 20\n",
            "4 * 6 = 24\n",
            "4 * 7 = 28\n",
            "4 * 8 = 32\n",
            "4 * 9 = 36\n",
            "\n",
            "Tabla del 5:------------------------------\n",
            "\n",
            "5 * 0 = 0\n",
            "5 * 1 = 5\n",
            "5 * 2 = 10\n",
            "5 * 3 = 15\n",
            "5 * 4 = 20\n",
            "5 * 5 = 25\n",
            "5 * 6 = 30\n",
            "5 * 7 = 35\n",
            "5 * 8 = 40\n",
            "5 * 9 = 45\n",
            "\n",
            "Tabla del 6:------------------------------\n",
            "\n",
            "6 * 0 = 0\n",
            "6 * 1 = 6\n",
            "6 * 2 = 12\n",
            "6 * 3 = 18\n",
            "6 * 4 = 24\n",
            "6 * 5 = 30\n",
            "6 * 6 = 36\n",
            "6 * 7 = 42\n",
            "6 * 8 = 48\n",
            "6 * 9 = 54\n",
            "\n",
            "Tabla del 7:------------------------------\n",
            "\n",
            "7 * 0 = 0\n",
            "7 * 1 = 7\n",
            "7 * 2 = 14\n",
            "7 * 3 = 21\n",
            "7 * 4 = 28\n",
            "7 * 5 = 35\n",
            "7 * 6 = 42\n",
            "7 * 7 = 49\n",
            "7 * 8 = 56\n",
            "7 * 9 = 63\n",
            "\n",
            "Tabla del 8:------------------------------\n",
            "\n",
            "8 * 0 = 0\n",
            "8 * 1 = 8\n",
            "8 * 2 = 16\n",
            "8 * 3 = 24\n",
            "8 * 4 = 32\n",
            "8 * 5 = 40\n",
            "8 * 6 = 48\n",
            "8 * 7 = 56\n",
            "8 * 8 = 64\n",
            "8 * 9 = 72\n",
            "\n",
            "Tabla del 9:------------------------------\n",
            "\n",
            "9 * 0 = 0\n",
            "9 * 1 = 9\n",
            "9 * 2 = 18\n",
            "9 * 3 = 27\n",
            "9 * 4 = 36\n",
            "9 * 5 = 45\n",
            "9 * 6 = 54\n",
            "9 * 7 = 63\n",
            "9 * 8 = 72\n",
            "9 * 9 = 81\n"
          ]
        }
      ]
    },
    {
      "cell_type": "markdown",
      "source": [
        "While\n",
        "\n",
        "Permite ejecutar una o más operaciones mientras se cumpla una condición."
      ],
      "metadata": {
        "id": "fXsaufsk1LU4"
      }
    },
    {
      "cell_type": "code",
      "source": [
        "while condición:\n",
        "# código a implementar"
      ],
      "metadata": {
        "id": "ODGnurlW1Nnl"
      },
      "execution_count": null,
      "outputs": []
    },
    {
      "cell_type": "code",
      "source": [
        "numero_entrada = int(input(\"Ingrese un número: \"))\n",
        "\n",
        "while numero_entrada > 0:\n",
        "  print(numero_entrada)\n",
        "  numero_entrada -= 1\n",
        "print(\"BOOM!\")"
      ],
      "metadata": {
        "colab": {
          "base_uri": "https://localhost:8080/"
        },
        "id": "V7vk5Ldx4280",
        "outputId": "5994cda6-8d3d-4349-be37-b04e90415dd0"
      },
      "execution_count": null,
      "outputs": [
        {
          "output_type": "stream",
          "name": "stdout",
          "text": [
            "Ingrese un número: 10\n",
            "10\n",
            "9\n",
            "8\n",
            "7\n",
            "6\n",
            "5\n",
            "4\n",
            "3\n",
            "2\n",
            "1\n",
            "BOOM!\n"
          ]
        }
      ]
    },
    {
      "cell_type": "code",
      "source": [
        "# Ejercicio 1\n",
        "\n",
        "ventas = {\n",
        "\"Enero\": 15000,\n",
        "\"Febrero\": 22000,\n",
        "\"Marzo\": 12000,\n",
        "\"Abril\": 17000,\n",
        "\"Mayo\": 81000,\n",
        "\"Junio\": 13000,\n",
        "\"Julio\": 21000,\n",
        "\"Agosto\": 41200,\n",
        "\"Septiembre\": 25000,\n",
        "\"Octubre\": 21500,\n",
        "\"Noviembre\": 91000,\n",
        "\"Diciembre\": 21000,\n",
        "}\n",
        "\n",
        "resultados = {}\n",
        "\n",
        "for clave, valor in ventas.items():\n",
        "    if valor > 40000:\n",
        "        resultados[clave] = f'${valor:.0f}'\n",
        "print(f\" Las ventas superiores a $40.000 son: {resultados}\")\n"
      ],
      "metadata": {
        "colab": {
          "base_uri": "https://localhost:8080/"
        },
        "id": "h4GUG2x4cASn",
        "outputId": "114d467f-4148-4cb2-c655-3e277209055c"
      },
      "execution_count": null,
      "outputs": [
        {
          "output_type": "stream",
          "name": "stdout",
          "text": [
            " Las ventas superiores a $40.000 son: {'Mayo': '$81000', 'Agosto': '$41200', 'Noviembre': '$91000'}\n"
          ]
        }
      ]
    },
    {
      "cell_type": "code",
      "source": [
        "respuesta_usuario = input(\"¿Responde a estímulos? SI/NO:\")\n",
        "\n",
        "if respuesta_usuario == \"SI\":\n",
        "  print(\"Valorar necesidad de hospitalización\")\n",
        "elif respuesta_usuario == \"NO\":\n",
        "  print(\"Abrir vía aérea\")\n",
        "  print('¿Respira?')\n",
        "  rspt_2 = input(\"SI/NO:\")\n",
        "  if rspt_2 == \"SI\":\n",
        "      print(\"Puede respirar por si sólo, esperar reincorporación\")\n",
        "  elif rspt_2 == \"NO\":\n",
        "      print(\"Administrar 5 ventilaciones y llamar a la ambulancia\")\n",
        "      print(\"¿Signos de vida?\")\n",
        "      rspt_3 = input(\"SI/NO:\")\n",
        "      if rspt_3 == \"SI\":\n",
        "          print(\"Administrar compresiones torácicas hasta que llegue ambulancia\")\n",
        "      elif rspt_3 == \"NO\":\n",
        "          print(\"Reevaluar a la espera de ambulancia\")\n",
        "          print(\"¿Llegó la ambulancia?\")\n",
        "          rspt_4 = input(\"SI/NO:\")\n",
        "          if rspt_4 == \"SI\":\n",
        "              print(\"Entregar paciente a ambulancia\")\n",
        "          elif rspt_4 == \"NO\":\n",
        "\n"
      ],
      "metadata": {
        "colab": {
          "base_uri": "https://localhost:8080/"
        },
        "id": "RvVhcNZ3EjKO",
        "outputId": "2d3e316c-1b1a-45b2-e581-2d32820abbf5"
      },
      "execution_count": null,
      "outputs": [
        {
          "output_type": "stream",
          "name": "stdout",
          "text": [
            "¿Responde a estímulos? SI/NO:NO\n",
            "Abrir vía aérea\n",
            "¿Respira?\n",
            "SI/NO:NO\n",
            "Administrar 5 ventilaciones y llamar a la ambulancia\n",
            "¿Signos de vida?\n",
            "SI/NO:NO\n",
            "Reevaluar a la espera de ambulancia\n",
            "¿Llegó la ambulancia?\n",
            "SI/NO:SI\n",
            "Fin\n"
          ]
        }
      ]
    },
    {
      "cell_type": "code",
      "source": [
        "import string\n",
        "\n",
        "# Contraseña ingresada por el usuario\n",
        "contraseña = \"gato\"\n",
        "\n",
        "# Abecedario en mayúsculas usando string.ascii_uppercase\n",
        "abecedario = string.ascii_lowercase\n",
        "\n",
        "# Variable para almacenar la contraseña encontrada\n",
        "contraseña_encontrada = \"\"\n",
        "\n",
        "# Variable para almacenar los intentos realizados\n",
        "can_intentos = 0\n",
        "\n",
        "# Variable de control para la posición en la contraseña\n",
        "indice = 0\n",
        "\n",
        "# Usar un while para buscar cada letra de la contraseña en el abecedario\n",
        "while indice < len(contraseña):\n",
        "    letra_buscada = contraseña[indice]  # Letra actual de la contraseña a buscar comienza con indice 0.\n",
        "    posicion_abc = 0  # Inicializar la posición del abecedario\n",
        "    intentos = 0\n",
        "\n",
        "    # Buscar la letra actual en el abecedario, si la encuentra se vuelva falso, y sale de este bucle.\n",
        "    while letra_buscada != abecedario[posicion_abc]: # cuando encuentra la letra se transforma en letra_buscada == abecedario[posicion_abc] y pasa a agregarse a contraseña_encontrada.\n",
        "        posicion_abc += 1\n",
        "        intentos += 1\n",
        "\n",
        "    # Agregar la letra encontrada a la contraseña encontrada\n",
        "    contraseña_encontrada += abecedario[posicion_abc]\n",
        "    can_intentos += intentos\n",
        "\n",
        "    # Avanzar al siguiente carácter de la contraseña, dado que comenzo en indice  = 0, siempre va.\n",
        "    indice += 1\n",
        "\n",
        "# Mostrar la contraseña encontrada\n",
        "print(f\"La contraseña encontrada es: {contraseña_encontrada}\")\n",
        "print(f\"Cantidad de intentos realizados: {can_intentos}\")"
      ],
      "metadata": {
        "colab": {
          "base_uri": "https://localhost:8080/"
        },
        "id": "PK_lbpOm7AVW",
        "outputId": "58498848-434d-423a-ea18-a6421852d8c6"
      },
      "execution_count": null,
      "outputs": [
        {
          "output_type": "stream",
          "name": "stdout",
          "text": [
            "La contraseña encontrada es: gato\n",
            "Cantidad de intentos realizados: 39\n"
          ]
        }
      ]
    },
    {
      "cell_type": "code",
      "source": [
        "numeros_pares = []\n",
        "\n",
        "for i in range(10):\n",
        "    if i % 2 == 0:\n",
        "       numeros_pares.append(i)\n",
        "print(numeros_pares)"
      ],
      "metadata": {
        "colab": {
          "base_uri": "https://localhost:8080/"
        },
        "id": "_XdwhFbgBStn",
        "outputId": "79125b8c-1e53-4bb7-9545-44f2e4fff47c"
      },
      "execution_count": null,
      "outputs": [
        {
          "output_type": "stream",
          "name": "stdout",
          "text": [
            "[0, 2, 4, 6, 8]\n"
          ]
        }
      ]
    },
    {
      "cell_type": "code",
      "source": [
        "lista_numeros = []\n",
        "\n",
        "for i in range(5):\n",
        "  i += 10\n",
        "  lista_numeros.append(i)\n",
        "print(lista_numeros)"
      ],
      "metadata": {
        "colab": {
          "base_uri": "https://localhost:8080/"
        },
        "id": "BYFW693fCAEw",
        "outputId": "4657c0e7-0d26-43b3-89ec-4410a4d3fb1a"
      },
      "execution_count": null,
      "outputs": [
        {
          "output_type": "stream",
          "name": "stdout",
          "text": [
            "[10, 11, 12, 13, 14]\n"
          ]
        }
      ]
    },
    {
      "cell_type": "code",
      "source": [
        "contador = 0\n",
        "\n",
        "while contador < 10:\n",
        "    contador += 1\n",
        "    print(contador)"
      ],
      "metadata": {
        "colab": {
          "base_uri": "https://localhost:8080/"
        },
        "id": "ZcdywKDLC5i9",
        "outputId": "ec9097da-cf6b-4ecb-d02a-15c4740c20ea"
      },
      "execution_count": null,
      "outputs": [
        {
          "output_type": "stream",
          "name": "stdout",
          "text": [
            "1\n",
            "2\n",
            "3\n",
            "4\n",
            "5\n",
            "6\n",
            "7\n",
            "8\n",
            "9\n",
            "10\n"
          ]
        }
      ]
    },
    {
      "cell_type": "code",
      "source": [
        "contador_2 = []\n",
        "\n",
        "for i in range(20):\n",
        "    i +=1\n",
        "    contador_2.append(i)\n",
        "print(contador_2)"
      ],
      "metadata": {
        "colab": {
          "base_uri": "https://localhost:8080/"
        },
        "id": "WGljGwssD3dd",
        "outputId": "c5add2b2-b04f-4154-c0a7-4cba0056208d"
      },
      "execution_count": null,
      "outputs": [
        {
          "output_type": "stream",
          "name": "stdout",
          "text": [
            "[1, 2, 3, 4, 5, 6, 7, 8, 9, 10, 11, 12, 13, 14, 15, 16, 17, 18, 19, 20]\n"
          ]
        }
      ]
    },
    {
      "cell_type": "markdown",
      "source": [
        "# Métodos"
      ],
      "metadata": {
        "id": "ZQc7Mjlv5lF5"
      }
    },
    {
      "cell_type": "code",
      "source": [
        "# Método append(x) sólo listas.\n",
        "\n",
        "lista_ejemplo = [1,2,3,4,5,6]\n",
        "\n",
        "numeros_par = []\n",
        "\n",
        "for elemento in lista_ejemplo:\n",
        "  if elemento % 2 == 0:\n",
        "    numeros_par.append(elemento)\n",
        "print(numeros_par)"
      ],
      "metadata": {
        "colab": {
          "base_uri": "https://localhost:8080/"
        },
        "id": "CewG-eeA5ok_",
        "outputId": "15d30863-f40d-4328-8e40-e6aac2d893dd"
      },
      "execution_count": null,
      "outputs": [
        {
          "output_type": "stream",
          "name": "stdout",
          "text": [
            "[2, 4, 6]\n"
          ]
        }
      ]
    },
    {
      "cell_type": "code",
      "source": [
        "lista_ejemplo.append(7)\n",
        "print(lista_ejemplo)"
      ],
      "metadata": {
        "colab": {
          "base_uri": "https://localhost:8080/"
        },
        "id": "T43xKqa_dy-0",
        "outputId": "0d387891-8d65-4cb2-9ce0-fac9862c96bf"
      },
      "execution_count": null,
      "outputs": [
        {
          "output_type": "stream",
          "name": "stdout",
          "text": [
            "[1, 2, 3, 4, 5, 6, 7]\n"
          ]
        }
      ]
    },
    {
      "cell_type": "code",
      "source": [
        "colores = [\"verde\",\"amarillo\",\"rojo\"]\n",
        "colores.append(\"Azul\")\n",
        "print(colores)"
      ],
      "metadata": {
        "colab": {
          "base_uri": "https://localhost:8080/"
        },
        "id": "4zg1dSRDd4ns",
        "outputId": "5605622a-7731-42c3-f90c-9df21610f97a"
      },
      "execution_count": null,
      "outputs": [
        {
          "output_type": "stream",
          "name": "stdout",
          "text": [
            "['verde', 'amarillo', 'rojo', 'Azul']\n"
          ]
        }
      ]
    },
    {
      "cell_type": "code",
      "source": [
        "# Método insert(i,x)\n",
        "\n",
        "# Insertar valor dentro de una lista con el índice deseado.\n",
        "\n",
        "lista_ejemplo.insert(8,20)\n",
        "print(lista_ejemplo)\n",
        "print(lista_ejemplo[8])"
      ],
      "metadata": {
        "colab": {
          "base_uri": "https://localhost:8080/"
        },
        "id": "T_o4FOQskzgg",
        "outputId": "c0369825-a50d-4bbf-d679-3801f08e4b3d"
      },
      "execution_count": null,
      "outputs": [
        {
          "output_type": "stream",
          "name": "stdout",
          "text": [
            "[1, 2, 3, 4, 5, 6, 7, 20, 20]\n",
            "20\n"
          ]
        }
      ]
    },
    {
      "cell_type": "code",
      "source": [
        "# Método pop() y remove()\n",
        "\n",
        "colores_1 = ['verde', 'rojo', 'rosa', 'azul']\n",
        "colores_1.pop(3)\n",
        "print(f\"Colores_1 {colores_1}\")\n",
        "\n",
        "colores_2 = ['rojo', 'rosa']\n",
        "colores_2.remove(\"rojo\")\n",
        "print(f\"Colores_2 {colores_2}\")"
      ],
      "metadata": {
        "id": "s8Q-iPO-lx04",
        "colab": {
          "base_uri": "https://localhost:8080/"
        },
        "outputId": "657ed8d8-e082-44d2-ffc2-36cdd07874b5"
      },
      "execution_count": null,
      "outputs": [
        {
          "output_type": "stream",
          "name": "stdout",
          "text": [
            "Colores_1 ['verde', 'rojo', 'rosa']\n",
            "Colores_2 ['rosa']\n"
          ]
        }
      ]
    },
    {
      "cell_type": "code",
      "source": [
        "# Reverse, invierte el orden de una lista\n",
        "lista_de_numeros = [3,2,1]\n",
        "lista_de_numeros.reverse()\n",
        "print(lista_de_numeros)\n"
      ],
      "metadata": {
        "colab": {
          "base_uri": "https://localhost:8080/"
        },
        "id": "244xi0nkgYHp",
        "outputId": "4164ecf7-1137-4b94-cda0-8fdf8df509d4"
      },
      "execution_count": null,
      "outputs": [
        {
          "output_type": "stream",
          "name": "stdout",
          "text": [
            "[1, 2, 3]\n"
          ]
        }
      ]
    },
    {
      "cell_type": "code",
      "source": [
        "# Método sort()\n",
        "# En caso de que se trate de strings, se ordenan de forma ascendente en el abecedario.\n",
        "\n",
        "colores_1.sort()\n",
        "print(colores_1)\n",
        "\n",
        "sorted([3,6,7,4,1], reverse = True)"
      ],
      "metadata": {
        "colab": {
          "base_uri": "https://localhost:8080/"
        },
        "id": "A-hI5LuJxtaT",
        "outputId": "2a81b2f1-0851-4907-b336-c3037d3776ac"
      },
      "execution_count": null,
      "outputs": [
        {
          "output_type": "stream",
          "name": "stdout",
          "text": [
            "['rojo', 'rosa', 'verde']\n"
          ]
        },
        {
          "output_type": "execute_result",
          "data": {
            "text/plain": [
              "[7, 6, 4, 3, 1]"
            ]
          },
          "metadata": {},
          "execution_count": 7
        }
      ]
    },
    {
      "cell_type": "code",
      "source": [
        "# sorted debe ir primero luego la lista\n",
        "lista_3 = [10,5,2,8,1,6]\n",
        "sorted(lista_3, reverse = True)"
      ],
      "metadata": {
        "colab": {
          "base_uri": "https://localhost:8080/"
        },
        "id": "d4OW0nYqyf9T",
        "outputId": "3de25507-676f-4d11-c129-267ea46f5ed9"
      },
      "execution_count": null,
      "outputs": [
        {
          "output_type": "execute_result",
          "data": {
            "text/plain": [
              "[10, 8, 6, 5, 2, 1]"
            ]
          },
          "metadata": {},
          "execution_count": 9
        }
      ]
    },
    {
      "cell_type": "code",
      "source": [
        "# Retorna el indice de un elemento\n",
        "print(colores_1.index('verde'))"
      ],
      "metadata": {
        "colab": {
          "base_uri": "https://localhost:8080/"
        },
        "id": "ijfeGXkIzf2P",
        "outputId": "b53aa945-a042-4816-a9dc-2de3b0308fe3"
      },
      "execution_count": null,
      "outputs": [
        {
          "output_type": "stream",
          "name": "stdout",
          "text": [
            "2\n"
          ]
        }
      ]
    },
    {
      "cell_type": "code",
      "source": [
        "numeros_4 = [ 5, 2, 9, 1, 7]\n",
        "maximo = max(numeros_4)\n",
        "minimo = min(numeros_4)\n",
        "suma = sum(numeros_4)\n",
        "print(f\"El número máximo es: {maximo}\")\n",
        "print(f\"El número mínimo es: {minimo}\")\n",
        "print(f\"La suma de los números es: {suma}\")"
      ],
      "metadata": {
        "colab": {
          "base_uri": "https://localhost:8080/"
        },
        "id": "oVxcMoIJ1WV5",
        "outputId": "9d275b93-60f6-403d-c3fb-131a961b1b34"
      },
      "execution_count": null,
      "outputs": [
        {
          "output_type": "stream",
          "name": "stdout",
          "text": [
            "El número máximo es: 9\n",
            "El número mínimo es: 1\n",
            "La suma de los números es: 24\n"
          ]
        }
      ]
    },
    {
      "cell_type": "code",
      "source": [
        "# Concatenación de listas\n",
        "\n",
        "animales = ['Gato', 'Perro', 'Tortuga']\n",
        "animales_2 = ['Hurón', 'Hamster', 'Erizo de Tierra']\n",
        "mascotas = animales + animales_2\n",
        "print(animales)\n",
        "print(len(animales))\n",
        "print(animales_2)\n",
        "print(len(animales_2))\n",
        "print(mascotas)\n",
        "print(len(mascotas))"
      ],
      "metadata": {
        "colab": {
          "base_uri": "https://localhost:8080/"
        },
        "id": "YfzHia6D1mMi",
        "outputId": "9fe7da92-11ad-446e-b541-49c79f0b8b62"
      },
      "execution_count": null,
      "outputs": [
        {
          "output_type": "stream",
          "name": "stdout",
          "text": [
            "['Gato', 'Perro', 'Tortuga']\n",
            "3\n",
            "['Hurón', 'Hamster', 'Erizo de Tierra']\n",
            "3\n",
            "['Gato', 'Perro', 'Tortuga', 'Hurón', 'Hamster', 'Erizo de Tierra']\n",
            "6\n"
          ]
        }
      ]
    },
    {
      "cell_type": "code",
      "source": [
        "animales_actualizados = animales * 4\n",
        "mascotas = animales_actualizados + animales_2\n",
        "# Veamos algunas características\n",
        "print(animales_actualizados)\n",
        "print(len(animales_actualizados))\n",
        "print(animales_2)\n",
        "print(len(animales_2))\n",
        "print(mascotas)\n",
        "print(len(mascotas))"
      ],
      "metadata": {
        "colab": {
          "base_uri": "https://localhost:8080/"
        },
        "id": "fhW3xTW81pb4",
        "outputId": "bbae3908-0ad5-49f9-d9e7-ecb3393ebd92"
      },
      "execution_count": null,
      "outputs": [
        {
          "output_type": "stream",
          "name": "stdout",
          "text": [
            "['Gato', 'Perro', 'Tortuga', 'Gato', 'Perro', 'Tortuga', 'Gato', 'Perro', 'Tortuga', 'Gato', 'Perro', 'Tortuga']\n",
            "12\n",
            "['Hurón', 'Hamster', 'Erizo de Tierra']\n",
            "3\n",
            "['Gato', 'Perro', 'Tortuga', 'Gato', 'Perro', 'Tortuga', 'Gato', 'Perro', 'Tortuga', 'Gato', 'Perro', 'Tortuga', 'Hurón', 'Hamster', 'Erizo de Tierra']\n",
            "15\n"
          ]
        }
      ]
    },
    {
      "cell_type": "code",
      "source": [
        "import sys\n",
        "\n",
        "nombre = sys.argv[1]\n",
        "apellido = sys.argv[2]\n",
        "\n",
        "print(f\"Mi nombre es {nombre}\")\n",
        "print(f\"Mi apellido es {apellido}\")\n",
        "print(f\" nombre de este archivo es {sys.argv[0]}\")"
      ],
      "metadata": {
        "colab": {
          "base_uri": "https://localhost:8080/"
        },
        "id": "mh02Lgck2osA",
        "outputId": "17fa23e6-49e0-47b1-869b-51f6eaec7b4c"
      },
      "execution_count": null,
      "outputs": [
        {
          "output_type": "stream",
          "name": "stdout",
          "text": [
            "Mi nombre es -f\n",
            "Mi apellido es /root/.local/share/jupyter/runtime/kernel-aceb81e7-6622-4616-9030-f89d946bd4a5.json\n",
            " nombre de este archivo es /usr/local/lib/python3.10/dist-packages/colab_kernel_launcher.py\n"
          ]
        }
      ]
    },
    {
      "cell_type": "markdown",
      "source": [
        "# Métodos con Diccionarios\n",
        "\n"
      ],
      "metadata": {
        "id": "6bdBYHgl3OO_"
      }
    },
    {
      "cell_type": "code",
      "source": [
        "# Agregar un elemento\n",
        "diccionario = {\"llave 1\": 5}\n",
        "\n",
        "diccionario[\"llave 2\"] = 9\n",
        "print(diccionario)"
      ],
      "metadata": {
        "colab": {
          "base_uri": "https://localhost:8080/"
        },
        "id": "xjy9pET53RiA",
        "outputId": "7b8c04b1-ecfc-47bf-839f-01f6cb8cb097"
      },
      "execution_count": null,
      "outputs": [
        {
          "output_type": "stream",
          "name": "stdout",
          "text": [
            "{'llave 1': 5, 'llave 2': 9}\n"
          ]
        }
      ]
    },
    {
      "cell_type": "code",
      "source": [
        "# Eliminar elementos\n",
        "\n",
        "# Podemos eliminar una llave de un diccionario, junto a su valor, de dos formas: usando el método pop del diccionario o utilizando del. La principal diferencia entre ambas formas es\n",
        "# que al utilizar pop obtendremos el valor del elemento eliminado.\n",
        "\n",
        "diccionario = {\"celular\": 140000, \"notebook\": 489990, \"tablet\": 120000, \"cargador\": 12400}\n",
        "del diccionario[\"celular\"] # Usamos la llave para eliminar elemento.\n",
        "print(diccionario)\n",
        "\n",
        "eliminado = diccionario.pop(\"tablet\")\n",
        "print(eliminado)\n",
        "print(diccionario)"
      ],
      "metadata": {
        "colab": {
          "base_uri": "https://localhost:8080/"
        },
        "id": "aNdrTfZL30j4",
        "outputId": "82442d1c-6af2-448d-ad6c-d1d11a157f49"
      },
      "execution_count": null,
      "outputs": [
        {
          "output_type": "stream",
          "name": "stdout",
          "text": [
            "{'notebook': 489990, 'tablet': 120000, 'cargador': 12400}\n",
            "120000\n",
            "{'notebook': 489990, 'cargador': 12400}\n"
          ]
        }
      ]
    },
    {
      "cell_type": "code",
      "source": [
        "# Unir diccionarios\n",
        "\n",
        "diccionario_a = {\"nombre\": \"Alejandra\", \"apellido\": \"López\", \"edad\": 33, \"altura\": 1.55}\n",
        "diccionario_b = { \"mascota\":\"miti\", \"ejercicio\":\"bicicleta\"}\n",
        "\n",
        "# Union de diccionario_a y diccionario_b\n",
        "diccionario_a.update(diccionario_b)\n",
        "# Notar que la unión queda en el primer diccionario\n",
        "print(diccionario_a)\n",
        "\n",
        "# Cuando ambos diccionarios tienen una clave en común,\n",
        "# el valor del segundo diccionario sobreescribe al del primero."
      ],
      "metadata": {
        "colab": {
          "base_uri": "https://localhost:8080/"
        },
        "id": "kBNjk5ND4yaw",
        "outputId": "1cb2af90-2de5-490d-b863-26a4c6a459fb"
      },
      "execution_count": null,
      "outputs": [
        {
          "output_type": "stream",
          "name": "stdout",
          "text": [
            "{'nombre': 'Alejandra', 'apellido': 'López', 'edad': 33, 'altura': 1.55, 'mascota': 'miti', 'ejercicio': 'bicicleta'}\n"
          ]
        }
      ]
    },
    {
      "cell_type": "code",
      "source": [
        "# Método keys() y values ()\n",
        "# Entrega una lista con todas las claves de un diccionario\n",
        "\n",
        "computador = {'notebook': 489990, 'tablet': 120000, 'cargador': 12400}\n",
        "print(computador.keys())\n",
        "print(computador.values())"
      ],
      "metadata": {
        "colab": {
          "base_uri": "https://localhost:8080/"
        },
        "id": "_Sw5i6ka7i8i",
        "outputId": "c0832ed7-137c-4ffb-a37d-df9dad4a4335"
      },
      "execution_count": null,
      "outputs": [
        {
          "output_type": "stream",
          "name": "stdout",
          "text": [
            "dict_keys(['notebook', 'tablet', 'cargador'])\n",
            "dict_values([489990, 120000, 12400])\n"
          ]
        }
      ]
    },
    {
      "cell_type": "code",
      "source": [
        "# Método items()\n",
        "# Entrega una lista con los pares clave-valor de un diccionario\n",
        "\n",
        "computador = {'notebook': 489990, 'tablet': 120000, 'cargador': 12400}\n",
        "print(computador.items())"
      ],
      "metadata": {
        "colab": {
          "base_uri": "https://localhost:8080/"
        },
        "id": "tOHygXmt7qw_",
        "outputId": "4358723d-9b74-4738-ac65-841d3f5c6039"
      },
      "execution_count": null,
      "outputs": [
        {
          "output_type": "stream",
          "name": "stdout",
          "text": [
            "dict_items([('notebook', 489990), ('tablet', 120000), ('cargador', 12400)])\n"
          ]
        }
      ]
    },
    {
      "cell_type": "code",
      "source": [
        "# Método get()\n",
        "# Entrega un mensaje alternativo en caso de no encontrar alguna clave\n",
        "\n",
        "computador.get('iphone','No se encuentra el elemento solicitado')"
      ],
      "metadata": {
        "colab": {
          "base_uri": "https://localhost:8080/",
          "height": 35
        },
        "id": "xf5djaQE8oqf",
        "outputId": "f1d8ff2a-556e-4c23-965e-e397b0dc1881"
      },
      "execution_count": null,
      "outputs": [
        {
          "output_type": "execute_result",
          "data": {
            "text/plain": [
              "'No se encuentra el elemento solicitado'"
            ],
            "application/vnd.google.colaboratory.intrinsic+json": {
              "type": "string"
            }
          },
          "metadata": {},
          "execution_count": 24
        }
      ]
    },
    {
      "cell_type": "markdown",
      "source": [
        "Convertir diccionarios en listas"
      ],
      "metadata": {
        "id": "nfWr50eS8xW-"
      }
    },
    {
      "cell_type": "code",
      "source": [
        "list({\"k1\": 5, \"k2\": 7}.items())"
      ],
      "metadata": {
        "colab": {
          "base_uri": "https://localhost:8080/"
        },
        "id": "JnxpMw_a8zue",
        "outputId": "3fa4d95f-202f-46dc-c9c8-9e3d9c92968d"
      },
      "execution_count": null,
      "outputs": [
        {
          "output_type": "execute_result",
          "data": {
            "text/plain": [
              "[('k1', 5), ('k2', 7)]"
            ]
          },
          "metadata": {},
          "execution_count": 25
        }
      ]
    },
    {
      "cell_type": "markdown",
      "source": [
        "Convertir una lista en un diccionario"
      ],
      "metadata": {
        "id": "neB0lphT9FaO"
      }
    },
    {
      "cell_type": "code",
      "source": [
        "dict([('k1', 5), ('k2', 7)])\n",
        "\n",
        "# Análogamente existen las funciones tuple() y set() que permitirán transformar a tuplas y/o sets respectivamente."
      ],
      "metadata": {
        "colab": {
          "base_uri": "https://localhost:8080/"
        },
        "id": "2jOTgLYe9F8e",
        "outputId": "10302ba3-a796-462a-a062-3c9eef338525"
      },
      "execution_count": null,
      "outputs": [
        {
          "output_type": "execute_result",
          "data": {
            "text/plain": [
              "{'k1': 5, 'k2': 7}"
            ]
          },
          "metadata": {},
          "execution_count": 26
        }
      ]
    },
    {
      "cell_type": "markdown",
      "source": [
        "# Ejercicios"
      ],
      "metadata": {
        "id": "EbT0x__M9cq-"
      }
    },
    {
      "cell_type": "code",
      "source": [
        "Sol_peruano = 0.0046\n",
        "Peso_Argentino = 0.093\n",
        "Dolar_Americano = 0.00013\n",
        "Pesos_Chilenos = int(input(\"Ingrese cantidad de pesos a convertir:\"))\n",
        "\n",
        "conversiones = {\n",
        "    \"Sol_peruano\": Sol_peruano,\n",
        "    \"Peso_Argentino\": Peso_Argentino,\n",
        "    \"Dolar_Americano\": Dolar_Americano\n",
        "}\n",
        "\n",
        "for moneda, tasa in conversiones.items():\n",
        "    Valor_convertido = Pesos_Chilenos * tasa\n",
        "    print(f\"El resultado de la conversión a {moneda} es: {Valor_convertido:.2f}\")\n"
      ],
      "metadata": {
        "colab": {
          "base_uri": "https://localhost:8080/"
        },
        "id": "yh6w0qsd9e3W",
        "outputId": "a0353ca1-c431-475e-a0b6-bd391b2ce4b9"
      },
      "execution_count": null,
      "outputs": [
        {
          "output_type": "stream",
          "name": "stdout",
          "text": [
            "Ingrese cantidad de pesos a convertir:1000\n",
            "El resultado de la conversión a Sol_peruano es: 4.60\n",
            "El resultado de la conversión a Peso_Argentino es: 93.00\n",
            "El resultado de la conversión a Dolar_Americano es: 0.13\n"
          ]
        }
      ]
    },
    {
      "cell_type": "code",
      "source": [
        "# Usando una lista y zip\n",
        "lista_conversion = [Sol_peruano, Peso_Argentino, Dolar_Americano]\n",
        "nombres_monedas = [\"Sol_peruano\", \"Peso_Argentino\", \"Dolar_Americano\"]\n",
        "\n",
        "# Combinar las listas con zip\n",
        "conversiones = zip(nombres_monedas, lista_conversion)\n",
        "\n",
        "for nombre, tasa in conversiones:\n",
        "    Valor_convertido = Pesos_Chilenos * tasa\n",
        "    print(f\"El resultado de la conversión a {nombre} es: {Valor_convertido}\")"
      ],
      "metadata": {
        "colab": {
          "base_uri": "https://localhost:8080/"
        },
        "id": "vvsOLARUVgVX",
        "outputId": "9257d198-741a-4210-83a8-87674be362b8"
      },
      "execution_count": null,
      "outputs": [
        {
          "output_type": "stream",
          "name": "stdout",
          "text": [
            "El resultado de la conversión a Sol_peruano es: 4.6\n",
            "El resultado de la conversión a Peso_Argentino es: 93.0\n",
            "El resultado de la conversión a Dolar_Americano es: 0.12999999999999998\n"
          ]
        }
      ]
    },
    {
      "cell_type": "markdown",
      "source": [
        "Ejercicio 2, leer un texto"
      ],
      "metadata": {
        "id": "m0zNUrVYNihx"
      }
    },
    {
      "cell_type": "code",
      "source": [
        "from google.colab import drive\n",
        "drive.mount('/content/drive')"
      ],
      "metadata": {
        "colab": {
          "base_uri": "https://localhost:8080/"
        },
        "id": "SB0FrpyfNi_o",
        "outputId": "abd0b3b5-d7a4-46bf-8257-cd035efd2df1"
      },
      "execution_count": null,
      "outputs": [
        {
          "output_type": "stream",
          "name": "stdout",
          "text": [
            "Mounted at /content/drive\n"
          ]
        }
      ]
    },
    {
      "cell_type": "code",
      "source": [
        "url_texto = '/content/drive/My Drive/Colab Notebooks/lorem_ipsum.txt'\n",
        "\n",
        "with open(url_texto, 'r') as archivo:\n",
        "    texto = archivo.read()\n",
        "    print(texto)"
      ],
      "metadata": {
        "colab": {
          "base_uri": "https://localhost:8080/"
        },
        "id": "HN8TlSQzOFW5",
        "outputId": "8b9f4ff6-4965-4d66-81c2-b71ca6718e1e"
      },
      "execution_count": null,
      "outputs": [
        {
          "output_type": "stream",
          "name": "stdout",
          "text": [
            "Lorem ipsum dolor sit amet, consectetur adipiscing elit. Aenean ac volutpat mi. Etiam elementum lacus at ligula efficitur efficitur. Nam ut vulputate sem. Duis elementum mauris vel posuere interdum. Vestibulum nisl enim, molestie in lacus scelerisque, bibendum fringilla mi. Etiam augue ex, tempor non diam vitae, consectetur interdum ex. Vestibulum consequat, mauris at luctus iaculis, urna arcu placerat risus, ut efficitur nulla lectus non mi. Pellentesque habitant morbi tristique senectus et netus et malesuada fames ac turpis egestas. Maecenas a velit mollis, dapibus orci nec, egestas tellus. Morbi ullamcorper dolor et purus sollicitudin eleifend. Fusce a mauris id elit tempus suscipit sit amet vel sapien. Nunc eget augue sit amet tellus sodales commodo eget a turpis. Vestibulum vel suscipit urna, eget mattis orci. Mauris velit ex, convallis eu nibh quis, pretium ullamcorper magna.\n",
            "\n",
            "Curabitur facilisis eleifend sapien, nec suscipit magna euismod quis. Integer dolor dui, consequat vel ullamcorper eu, maximus vitae leo. Proin eu mi rutrum, lacinia purus in, cursus turpis. Maecenas commodo arcu nunc, et ornare nunc luctus sed. Proin scelerisque ornare erat, vel porta urna sollicitudin a. Duis eleifend dolor orci, id vestibulum nunc vestibulum at. Praesent vel ligula elit. Quisque quis imperdiet libero, ac sollicitudin sem. Sed leo ante, porttitor eget feugiat eu, convallis vitae arcu. Aenean lacus sem, dictum sit amet felis ut, laoreet ornare turpis. Etiam aliquet lectus sed odio condimentum, scelerisque viverra enim tempus. Mauris eu eleifend massa, in fringilla turpis. Donec leo libero, consectetur at tellus ac, faucibus fermentum eros. Curabitur pellentesque est id lectus pellentesque, eget scelerisque nisi ornare. Duis molestie condimentum ex ac mollis.\n",
            "\n",
            "Sed erat neque, fermentum a suscipit in, ullamcorper eu urna. Nunc vitae dui non nunc luctus iaculis. Vestibulum ante ipsum primis in faucibus orci luctus et ultrices posuere cubilia curae; Vivamus et nunc risus. Ut posuere dui sit amet purus consequat maximus. Morbi aliquam ipsum non erat malesuada tristique vel eget metus. Curabitur non mauris id sem imperdiet maximus. Aliquam tincidunt tristique scelerisque. Mauris ipsum leo, consequat sed euismod non, lacinia a tellus. Sed fringilla nulla mauris, nec elementum diam faucibus id. Maecenas tincidunt elit a massa sollicitudin, ac auctor arcu egestas. Praesent eu aliquet dui. Cras cursus eros aliquam rhoncus volutpat. Integer a turpis eros.\n",
            "\n",
            "Nulla rutrum ex vel tortor luctus, quis consequat eros facilisis. Morbi sollicitudin a nibh condimentum fringilla. Morbi efficitur orci dolor, vel mollis felis aliquam id. Nunc vel neque eget dui sagittis venenatis non eget augue. Praesent at leo viverra, tempus libero vel, vehicula neque. Interdum et malesuada fames ac ante ipsum primis in faucibus. Quisque ut dignissim libero, vitae tempor felis. Mauris ut suscipit sem. Vestibulum tempor at mauris faucibus tristique. Nunc pulvinar elit eget arcu dapibus iaculis.\n",
            "\n",
            "Proin lectus nunc, tincidunt et porta sed, aliquet ut mi. Fusce laoreet, tellus at suscipit tincidunt, nisl nibh consectetur augue, eget semper eros libero quis dolor. Pellentesque habitant morbi tristique senectus et netus et malesuada fames ac turpis egestas. In sollicitudin egestas ante, condimentum lobortis diam posuere quis. Ut at lorem a eros lacinia varius ut in purus. Fusce tempus gravida maximus. Duis maximus, dolor porta porta pretium, lorem elit pulvinar tortor, vitae tempor mi purus a velit. \n"
          ]
        }
      ]
    },
    {
      "cell_type": "code",
      "source": [
        "caracteres_distintos = set(texto.replace(\" \", \"\"))\n",
        "\n",
        "# Contamos la cantidad de caracteres distintos\n",
        "cantidad_caracteres_distintos = len(caracteres_distintos)\n",
        "\n",
        "print(f\"Cantidad de caracteres distintos: {cantidad_caracteres_distintos}\")\n",
        "print(f\"Caracteres distintos: {caracteres_distintos}\")\n"
      ],
      "metadata": {
        "colab": {
          "base_uri": "https://localhost:8080/"
        },
        "id": "YxoU1ek8PloX",
        "outputId": "86af1703-f3e4-4c81-f7e7-c4e4e5025861"
      },
      "execution_count": null,
      "outputs": [
        {
          "output_type": "stream",
          "name": "stdout",
          "text": [
            "Cantidad de caracteres distintos: 39\n",
            "Caracteres distintos: {'n', 'x', 'P', '\\n', 'U', 'E', 'N', 'e', 'o', 'b', 'L', 'i', 'v', 'd', 't', 'u', 'F', 'Q', 'c', 'a', '.', ';', 'M', 'p', 'V', 'q', 'I', 'S', 'f', 'r', 'g', 's', 'D', 'C', 'A', ',', 'm', 'l', 'h'}\n"
          ]
        }
      ]
    },
    {
      "cell_type": "markdown",
      "source": [
        "Split crea una lista de las palabras dependiendo del separador que usas, viene predefinido con () que es espacio."
      ],
      "metadata": {
        "id": "XpsPP9H_bNuN"
      }
    },
    {
      "cell_type": "code",
      "source": [
        "# Convertimos el texto a minúsculas para evitar que palabras iguales se consideren diferentes\n",
        "palabras = texto.lower().split(\" \")\n",
        "\n",
        "# Convertimos la lista de palabras en un conjunto (SET) para obtener solo las palabras únicas, dado que set no permite duplicados\n",
        "# set reemplaza automáticamente los duplicados manteniendo solo un valor único\n",
        "palabras_distintas = set(palabras)\n",
        "\n",
        "# Contamos cuántas palabras distintas hay\n",
        "cantidad_palabras_distintas = len(palabras_distintas)\n",
        "\n",
        "print(f\"Cantidad de palabras distintas: {cantidad_palabras_distintas}\")\n",
        "print(f\"Palabras distintas: {palabras_distintas}\")\n"
      ],
      "metadata": {
        "colab": {
          "base_uri": "https://localhost:8080/"
        },
        "id": "SqSrn1Ggat08",
        "outputId": "a5263dc9-e418-4c90-feac-ed5717f65716"
      },
      "execution_count": null,
      "outputs": [
        {
          "output_type": "stream",
          "name": "stdout",
          "text": [
            "Cantidad de palabras distintas: 232\n",
            "Palabras distintas: {'', 'volutpat', 'leo.', 'dui', 'lacinia', 'cubilia', 'tincidunt', 'turpis.', 'augue.', 'consectetur', 'quisque', 'at.', 'neque', 'vitae', 'dignissim', 'a.', 'sagittis', 'iaculis,', 'primis', 'pretium,', 'quis,', 'orci.', 'libero', 'eleifend.', 'viverra', 'sem,', 'sapien.', 'lacus', 'adipiscing', 'lorem', 'tellus.', 'curabitur', 'ullamcorper', 'volutpat.', 'facilisis.', 'aenean', 'luctus,', 'dapibus', 'mauris,', 'eu', 'vivamus', 'non,', 'praesent', 'porta', 'enim,', 'tristique', 'ornare', 'aliquam', 'rutrum,', 'turpis', 'eget', 'fames', 'interdum', 'eros.', 'augue', 'auctor', 'orci', 'leo', 'purus', 'etiam', 'augue,', 'leo,', 'tempus', 'rhoncus', 'velit.', 'risus,', 'dolor,', 'quis.', 'egestas', 'id.', 'eros', 'dolor.', 'quis', 'cursus', 'erat', 'diam', 'lobortis', 'mollis,', 'massa,', 'fermentum', 'netus', 'luctus', 'felis.', 'fusce', 'commodo', 'faucibus.', 'venenatis', 'rutrum', 'amet', 'vel,', 'ex', 'neque.', 'erat,', 'efficitur', 'sapien,', 'malesuada', 'consequat', 'vehicula', 'velit', 'nam', 'habitant', 'tortor', 'eros.\\n\\nnulla', 'arcu.', 'duis', 'donec', 'tristique.', 'nisi', 'imperdiet', 'nibh', 'nisl', 'dictum', 'odio', 'sollicitudin', 'proin', 'dui,', 'mollis.\\n\\nsed', 'mattis', 'libero,', 'ac', 'nunc', 'efficitur.', 'neque,', 'feugiat', 'dolor', 'elit', 'egestas.', 'integer', 'sollicitudin,', 'pellentesque', 'felis', 'tempus.', 'molestie', 'metus.', 'a', 'maximus.', 'massa', 'non', 'tellus', 'sed.', 'vel', 'pretium', 'pellentesque,', 'ex,', 'lectus', 'faucibus', 'sit', 'vestibulum', 'iaculis.\\n\\nproin', 'orci,', 'risus.', 'ipsum', 'scelerisque.', 'purus.', 'posuere', 'sed,', 'amet,', 'maecenas', 'mi.', 'fringilla', 'fringilla.', 'semper', 'nulla', 'nec', 'enim', 'tortor,', 'magna', 'nunc,', 'urna,', 'ante', 'elit.', 'at', 'mauris', 'id', 'vitae,', 'in', 'euismod', 'eu,', 'mi', 'in,', 'ex.', 'convallis', 'pulvinar', 'sem.', 'ac,', 'eleifend', 'et', 'viverra,', 'aliquet', 'consequat,', 'suscipit', 'tincidunt,', 'condimentum', 'ultrices', 'laoreet', 'varius', 'iaculis.', 'facilisis', 'bibendum', 'sed', 'condimentum,', 'magna.\\n\\ncurabitur', 'elementum', 'tempor', 'ut,', 'est', 'nec,', 'gravida', 'laoreet,', 'vulputate', 'sem', 'urna', 'scelerisque', 'cras', 'arcu', 'placerat', 'ut', 'maximus', 'morbi', 'ante,', 'porttitor', 'ornare.', 'ligula', 'urna.', 'dui.', 'maximus,', 'mollis', 'curae;', 'senectus', 'interdum.', 'sodales', 'scelerisque,'}\n"
          ]
        }
      ]
    },
    {
      "cell_type": "markdown",
      "source": [
        "Ejericicio 3"
      ],
      "metadata": {
        "id": "D5n20-jfcQx1"
      }
    },
    {
      "cell_type": "code",
      "source": [],
      "metadata": {
        "id": "F9WObJxScSxz"
      },
      "execution_count": null,
      "outputs": []
    },
    {
      "cell_type": "markdown",
      "source": [
        "# Funciones"
      ],
      "metadata": {
        "id": "-MTfmD9nM68b"
      }
    },
    {
      "cell_type": "code",
      "source": [],
      "metadata": {
        "id": "a95W-9CIM82x"
      },
      "execution_count": null,
      "outputs": []
    }
  ]
}