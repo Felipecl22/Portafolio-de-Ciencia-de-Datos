{
  "nbformat": 4,
  "nbformat_minor": 0,
  "metadata": {
    "colab": {
      "provenance": [],
      "collapsed_sections": [
        "VWfmac7pOG3f"
      ],
      "authorship_tag": "ABX9TyNL8FpAZHZhZT/7YaKHGekk",
      "include_colab_link": true
    },
    "kernelspec": {
      "name": "python3",
      "display_name": "Python 3"
    },
    "language_info": {
      "name": "python"
    }
  },
  "cells": [
    {
      "cell_type": "markdown",
      "metadata": {
        "id": "view-in-github",
        "colab_type": "text"
      },
      "source": [
        "<a href=\"https://colab.research.google.com/github/Felipecl22/Portafolio-de-Ciencia-de-Datos/blob/nueva-rama/Regresi%C3%B3n_M%C3%BAltiple_completo.ipynb\" target=\"_parent\"><img src=\"https://colab.research.google.com/assets/colab-badge.svg\" alt=\"Open In Colab\"/></a>"
      ]
    },
    {
      "cell_type": "markdown",
      "source": [
        "# **Regresión Múltiple**"
      ],
      "metadata": {
        "id": "mWQD_PTOuELE"
      }
    },
    {
      "cell_type": "markdown",
      "source": [
        "# **Librerías**"
      ],
      "metadata": {
        "id": "MN84ahDS40Q9"
      }
    },
    {
      "cell_type": "code",
      "source": [
        "# Import librerías\n",
        "import pandas as pd\n",
        "import seaborn as sns\n",
        "import matplotlib.pyplot as plt"
      ],
      "metadata": {
        "id": "9vgUBPpt43dV"
      },
      "execution_count": null,
      "outputs": []
    },
    {
      "cell_type": "markdown",
      "source": [
        "# **1. Carga de datos**"
      ],
      "metadata": {
        "id": "Z6K2h2O-h2jt"
      }
    },
    {
      "cell_type": "code",
      "execution_count": null,
      "metadata": {
        "id": "g5XFL1s0g64-",
        "colab": {
          "base_uri": "https://localhost:8080/",
          "height": 143
        },
        "outputId": "3a742de5-da1b-4273-d7a7-10c5b09fc9b2"
      },
      "outputs": [
        {
          "output_type": "execute_result",
          "data": {
            "text/plain": [
              "  species     island  bill_length_mm  bill_depth_mm  flipper_length_mm  \\\n",
              "0  Adelie  Torgersen            39.1           18.7              181.0   \n",
              "1  Adelie  Torgersen            39.5           17.4              186.0   \n",
              "2  Adelie  Torgersen            40.3           18.0              195.0   \n",
              "\n",
              "   body_mass_g     sex  \n",
              "0       3750.0    Male  \n",
              "1       3800.0  Female  \n",
              "2       3250.0  Female  "
            ],
            "text/html": [
              "\n",
              "  <div id=\"df-fac70818-1701-42d1-ada3-f577ee5a2f04\" class=\"colab-df-container\">\n",
              "    <div>\n",
              "<style scoped>\n",
              "    .dataframe tbody tr th:only-of-type {\n",
              "        vertical-align: middle;\n",
              "    }\n",
              "\n",
              "    .dataframe tbody tr th {\n",
              "        vertical-align: top;\n",
              "    }\n",
              "\n",
              "    .dataframe thead th {\n",
              "        text-align: right;\n",
              "    }\n",
              "</style>\n",
              "<table border=\"1\" class=\"dataframe\">\n",
              "  <thead>\n",
              "    <tr style=\"text-align: right;\">\n",
              "      <th></th>\n",
              "      <th>species</th>\n",
              "      <th>island</th>\n",
              "      <th>bill_length_mm</th>\n",
              "      <th>bill_depth_mm</th>\n",
              "      <th>flipper_length_mm</th>\n",
              "      <th>body_mass_g</th>\n",
              "      <th>sex</th>\n",
              "    </tr>\n",
              "  </thead>\n",
              "  <tbody>\n",
              "    <tr>\n",
              "      <th>0</th>\n",
              "      <td>Adelie</td>\n",
              "      <td>Torgersen</td>\n",
              "      <td>39.1</td>\n",
              "      <td>18.7</td>\n",
              "      <td>181.0</td>\n",
              "      <td>3750.0</td>\n",
              "      <td>Male</td>\n",
              "    </tr>\n",
              "    <tr>\n",
              "      <th>1</th>\n",
              "      <td>Adelie</td>\n",
              "      <td>Torgersen</td>\n",
              "      <td>39.5</td>\n",
              "      <td>17.4</td>\n",
              "      <td>186.0</td>\n",
              "      <td>3800.0</td>\n",
              "      <td>Female</td>\n",
              "    </tr>\n",
              "    <tr>\n",
              "      <th>2</th>\n",
              "      <td>Adelie</td>\n",
              "      <td>Torgersen</td>\n",
              "      <td>40.3</td>\n",
              "      <td>18.0</td>\n",
              "      <td>195.0</td>\n",
              "      <td>3250.0</td>\n",
              "      <td>Female</td>\n",
              "    </tr>\n",
              "  </tbody>\n",
              "</table>\n",
              "</div>\n",
              "    <div class=\"colab-df-buttons\">\n",
              "\n",
              "  <div class=\"colab-df-container\">\n",
              "    <button class=\"colab-df-convert\" onclick=\"convertToInteractive('df-fac70818-1701-42d1-ada3-f577ee5a2f04')\"\n",
              "            title=\"Convert this dataframe to an interactive table.\"\n",
              "            style=\"display:none;\">\n",
              "\n",
              "  <svg xmlns=\"http://www.w3.org/2000/svg\" height=\"24px\" viewBox=\"0 -960 960 960\">\n",
              "    <path d=\"M120-120v-720h720v720H120Zm60-500h600v-160H180v160Zm220 220h160v-160H400v160Zm0 220h160v-160H400v160ZM180-400h160v-160H180v160Zm440 0h160v-160H620v160ZM180-180h160v-160H180v160Zm440 0h160v-160H620v160Z\"/>\n",
              "  </svg>\n",
              "    </button>\n",
              "\n",
              "  <style>\n",
              "    .colab-df-container {\n",
              "      display:flex;\n",
              "      gap: 12px;\n",
              "    }\n",
              "\n",
              "    .colab-df-convert {\n",
              "      background-color: #E8F0FE;\n",
              "      border: none;\n",
              "      border-radius: 50%;\n",
              "      cursor: pointer;\n",
              "      display: none;\n",
              "      fill: #1967D2;\n",
              "      height: 32px;\n",
              "      padding: 0 0 0 0;\n",
              "      width: 32px;\n",
              "    }\n",
              "\n",
              "    .colab-df-convert:hover {\n",
              "      background-color: #E2EBFA;\n",
              "      box-shadow: 0px 1px 2px rgba(60, 64, 67, 0.3), 0px 1px 3px 1px rgba(60, 64, 67, 0.15);\n",
              "      fill: #174EA6;\n",
              "    }\n",
              "\n",
              "    .colab-df-buttons div {\n",
              "      margin-bottom: 4px;\n",
              "    }\n",
              "\n",
              "    [theme=dark] .colab-df-convert {\n",
              "      background-color: #3B4455;\n",
              "      fill: #D2E3FC;\n",
              "    }\n",
              "\n",
              "    [theme=dark] .colab-df-convert:hover {\n",
              "      background-color: #434B5C;\n",
              "      box-shadow: 0px 1px 3px 1px rgba(0, 0, 0, 0.15);\n",
              "      filter: drop-shadow(0px 1px 2px rgba(0, 0, 0, 0.3));\n",
              "      fill: #FFFFFF;\n",
              "    }\n",
              "  </style>\n",
              "\n",
              "    <script>\n",
              "      const buttonEl =\n",
              "        document.querySelector('#df-fac70818-1701-42d1-ada3-f577ee5a2f04 button.colab-df-convert');\n",
              "      buttonEl.style.display =\n",
              "        google.colab.kernel.accessAllowed ? 'block' : 'none';\n",
              "\n",
              "      async function convertToInteractive(key) {\n",
              "        const element = document.querySelector('#df-fac70818-1701-42d1-ada3-f577ee5a2f04');\n",
              "        const dataTable =\n",
              "          await google.colab.kernel.invokeFunction('convertToInteractive',\n",
              "                                                    [key], {});\n",
              "        if (!dataTable) return;\n",
              "\n",
              "        const docLinkHtml = 'Like what you see? Visit the ' +\n",
              "          '<a target=\"_blank\" href=https://colab.research.google.com/notebooks/data_table.ipynb>data table notebook</a>'\n",
              "          + ' to learn more about interactive tables.';\n",
              "        element.innerHTML = '';\n",
              "        dataTable['output_type'] = 'display_data';\n",
              "        await google.colab.output.renderOutput(dataTable, element);\n",
              "        const docLink = document.createElement('div');\n",
              "        docLink.innerHTML = docLinkHtml;\n",
              "        element.appendChild(docLink);\n",
              "      }\n",
              "    </script>\n",
              "  </div>\n",
              "\n",
              "\n",
              "<div id=\"df-0da20877-5f64-4a98-ba85-f6cc6a934285\">\n",
              "  <button class=\"colab-df-quickchart\" onclick=\"quickchart('df-0da20877-5f64-4a98-ba85-f6cc6a934285')\"\n",
              "            title=\"Suggest charts\"\n",
              "            style=\"display:none;\">\n",
              "\n",
              "<svg xmlns=\"http://www.w3.org/2000/svg\" height=\"24px\"viewBox=\"0 0 24 24\"\n",
              "     width=\"24px\">\n",
              "    <g>\n",
              "        <path d=\"M19 3H5c-1.1 0-2 .9-2 2v14c0 1.1.9 2 2 2h14c1.1 0 2-.9 2-2V5c0-1.1-.9-2-2-2zM9 17H7v-7h2v7zm4 0h-2V7h2v10zm4 0h-2v-4h2v4z\"/>\n",
              "    </g>\n",
              "</svg>\n",
              "  </button>\n",
              "\n",
              "<style>\n",
              "  .colab-df-quickchart {\n",
              "      --bg-color: #E8F0FE;\n",
              "      --fill-color: #1967D2;\n",
              "      --hover-bg-color: #E2EBFA;\n",
              "      --hover-fill-color: #174EA6;\n",
              "      --disabled-fill-color: #AAA;\n",
              "      --disabled-bg-color: #DDD;\n",
              "  }\n",
              "\n",
              "  [theme=dark] .colab-df-quickchart {\n",
              "      --bg-color: #3B4455;\n",
              "      --fill-color: #D2E3FC;\n",
              "      --hover-bg-color: #434B5C;\n",
              "      --hover-fill-color: #FFFFFF;\n",
              "      --disabled-bg-color: #3B4455;\n",
              "      --disabled-fill-color: #666;\n",
              "  }\n",
              "\n",
              "  .colab-df-quickchart {\n",
              "    background-color: var(--bg-color);\n",
              "    border: none;\n",
              "    border-radius: 50%;\n",
              "    cursor: pointer;\n",
              "    display: none;\n",
              "    fill: var(--fill-color);\n",
              "    height: 32px;\n",
              "    padding: 0;\n",
              "    width: 32px;\n",
              "  }\n",
              "\n",
              "  .colab-df-quickchart:hover {\n",
              "    background-color: var(--hover-bg-color);\n",
              "    box-shadow: 0 1px 2px rgba(60, 64, 67, 0.3), 0 1px 3px 1px rgba(60, 64, 67, 0.15);\n",
              "    fill: var(--button-hover-fill-color);\n",
              "  }\n",
              "\n",
              "  .colab-df-quickchart-complete:disabled,\n",
              "  .colab-df-quickchart-complete:disabled:hover {\n",
              "    background-color: var(--disabled-bg-color);\n",
              "    fill: var(--disabled-fill-color);\n",
              "    box-shadow: none;\n",
              "  }\n",
              "\n",
              "  .colab-df-spinner {\n",
              "    border: 2px solid var(--fill-color);\n",
              "    border-color: transparent;\n",
              "    border-bottom-color: var(--fill-color);\n",
              "    animation:\n",
              "      spin 1s steps(1) infinite;\n",
              "  }\n",
              "\n",
              "  @keyframes spin {\n",
              "    0% {\n",
              "      border-color: transparent;\n",
              "      border-bottom-color: var(--fill-color);\n",
              "      border-left-color: var(--fill-color);\n",
              "    }\n",
              "    20% {\n",
              "      border-color: transparent;\n",
              "      border-left-color: var(--fill-color);\n",
              "      border-top-color: var(--fill-color);\n",
              "    }\n",
              "    30% {\n",
              "      border-color: transparent;\n",
              "      border-left-color: var(--fill-color);\n",
              "      border-top-color: var(--fill-color);\n",
              "      border-right-color: var(--fill-color);\n",
              "    }\n",
              "    40% {\n",
              "      border-color: transparent;\n",
              "      border-right-color: var(--fill-color);\n",
              "      border-top-color: var(--fill-color);\n",
              "    }\n",
              "    60% {\n",
              "      border-color: transparent;\n",
              "      border-right-color: var(--fill-color);\n",
              "    }\n",
              "    80% {\n",
              "      border-color: transparent;\n",
              "      border-right-color: var(--fill-color);\n",
              "      border-bottom-color: var(--fill-color);\n",
              "    }\n",
              "    90% {\n",
              "      border-color: transparent;\n",
              "      border-bottom-color: var(--fill-color);\n",
              "    }\n",
              "  }\n",
              "</style>\n",
              "\n",
              "  <script>\n",
              "    async function quickchart(key) {\n",
              "      const quickchartButtonEl =\n",
              "        document.querySelector('#' + key + ' button');\n",
              "      quickchartButtonEl.disabled = true;  // To prevent multiple clicks.\n",
              "      quickchartButtonEl.classList.add('colab-df-spinner');\n",
              "      try {\n",
              "        const charts = await google.colab.kernel.invokeFunction(\n",
              "            'suggestCharts', [key], {});\n",
              "      } catch (error) {\n",
              "        console.error('Error during call to suggestCharts:', error);\n",
              "      }\n",
              "      quickchartButtonEl.classList.remove('colab-df-spinner');\n",
              "      quickchartButtonEl.classList.add('colab-df-quickchart-complete');\n",
              "    }\n",
              "    (() => {\n",
              "      let quickchartButtonEl =\n",
              "        document.querySelector('#df-0da20877-5f64-4a98-ba85-f6cc6a934285 button');\n",
              "      quickchartButtonEl.style.display =\n",
              "        google.colab.kernel.accessAllowed ? 'block' : 'none';\n",
              "    })();\n",
              "  </script>\n",
              "</div>\n",
              "\n",
              "    </div>\n",
              "  </div>\n"
            ],
            "application/vnd.google.colaboratory.intrinsic+json": {
              "type": "dataframe",
              "variable_name": "penguins",
              "summary": "{\n  \"name\": \"penguins\",\n  \"rows\": 344,\n  \"fields\": [\n    {\n      \"column\": \"species\",\n      \"properties\": {\n        \"dtype\": \"category\",\n        \"num_unique_values\": 3,\n        \"samples\": [\n          \"Adelie\",\n          \"Chinstrap\",\n          \"Gentoo\"\n        ],\n        \"semantic_type\": \"\",\n        \"description\": \"\"\n      }\n    },\n    {\n      \"column\": \"island\",\n      \"properties\": {\n        \"dtype\": \"category\",\n        \"num_unique_values\": 3,\n        \"samples\": [\n          \"Torgersen\",\n          \"Biscoe\",\n          \"Dream\"\n        ],\n        \"semantic_type\": \"\",\n        \"description\": \"\"\n      }\n    },\n    {\n      \"column\": \"bill_length_mm\",\n      \"properties\": {\n        \"dtype\": \"number\",\n        \"std\": 5.4595837139265315,\n        \"min\": 32.1,\n        \"max\": 59.6,\n        \"num_unique_values\": 164,\n        \"samples\": [\n          48.2,\n          49.8,\n          45.1\n        ],\n        \"semantic_type\": \"\",\n        \"description\": \"\"\n      }\n    },\n    {\n      \"column\": \"bill_depth_mm\",\n      \"properties\": {\n        \"dtype\": \"number\",\n        \"std\": 1.9747931568167816,\n        \"min\": 13.1,\n        \"max\": 21.5,\n        \"num_unique_values\": 80,\n        \"samples\": [\n          16.9,\n          18.7,\n          18.6\n        ],\n        \"semantic_type\": \"\",\n        \"description\": \"\"\n      }\n    },\n    {\n      \"column\": \"flipper_length_mm\",\n      \"properties\": {\n        \"dtype\": \"number\",\n        \"std\": 14.061713679356888,\n        \"min\": 172.0,\n        \"max\": 231.0,\n        \"num_unique_values\": 55,\n        \"samples\": [\n          201.0,\n          180.0,\n          212.0\n        ],\n        \"semantic_type\": \"\",\n        \"description\": \"\"\n      }\n    },\n    {\n      \"column\": \"body_mass_g\",\n      \"properties\": {\n        \"dtype\": \"number\",\n        \"std\": 801.9545356980956,\n        \"min\": 2700.0,\n        \"max\": 6300.0,\n        \"num_unique_values\": 94,\n        \"samples\": [\n          4350.0,\n          4150.0,\n          3525.0\n        ],\n        \"semantic_type\": \"\",\n        \"description\": \"\"\n      }\n    },\n    {\n      \"column\": \"sex\",\n      \"properties\": {\n        \"dtype\": \"category\",\n        \"num_unique_values\": 2,\n        \"samples\": [\n          \"Female\",\n          \"Male\"\n        ],\n        \"semantic_type\": \"\",\n        \"description\": \"\"\n      }\n    }\n  ]\n}"
            }
          },
          "metadata": {},
          "execution_count": 81
        }
      ],
      "source": [
        "# Import dataset\n",
        "penguins = sns.load_dataset('penguins')\n",
        "penguins.head(3)\n"
      ]
    },
    {
      "cell_type": "markdown",
      "source": [
        "# **2. Análisis Exploratorio**"
      ],
      "metadata": {
        "id": "BF1-L8Nzhzxk"
      }
    },
    {
      "cell_type": "code",
      "source": [
        "print(type(penguins))"
      ],
      "metadata": {
        "colab": {
          "base_uri": "https://localhost:8080/"
        },
        "id": "42P3VCcOhzCt",
        "outputId": "53aca35a-8c3e-49f6-c1f2-11ae56b85f2a"
      },
      "execution_count": null,
      "outputs": [
        {
          "output_type": "stream",
          "name": "stdout",
          "text": [
            "<class 'pandas.core.frame.DataFrame'>\n"
          ]
        }
      ]
    },
    {
      "cell_type": "code",
      "source": [
        "penguins.columns"
      ],
      "metadata": {
        "colab": {
          "base_uri": "https://localhost:8080/"
        },
        "id": "2zhfwsC9vj78",
        "outputId": "b28aa2f4-e7f7-4f89-959b-886ea9ea2793"
      },
      "execution_count": null,
      "outputs": [
        {
          "output_type": "execute_result",
          "data": {
            "text/plain": [
              "Index(['species', 'island', 'bill_length_mm', 'bill_depth_mm',\n",
              "       'flipper_length_mm', 'body_mass_g', 'sex'],\n",
              "      dtype='object')"
            ]
          },
          "metadata": {},
          "execution_count": 83
        }
      ]
    },
    {
      "cell_type": "code",
      "source": [
        "penguins.dtypes"
      ],
      "metadata": {
        "id": "0r5Od-KIiCKG",
        "colab": {
          "base_uri": "https://localhost:8080/"
        },
        "outputId": "59ad82cf-5dd8-4948-855a-f6213f6323fb"
      },
      "execution_count": null,
      "outputs": [
        {
          "output_type": "execute_result",
          "data": {
            "text/plain": [
              "species               object\n",
              "island                object\n",
              "bill_length_mm       float64\n",
              "bill_depth_mm        float64\n",
              "flipper_length_mm    float64\n",
              "body_mass_g          float64\n",
              "sex                   object\n",
              "dtype: object"
            ]
          },
          "metadata": {},
          "execution_count": 84
        }
      ]
    },
    {
      "cell_type": "code",
      "source": [
        "penguins.info()"
      ],
      "metadata": {
        "colab": {
          "base_uri": "https://localhost:8080/"
        },
        "id": "eWil8L75vnJV",
        "outputId": "ea2e0864-210c-412a-fa45-366d7b4e34e6"
      },
      "execution_count": null,
      "outputs": [
        {
          "output_type": "stream",
          "name": "stdout",
          "text": [
            "<class 'pandas.core.frame.DataFrame'>\n",
            "RangeIndex: 344 entries, 0 to 343\n",
            "Data columns (total 7 columns):\n",
            " #   Column             Non-Null Count  Dtype  \n",
            "---  ------             --------------  -----  \n",
            " 0   species            344 non-null    object \n",
            " 1   island             344 non-null    object \n",
            " 2   bill_length_mm     342 non-null    float64\n",
            " 3   bill_depth_mm      342 non-null    float64\n",
            " 4   flipper_length_mm  342 non-null    float64\n",
            " 5   body_mass_g        342 non-null    float64\n",
            " 6   sex                333 non-null    object \n",
            "dtypes: float64(4), object(3)\n",
            "memory usage: 18.9+ KB\n"
          ]
        }
      ]
    },
    {
      "cell_type": "code",
      "source": [
        "penguins.isnull().sum()"
      ],
      "metadata": {
        "colab": {
          "base_uri": "https://localhost:8080/"
        },
        "id": "qY33rKhWvzLm",
        "outputId": "24409ca1-fec5-4abe-fe95-85edd089860b"
      },
      "execution_count": null,
      "outputs": [
        {
          "output_type": "execute_result",
          "data": {
            "text/plain": [
              "species               0\n",
              "island                0\n",
              "bill_length_mm        2\n",
              "bill_depth_mm         2\n",
              "flipper_length_mm     2\n",
              "body_mass_g           2\n",
              "sex                  11\n",
              "dtype: int64"
            ]
          },
          "metadata": {},
          "execution_count": 86
        }
      ]
    },
    {
      "cell_type": "code",
      "source": [
        "categorica = []\n",
        "\n",
        "for columna in penguins.columns:\n",
        "    if penguins[columna].dtype == 'O':\n",
        "        categorica.append(columna)\n",
        "\n",
        "print(f\"Las columnas numéricas en el dataframe son: {len(categorica)}, estas son:\\n{categorica}\")"
      ],
      "metadata": {
        "colab": {
          "base_uri": "https://localhost:8080/"
        },
        "id": "NRGSGeXNv5mu",
        "outputId": "18339b61-3972-458e-fe4e-a955421afdf8"
      },
      "execution_count": null,
      "outputs": [
        {
          "output_type": "stream",
          "name": "stdout",
          "text": [
            "Las columnas numéricas en el dataframe son: 3, estas son:\n",
            "['species', 'island', 'sex']\n"
          ]
        }
      ]
    },
    {
      "cell_type": "code",
      "source": [
        "numerica = []\n",
        "\n",
        "for columna in penguins.columns:\n",
        "    if penguins[columna].dtype != 'O':\n",
        "        numerica.append(columna)\n",
        "\n",
        "print(f\"Las columnas numéricas en el dataframe son: {len(numerica)}, estas son:\\n{numerica}\")"
      ],
      "metadata": {
        "colab": {
          "base_uri": "https://localhost:8080/"
        },
        "id": "DMU3teCfxZfS",
        "outputId": "58fb159d-6907-4be9-f0c1-b1163a6e2cf2"
      },
      "execution_count": null,
      "outputs": [
        {
          "output_type": "stream",
          "name": "stdout",
          "text": [
            "Las columnas numéricas en el dataframe son: 4, estas son:\n",
            "['bill_length_mm', 'bill_depth_mm', 'flipper_length_mm', 'body_mass_g']\n"
          ]
        }
      ]
    },
    {
      "cell_type": "code",
      "source": [
        "penguins[['species', 'island', 'sex']]"
      ],
      "metadata": {
        "colab": {
          "base_uri": "https://localhost:8080/",
          "height": 424
        },
        "id": "9m3uEmjG6IYO",
        "outputId": "23bf312e-b5d9-45ad-ff96-dd55f44eba22"
      },
      "execution_count": null,
      "outputs": [
        {
          "output_type": "execute_result",
          "data": {
            "text/plain": [
              "    species     island     sex\n",
              "0    Adelie  Torgersen    Male\n",
              "1    Adelie  Torgersen  Female\n",
              "2    Adelie  Torgersen  Female\n",
              "3    Adelie  Torgersen     NaN\n",
              "4    Adelie  Torgersen  Female\n",
              "..      ...        ...     ...\n",
              "339  Gentoo     Biscoe     NaN\n",
              "340  Gentoo     Biscoe  Female\n",
              "341  Gentoo     Biscoe    Male\n",
              "342  Gentoo     Biscoe  Female\n",
              "343  Gentoo     Biscoe    Male\n",
              "\n",
              "[344 rows x 3 columns]"
            ],
            "text/html": [
              "\n",
              "  <div id=\"df-aea1bca4-2fae-472b-a4e9-621e3bf59237\" class=\"colab-df-container\">\n",
              "    <div>\n",
              "<style scoped>\n",
              "    .dataframe tbody tr th:only-of-type {\n",
              "        vertical-align: middle;\n",
              "    }\n",
              "\n",
              "    .dataframe tbody tr th {\n",
              "        vertical-align: top;\n",
              "    }\n",
              "\n",
              "    .dataframe thead th {\n",
              "        text-align: right;\n",
              "    }\n",
              "</style>\n",
              "<table border=\"1\" class=\"dataframe\">\n",
              "  <thead>\n",
              "    <tr style=\"text-align: right;\">\n",
              "      <th></th>\n",
              "      <th>species</th>\n",
              "      <th>island</th>\n",
              "      <th>sex</th>\n",
              "    </tr>\n",
              "  </thead>\n",
              "  <tbody>\n",
              "    <tr>\n",
              "      <th>0</th>\n",
              "      <td>Adelie</td>\n",
              "      <td>Torgersen</td>\n",
              "      <td>Male</td>\n",
              "    </tr>\n",
              "    <tr>\n",
              "      <th>1</th>\n",
              "      <td>Adelie</td>\n",
              "      <td>Torgersen</td>\n",
              "      <td>Female</td>\n",
              "    </tr>\n",
              "    <tr>\n",
              "      <th>2</th>\n",
              "      <td>Adelie</td>\n",
              "      <td>Torgersen</td>\n",
              "      <td>Female</td>\n",
              "    </tr>\n",
              "    <tr>\n",
              "      <th>3</th>\n",
              "      <td>Adelie</td>\n",
              "      <td>Torgersen</td>\n",
              "      <td>NaN</td>\n",
              "    </tr>\n",
              "    <tr>\n",
              "      <th>4</th>\n",
              "      <td>Adelie</td>\n",
              "      <td>Torgersen</td>\n",
              "      <td>Female</td>\n",
              "    </tr>\n",
              "    <tr>\n",
              "      <th>...</th>\n",
              "      <td>...</td>\n",
              "      <td>...</td>\n",
              "      <td>...</td>\n",
              "    </tr>\n",
              "    <tr>\n",
              "      <th>339</th>\n",
              "      <td>Gentoo</td>\n",
              "      <td>Biscoe</td>\n",
              "      <td>NaN</td>\n",
              "    </tr>\n",
              "    <tr>\n",
              "      <th>340</th>\n",
              "      <td>Gentoo</td>\n",
              "      <td>Biscoe</td>\n",
              "      <td>Female</td>\n",
              "    </tr>\n",
              "    <tr>\n",
              "      <th>341</th>\n",
              "      <td>Gentoo</td>\n",
              "      <td>Biscoe</td>\n",
              "      <td>Male</td>\n",
              "    </tr>\n",
              "    <tr>\n",
              "      <th>342</th>\n",
              "      <td>Gentoo</td>\n",
              "      <td>Biscoe</td>\n",
              "      <td>Female</td>\n",
              "    </tr>\n",
              "    <tr>\n",
              "      <th>343</th>\n",
              "      <td>Gentoo</td>\n",
              "      <td>Biscoe</td>\n",
              "      <td>Male</td>\n",
              "    </tr>\n",
              "  </tbody>\n",
              "</table>\n",
              "<p>344 rows × 3 columns</p>\n",
              "</div>\n",
              "    <div class=\"colab-df-buttons\">\n",
              "\n",
              "  <div class=\"colab-df-container\">\n",
              "    <button class=\"colab-df-convert\" onclick=\"convertToInteractive('df-aea1bca4-2fae-472b-a4e9-621e3bf59237')\"\n",
              "            title=\"Convert this dataframe to an interactive table.\"\n",
              "            style=\"display:none;\">\n",
              "\n",
              "  <svg xmlns=\"http://www.w3.org/2000/svg\" height=\"24px\" viewBox=\"0 -960 960 960\">\n",
              "    <path d=\"M120-120v-720h720v720H120Zm60-500h600v-160H180v160Zm220 220h160v-160H400v160Zm0 220h160v-160H400v160ZM180-400h160v-160H180v160Zm440 0h160v-160H620v160ZM180-180h160v-160H180v160Zm440 0h160v-160H620v160Z\"/>\n",
              "  </svg>\n",
              "    </button>\n",
              "\n",
              "  <style>\n",
              "    .colab-df-container {\n",
              "      display:flex;\n",
              "      gap: 12px;\n",
              "    }\n",
              "\n",
              "    .colab-df-convert {\n",
              "      background-color: #E8F0FE;\n",
              "      border: none;\n",
              "      border-radius: 50%;\n",
              "      cursor: pointer;\n",
              "      display: none;\n",
              "      fill: #1967D2;\n",
              "      height: 32px;\n",
              "      padding: 0 0 0 0;\n",
              "      width: 32px;\n",
              "    }\n",
              "\n",
              "    .colab-df-convert:hover {\n",
              "      background-color: #E2EBFA;\n",
              "      box-shadow: 0px 1px 2px rgba(60, 64, 67, 0.3), 0px 1px 3px 1px rgba(60, 64, 67, 0.15);\n",
              "      fill: #174EA6;\n",
              "    }\n",
              "\n",
              "    .colab-df-buttons div {\n",
              "      margin-bottom: 4px;\n",
              "    }\n",
              "\n",
              "    [theme=dark] .colab-df-convert {\n",
              "      background-color: #3B4455;\n",
              "      fill: #D2E3FC;\n",
              "    }\n",
              "\n",
              "    [theme=dark] .colab-df-convert:hover {\n",
              "      background-color: #434B5C;\n",
              "      box-shadow: 0px 1px 3px 1px rgba(0, 0, 0, 0.15);\n",
              "      filter: drop-shadow(0px 1px 2px rgba(0, 0, 0, 0.3));\n",
              "      fill: #FFFFFF;\n",
              "    }\n",
              "  </style>\n",
              "\n",
              "    <script>\n",
              "      const buttonEl =\n",
              "        document.querySelector('#df-aea1bca4-2fae-472b-a4e9-621e3bf59237 button.colab-df-convert');\n",
              "      buttonEl.style.display =\n",
              "        google.colab.kernel.accessAllowed ? 'block' : 'none';\n",
              "\n",
              "      async function convertToInteractive(key) {\n",
              "        const element = document.querySelector('#df-aea1bca4-2fae-472b-a4e9-621e3bf59237');\n",
              "        const dataTable =\n",
              "          await google.colab.kernel.invokeFunction('convertToInteractive',\n",
              "                                                    [key], {});\n",
              "        if (!dataTable) return;\n",
              "\n",
              "        const docLinkHtml = 'Like what you see? Visit the ' +\n",
              "          '<a target=\"_blank\" href=https://colab.research.google.com/notebooks/data_table.ipynb>data table notebook</a>'\n",
              "          + ' to learn more about interactive tables.';\n",
              "        element.innerHTML = '';\n",
              "        dataTable['output_type'] = 'display_data';\n",
              "        await google.colab.output.renderOutput(dataTable, element);\n",
              "        const docLink = document.createElement('div');\n",
              "        docLink.innerHTML = docLinkHtml;\n",
              "        element.appendChild(docLink);\n",
              "      }\n",
              "    </script>\n",
              "  </div>\n",
              "\n",
              "\n",
              "<div id=\"df-4eaa34b9-5637-48e5-a758-25dec377802d\">\n",
              "  <button class=\"colab-df-quickchart\" onclick=\"quickchart('df-4eaa34b9-5637-48e5-a758-25dec377802d')\"\n",
              "            title=\"Suggest charts\"\n",
              "            style=\"display:none;\">\n",
              "\n",
              "<svg xmlns=\"http://www.w3.org/2000/svg\" height=\"24px\"viewBox=\"0 0 24 24\"\n",
              "     width=\"24px\">\n",
              "    <g>\n",
              "        <path d=\"M19 3H5c-1.1 0-2 .9-2 2v14c0 1.1.9 2 2 2h14c1.1 0 2-.9 2-2V5c0-1.1-.9-2-2-2zM9 17H7v-7h2v7zm4 0h-2V7h2v10zm4 0h-2v-4h2v4z\"/>\n",
              "    </g>\n",
              "</svg>\n",
              "  </button>\n",
              "\n",
              "<style>\n",
              "  .colab-df-quickchart {\n",
              "      --bg-color: #E8F0FE;\n",
              "      --fill-color: #1967D2;\n",
              "      --hover-bg-color: #E2EBFA;\n",
              "      --hover-fill-color: #174EA6;\n",
              "      --disabled-fill-color: #AAA;\n",
              "      --disabled-bg-color: #DDD;\n",
              "  }\n",
              "\n",
              "  [theme=dark] .colab-df-quickchart {\n",
              "      --bg-color: #3B4455;\n",
              "      --fill-color: #D2E3FC;\n",
              "      --hover-bg-color: #434B5C;\n",
              "      --hover-fill-color: #FFFFFF;\n",
              "      --disabled-bg-color: #3B4455;\n",
              "      --disabled-fill-color: #666;\n",
              "  }\n",
              "\n",
              "  .colab-df-quickchart {\n",
              "    background-color: var(--bg-color);\n",
              "    border: none;\n",
              "    border-radius: 50%;\n",
              "    cursor: pointer;\n",
              "    display: none;\n",
              "    fill: var(--fill-color);\n",
              "    height: 32px;\n",
              "    padding: 0;\n",
              "    width: 32px;\n",
              "  }\n",
              "\n",
              "  .colab-df-quickchart:hover {\n",
              "    background-color: var(--hover-bg-color);\n",
              "    box-shadow: 0 1px 2px rgba(60, 64, 67, 0.3), 0 1px 3px 1px rgba(60, 64, 67, 0.15);\n",
              "    fill: var(--button-hover-fill-color);\n",
              "  }\n",
              "\n",
              "  .colab-df-quickchart-complete:disabled,\n",
              "  .colab-df-quickchart-complete:disabled:hover {\n",
              "    background-color: var(--disabled-bg-color);\n",
              "    fill: var(--disabled-fill-color);\n",
              "    box-shadow: none;\n",
              "  }\n",
              "\n",
              "  .colab-df-spinner {\n",
              "    border: 2px solid var(--fill-color);\n",
              "    border-color: transparent;\n",
              "    border-bottom-color: var(--fill-color);\n",
              "    animation:\n",
              "      spin 1s steps(1) infinite;\n",
              "  }\n",
              "\n",
              "  @keyframes spin {\n",
              "    0% {\n",
              "      border-color: transparent;\n",
              "      border-bottom-color: var(--fill-color);\n",
              "      border-left-color: var(--fill-color);\n",
              "    }\n",
              "    20% {\n",
              "      border-color: transparent;\n",
              "      border-left-color: var(--fill-color);\n",
              "      border-top-color: var(--fill-color);\n",
              "    }\n",
              "    30% {\n",
              "      border-color: transparent;\n",
              "      border-left-color: var(--fill-color);\n",
              "      border-top-color: var(--fill-color);\n",
              "      border-right-color: var(--fill-color);\n",
              "    }\n",
              "    40% {\n",
              "      border-color: transparent;\n",
              "      border-right-color: var(--fill-color);\n",
              "      border-top-color: var(--fill-color);\n",
              "    }\n",
              "    60% {\n",
              "      border-color: transparent;\n",
              "      border-right-color: var(--fill-color);\n",
              "    }\n",
              "    80% {\n",
              "      border-color: transparent;\n",
              "      border-right-color: var(--fill-color);\n",
              "      border-bottom-color: var(--fill-color);\n",
              "    }\n",
              "    90% {\n",
              "      border-color: transparent;\n",
              "      border-bottom-color: var(--fill-color);\n",
              "    }\n",
              "  }\n",
              "</style>\n",
              "\n",
              "  <script>\n",
              "    async function quickchart(key) {\n",
              "      const quickchartButtonEl =\n",
              "        document.querySelector('#' + key + ' button');\n",
              "      quickchartButtonEl.disabled = true;  // To prevent multiple clicks.\n",
              "      quickchartButtonEl.classList.add('colab-df-spinner');\n",
              "      try {\n",
              "        const charts = await google.colab.kernel.invokeFunction(\n",
              "            'suggestCharts', [key], {});\n",
              "      } catch (error) {\n",
              "        console.error('Error during call to suggestCharts:', error);\n",
              "      }\n",
              "      quickchartButtonEl.classList.remove('colab-df-spinner');\n",
              "      quickchartButtonEl.classList.add('colab-df-quickchart-complete');\n",
              "    }\n",
              "    (() => {\n",
              "      let quickchartButtonEl =\n",
              "        document.querySelector('#df-4eaa34b9-5637-48e5-a758-25dec377802d button');\n",
              "      quickchartButtonEl.style.display =\n",
              "        google.colab.kernel.accessAllowed ? 'block' : 'none';\n",
              "    })();\n",
              "  </script>\n",
              "</div>\n",
              "\n",
              "    </div>\n",
              "  </div>\n"
            ],
            "application/vnd.google.colaboratory.intrinsic+json": {
              "type": "dataframe",
              "summary": "{\n  \"name\": \"penguins[['species', 'island', 'sex']]\",\n  \"rows\": 344,\n  \"fields\": [\n    {\n      \"column\": \"species\",\n      \"properties\": {\n        \"dtype\": \"category\",\n        \"num_unique_values\": 3,\n        \"samples\": [\n          \"Adelie\",\n          \"Chinstrap\",\n          \"Gentoo\"\n        ],\n        \"semantic_type\": \"\",\n        \"description\": \"\"\n      }\n    },\n    {\n      \"column\": \"island\",\n      \"properties\": {\n        \"dtype\": \"category\",\n        \"num_unique_values\": 3,\n        \"samples\": [\n          \"Torgersen\",\n          \"Biscoe\",\n          \"Dream\"\n        ],\n        \"semantic_type\": \"\",\n        \"description\": \"\"\n      }\n    },\n    {\n      \"column\": \"sex\",\n      \"properties\": {\n        \"dtype\": \"category\",\n        \"num_unique_values\": 2,\n        \"samples\": [\n          \"Female\",\n          \"Male\"\n        ],\n        \"semantic_type\": \"\",\n        \"description\": \"\"\n      }\n    }\n  ]\n}"
            }
          },
          "metadata": {},
          "execution_count": 89
        }
      ]
    },
    {
      "cell_type": "markdown",
      "source": [
        "Dado que la dataframe tiene valores nulls, debemos imputarlos con la media de los valores que es más representativa, pero sólo para las variables númericas las categóricas debemos botarlas."
      ],
      "metadata": {
        "id": "3IpLLcfm5Ql1"
      }
    },
    {
      "cell_type": "code",
      "source": [
        "penguins.dropna(subset=['sex'], inplace=True)"
      ],
      "metadata": {
        "id": "qEjcX7T71qJw"
      },
      "execution_count": null,
      "outputs": []
    },
    {
      "cell_type": "code",
      "source": [
        "penguins.isnull().sum()"
      ],
      "metadata": {
        "colab": {
          "base_uri": "https://localhost:8080/"
        },
        "id": "4nkI3EBP-VHh",
        "outputId": "2aa328ba-9dac-4c33-897e-157ed23d811b"
      },
      "execution_count": null,
      "outputs": [
        {
          "output_type": "execute_result",
          "data": {
            "text/plain": [
              "species              0\n",
              "island               0\n",
              "bill_length_mm       0\n",
              "bill_depth_mm        0\n",
              "flipper_length_mm    0\n",
              "body_mass_g          0\n",
              "sex                  0\n",
              "dtype: int64"
            ]
          },
          "metadata": {},
          "execution_count": 91
        }
      ]
    },
    {
      "cell_type": "markdown",
      "source": [
        "Al parecer los valores faltantes en las variables númericas también correspondian a las categóricas."
      ],
      "metadata": {
        "id": "okeq0tvR-ckO"
      }
    },
    {
      "cell_type": "markdown",
      "source": [
        "# **3. Modelo de regresión múltiple**"
      ],
      "metadata": {
        "id": "o-2Jnj2EAUlb"
      }
    },
    {
      "cell_type": "markdown",
      "source": [
        "Para este modelo sólo usaremos variables númericas, ya que las categóricas no sirven en una regresión, pero se usaran para un modelo K-means."
      ],
      "metadata": {
        "id": "_0hONM0AAaAs"
      }
    },
    {
      "cell_type": "markdown",
      "source": [
        "Elegimos las variables y comprobamos sus distribuciones."
      ],
      "metadata": {
        "id": "_ue8rNhOA0aU"
      }
    },
    {
      "cell_type": "code",
      "source": [
        "X = penguins[['bill_length_mm', 'bill_depth_mm', 'flipper_length_mm']]\n",
        "y = penguins['body_mass_g']"
      ],
      "metadata": {
        "id": "SyhMOZdSBKKf"
      },
      "execution_count": null,
      "outputs": []
    },
    {
      "cell_type": "markdown",
      "source": [
        "# **Feature Enginering**"
      ],
      "metadata": {
        "id": "yQM_96ULOPp0"
      }
    },
    {
      "cell_type": "markdown",
      "source": [
        "**Análisis de Distribuciones**"
      ],
      "metadata": {
        "id": "VWfmac7pOG3f"
      }
    },
    {
      "cell_type": "code",
      "source": [
        "# Gráfico bill_length_mm\n",
        "sns.histplot(penguins['bill_length_mm'], kde=True, color='skyblue', bins=20)  # Crear el histograma\n",
        "plt.title('Histograma con Curva de Densidad')  # Agregar título al gráfico\n",
        "plt.xlabel('Variable')  # Agregar etiqueta al eje x\n",
        "plt.ylabel('Frecuencia')  # Agregar etiqueta al eje y\n",
        "plt.show()  # Mostrar el gráfico\n"
      ],
      "metadata": {
        "colab": {
          "base_uri": "https://localhost:8080/",
          "height": 472
        },
        "id": "RuvDO1w0AZi9",
        "outputId": "69b64ec7-a380-42da-f90a-cb94553cbce4"
      },
      "execution_count": null,
      "outputs": [
        {
          "output_type": "display_data",
          "data": {
            "text/plain": [
              "<Figure size 640x480 with 1 Axes>"
            ],
            "image/png": "[encoded data removed]"
          },
          "metadata": {}
        }
      ]
    },
    {
      "cell_type": "code",
      "source": [
        "# Gráfico bill_length_mm\n",
        "sns.histplot(penguins['bill_depth_mm'], kde=True, color='skyblue', bins=20)  # Crear el histograma\n",
        "plt.title('Histograma con Curva de Densidad')  # Agregar título al gráfico\n",
        "plt.xlabel('Variable')  # Agregar etiqueta al eje x\n",
        "plt.ylabel('Frecuencia')  # Agregar etiqueta al eje y\n",
        "plt.show()  # Mostrar el gráfico"
      ],
      "metadata": {
        "colab": {
          "base_uri": "https://localhost:8080/",
          "height": 472
        },
        "id": "mzFzomn5Bfbm",
        "outputId": "f294b642-0d77-4105-d658-6286180aad5c"
      },
      "execution_count": null,
      "outputs": [
        {
          "output_type": "display_data",
          "data": {
            "text/plain": [
              "<Figure size 640x480 with 1 Axes>"
            ],
            "image/png": "[encoded data removed]"
          },
          "metadata": {}
        }
      ]
    },
    {
      "cell_type": "code",
      "source": [
        "# Gráfico bill_length_mm\n",
        "sns.histplot(penguins['flipper_length_mm'], kde=True, color='skyblue', bins=20)  # Crear el histograma\n",
        "plt.title('Histograma con Curva de Densidad')  # Agregar título al gráfico\n",
        "plt.xlabel('Variable')  # Agregar etiqueta al eje x\n",
        "plt.ylabel('Frecuencia')  # Agregar etiqueta al eje y\n",
        "plt.show()  # Mostrar el gráfico"
      ],
      "metadata": {
        "colab": {
          "base_uri": "https://localhost:8080/",
          "height": 472
        },
        "id": "HwZ0G4O8BhBV",
        "outputId": "ff256060-b47f-4c33-c258-dbf507b2a438"
      },
      "execution_count": null,
      "outputs": [
        {
          "output_type": "display_data",
          "data": {
            "text/plain": [
              "<Figure size 640x480 with 1 Axes>"
            ],
            "image/png": "[encoded data removed]"
          },
          "metadata": {}
        }
      ]
    },
    {
      "cell_type": "markdown",
      "source": [
        "Comprobamos con el método shapiro si las variables matemáticamente siguen una distribución normal."
      ],
      "metadata": {
        "id": "0l01OvixCKVe"
      }
    },
    {
      "cell_type": "code",
      "source": [
        "from scipy.stats import shapiro\n",
        "\n",
        "# Supongamos que df es tu DataFrame y 'variable' es la columna que deseas verificar\n",
        "bill_length_mm_distribution = penguins['bill_length_mm']\n",
        "\n",
        "# Realizar la prueba de Shapiro-Wilk\n",
        "estadistico, valor_p = shapiro(bill_length_mm_distribution)\n",
        "\n",
        "# Imprimir los resultados\n",
        "print('Estadístico de prueba:', estadistico)\n",
        "print('Valor p:', valor_p)\n",
        "\n",
        "# Interpretar los resultados\n",
        "if valor_p > 0.05:\n",
        "    print('Los datos parecen seguir una distribución normal (no se rechaza la hipótesis nula)')\n",
        "else:\n",
        "    print('Los datos no siguen una distribución normal (se rechaza la hipótesis nula)')\n"
      ],
      "metadata": {
        "colab": {
          "base_uri": "https://localhost:8080/"
        },
        "id": "1NjIFL1IB9zd",
        "outputId": "0e5fe09d-eb3b-48fd-8d58-354ac454a59d"
      },
      "execution_count": null,
      "outputs": [
        {
          "output_type": "stream",
          "name": "stdout",
          "text": [
            "Estadístico de prueba: 0.9743415117263794\n",
            "Valor p: 1.190045804833062e-05\n",
            "Los datos no siguen una distribución normal (se rechaza la hipótesis nula)\n"
          ]
        }
      ]
    },
    {
      "cell_type": "code",
      "source": [
        "from scipy.stats import shapiro\n",
        "\n",
        "# Supongamos que df es tu DataFrame y 'variable' es la columna que deseas verificar\n",
        "bill_depth_mm_distribution = penguins['bill_depth_mm']\n",
        "\n",
        "# Realizar la prueba de Shapiro-Wilk\n",
        "estadistico, valor_p = shapiro(bill_depth_mm_distribution)\n",
        "\n",
        "# Imprimir los resultados\n",
        "print('Estadístico de prueba:', estadistico)\n",
        "print('Valor p:', valor_p)\n",
        "\n",
        "# Interpretar los resultados\n",
        "if valor_p > 0.05:\n",
        "    print('Los datos parecen seguir una distribución normal (no se rechaza la hipótesis nula)')\n",
        "else:\n",
        "    print('Los datos no siguen una distribución normal (se rechaza la hipótesis nula)')"
      ],
      "metadata": {
        "colab": {
          "base_uri": "https://localhost:8080/"
        },
        "id": "sxVvHYjoM2_f",
        "outputId": "8dab53d3-2f19-4df8-f9e4-943251e20c95"
      },
      "execution_count": null,
      "outputs": [
        {
          "output_type": "stream",
          "name": "stdout",
          "text": [
            "Estadístico de prueba: 0.9732881784439087\n",
            "Valor p: 7.773518518661149e-06\n",
            "Los datos no siguen una distribución normal (se rechaza la hipótesis nula)\n"
          ]
        }
      ]
    },
    {
      "cell_type": "code",
      "source": [
        "import numpy as np\n",
        "\n",
        "# Supongamos que bill_length_mm_distribution es tu Serie de pandas con los datos de la columna 'bill_length_mm'\n",
        "# Aplicar una transformación logarítmica a los datos\n",
        "bill_length_mm_transformada = np.log(bill_length_mm_distribution)\n",
        "\n",
        "# Realizar la prueba de Shapiro-Wilk en los datos transformados\n",
        "estadistico_transformado, valor_p_transformado = shapiro(bill_length_mm_transformada)\n",
        "\n",
        "# Imprimir los resultados\n",
        "print('Estadístico de prueba (después de la transformación logarítmica):', estadistico_transformado)\n",
        "print('Valor p (después de la transformación logarítmica):', valor_p_transformado)\n",
        "\n",
        "# Interpretar los resultados después de la transformación logarítmica\n",
        "if valor_p_transformado > 0.05:\n",
        "    print('Los datos transformados parecen seguir una distribución normal (no se rechaza la hipótesis nula)')\n",
        "else:\n",
        "    print('Los datos transformados no siguen una distribución normal (se rechaza la hipótesis nula)')\n"
      ],
      "metadata": {
        "colab": {
          "base_uri": "https://localhost:8080/"
        },
        "id": "_fbdduIRC7ff",
        "outputId": "cdce0e43-b245-4af9-a54b-669c70ce05f4"
      },
      "execution_count": null,
      "outputs": [
        {
          "output_type": "stream",
          "name": "stdout",
          "text": [
            "Estadístico de prueba (después de la transformación logarítmica): 0.9722340703010559\n",
            "Valor p (después de la transformación logarítmica): 5.118802164361114e-06\n",
            "Los datos transformados no siguen una distribución normal (se rechaza la hipótesis nula)\n"
          ]
        }
      ]
    },
    {
      "cell_type": "code",
      "source": [
        "import numpy as np\n",
        "\n",
        "# Aplicar la transformación de la raíz cuadrada a los datos\n",
        "bill_length_mm_sqrt = np.sqrt(bill_length_mm_distribution)\n",
        "\n",
        "# Realizar la prueba de Shapiro-Wilk en los datos transformados\n",
        "estadistico_sqrt, valor_p_sqrt = shapiro(bill_length_mm_sqrt)\n",
        "\n",
        "# Imprimir los resultados\n",
        "print('Estadístico de prueba (después de la transformación de raíz cuadrada):', estadistico_sqrt)\n",
        "print('Valor p (después de la transformación de raíz cuadrada):', valor_p_sqrt)\n",
        "\n",
        "# Interpretar los resultados después de la transformación de raíz cuadrada\n",
        "if valor_p_sqrt > 0.05:\n",
        "    print('Los datos transformados con la raíz cuadrada parecen seguir una distribución normal (no se rechaza la hipótesis nula)')\n",
        "else:\n",
        "    print('Los datos transformados con la raíz cuadrada no siguen una distribución normal (se rechaza la hipótesis nula)')\n"
      ],
      "metadata": {
        "colab": {
          "base_uri": "https://localhost:8080/"
        },
        "id": "3KFdl0vAEkg8",
        "outputId": "a3ac74cb-483f-4258-fe90-17282c587422"
      },
      "execution_count": null,
      "outputs": [
        {
          "output_type": "stream",
          "name": "stdout",
          "text": [
            "Estadístico de prueba (después de la transformación de raíz cuadrada): 0.9740639328956604\n",
            "Valor p (después de la transformación de raíz cuadrada): 1.0628479685692582e-05\n",
            "Los datos transformados con la raíz cuadrada no siguen una distribución normal (se rechaza la hipótesis nula)\n"
          ]
        }
      ]
    },
    {
      "cell_type": "markdown",
      "source": [
        "**Verificar Multicolinealidad**"
      ],
      "metadata": {
        "id": "SW2bZ0n0O363"
      }
    },
    {
      "cell_type": "markdown",
      "source": [
        "Usamos la matriz de correlación para verificar si las variables explicativas están correlacionadas entre sí."
      ],
      "metadata": {
        "id": "J5X5gnAa4hB8"
      }
    },
    {
      "cell_type": "code",
      "source": [
        "# Agregar la variable objetivo 'body_mass_g' a las variables predictoras\n",
        "penguins_con_masas = penguins[['bill_length_mm', 'bill_depth_mm', 'flipper_length_mm', 'body_mass_g']]\n",
        "\n",
        "# Calcular la matriz de correlación\n",
        "correlacion_con_masa = penguins_con_masas.corr()\n",
        "\n",
        "print(correlacion_con_masa)\n",
        "\n",
        "# Visualizar la matriz de correlación\n",
        "plt.figure(figsize=(10, 8))\n",
        "sns.heatmap(correlacion_con_masa, annot=True, cmap='coolwarm', fmt=\".2f\", square=True)\n",
        "plt.title('Matriz de correlación entre variables predictoras y masa corporal')\n",
        "plt.show()"
      ],
      "metadata": {
        "colab": {
          "base_uri": "https://localhost:8080/",
          "height": 890
        },
        "id": "OtqSJfPuON5D",
        "outputId": "23e32709-75b4-4b75-d617-d5c46fe09f37"
      },
      "execution_count": null,
      "outputs": [
        {
          "output_type": "stream",
          "name": "stdout",
          "text": [
            "                   bill_length_mm  bill_depth_mm  flipper_length_mm  \\\n",
            "bill_length_mm           1.000000      -0.228626           0.653096   \n",
            "bill_depth_mm           -0.228626       1.000000          -0.577792   \n",
            "flipper_length_mm        0.653096      -0.577792           1.000000   \n",
            "body_mass_g              0.589451      -0.472016           0.872979   \n",
            "\n",
            "                   body_mass_g  \n",
            "bill_length_mm        0.589451  \n",
            "bill_depth_mm        -0.472016  \n",
            "flipper_length_mm     0.872979  \n",
            "body_mass_g           1.000000  \n"
          ]
        },
        {
          "output_type": "display_data",
          "data": {
            "text/plain": [
              "<Figure size 1000x800 with 2 Axes>"
            ],
            "image/png": "[encoded data removed]"
          },
          "metadata": {}
        }
      ]
    },
    {
      "cell_type": "markdown",
      "source": [
        "Basándose en los resultados, parece que las variables predictoras ('bill_length_mm', 'bill_depth_mm' y 'flipper_length_mm') no están altamente correlacionadas entre sí, lo que sugiere que no hay un problema significativo de multicolinealidad entre ellas. Además, aunque 'bill_depth_mm' tiene una correlación negativa con la variable objetivo ('body_mass_g'), esta correlación no parece ser extremadamente fuerte."
      ],
      "metadata": {
        "id": "ETBd4nwHQ9vf"
      }
    },
    {
      "cell_type": "markdown",
      "source": [
        "**Valores atípicos (Outliers)**"
      ],
      "metadata": {
        "id": "OD1XPFz5waGr"
      }
    },
    {
      "cell_type": "code",
      "source": [
        "# Boxplots data, para identificar outliers.\n",
        "\n",
        "plt.figure(figsize=(8, 6))\n",
        "plt.boxplot(X['bill_length_mm'])\n",
        "plt.title('Boxplot bill_length_mm')\n",
        "plt.ylabel('bill_length_mm')\n",
        "plt.show()\n",
        "\n",
        "plt.figure(figsize=(8, 6))\n",
        "plt.boxplot(X['bill_depth_mm'])\n",
        "plt.title('Boxplot bill_depth_mm')\n",
        "plt.ylabel('bill_depth_mm')\n",
        "plt.show()\n",
        "\n",
        "plt.figure(figsize=(8, 6))\n",
        "plt.boxplot(X['flipper_length_mm'])\n",
        "plt.title('Boxplot flipper_length_mm')\n",
        "plt.ylabel('flipper_length_mm')\n",
        "plt.show()"
      ],
      "metadata": {
        "colab": {
          "base_uri": "https://localhost:8080/",
          "height": 1000
        },
        "id": "pMn1LQPfd9se",
        "outputId": "2d1c6b79-32f9-4799-9b50-d7623a99ea23"
      },
      "execution_count": null,
      "outputs": [
        {
          "output_type": "display_data",
          "data": {
            "text/plain": [
              "<Figure size 800x600 with 1 Axes>"
            ],
            "image/png": "[encoded data removed]"
          },
          "metadata": {}
        },
        {
          "output_type": "display_data",
          "data": {
            "text/plain": [
              "<Figure size 800x600 with 1 Axes>"
            ],
            "image/png": "[encoded data removed]"
          },
          "metadata": {}
        },
        {
          "output_type": "display_data",
          "data": {
            "text/plain": [
              "<Figure size 800x600 with 1 Axes>"
            ],
            "image/png": "[encoded data removed]"
          },
          "metadata": {}
        }
      ]
    },
    {
      "cell_type": "markdown",
      "source": [
        "La data no presenta outliers.\n",
        "\n",
        "Pero de tomas maneras vamos a realizar matemáticamente este proceso para estar seguros que así sea."
      ],
      "metadata": {
        "id": "hN1aK-v0evYz"
      }
    },
    {
      "cell_type": "code",
      "source": [
        "X['bill_length_mm']"
      ],
      "metadata": {
        "colab": {
          "base_uri": "https://localhost:8080/"
        },
        "id": "Av3_gtZhsBtG",
        "outputId": "c50d521d-3325-420e-a43e-ef76aa1c4c8a"
      },
      "execution_count": null,
      "outputs": [
        {
          "output_type": "execute_result",
          "data": {
            "text/plain": [
              "0      39.1\n",
              "1      39.5\n",
              "2      40.3\n",
              "4      36.7\n",
              "5      39.3\n",
              "       ... \n",
              "338    47.2\n",
              "340    46.8\n",
              "341    50.4\n",
              "342    45.2\n",
              "343    49.9\n",
              "Name: bill_length_mm, Length: 333, dtype: float64"
            ]
          },
          "metadata": {},
          "execution_count": 102
        }
      ]
    },
    {
      "cell_type": "code",
      "source": [
        "# Calcular el rango intercuartil (IQR)\n",
        "Q1 = np.percentile(X['bill_length_mm'], 25)\n",
        "Q3 = np.percentile(X['bill_length_mm'], 75)\n",
        "IQR = Q3 - Q1\n",
        "\n",
        "# Definir los límites para identificar outliers\n",
        "umbral_inferior = Q1 - 1.5 * IQR\n",
        "umbral_superior = Q3 + 1.5 * IQR\n",
        "\n",
        "# Identificar outliers\n",
        "outliers = X['bill_length_mm'][(X['bill_length_mm'] < umbral_inferior) | (X['bill_length_mm'] > umbral_superior)]\n",
        "\n",
        "# Imprimir los outliers encontrados\n",
        "print(\"Valores atípicos:\")\n",
        "print(outliers)"
      ],
      "metadata": {
        "colab": {
          "base_uri": "https://localhost:8080/"
        },
        "id": "nkf2cfDWfBTw",
        "outputId": "d3f653e0-47a8-4e2a-a4ba-c309f2e93f53"
      },
      "execution_count": null,
      "outputs": [
        {
          "output_type": "stream",
          "name": "stdout",
          "text": [
            "Valores atípicos:\n",
            "Series([], Name: bill_length_mm, dtype: float64)\n"
          ]
        }
      ]
    },
    {
      "cell_type": "markdown",
      "source": [
        "En caso de encontrar outliers, para eliminarlos podemos hacer lo siguiente:\n",
        "\n",
        "Eliminar los outliers del DataFrame X\n",
        "\n",
        "X_sin_outliers = X[~((X['bill_length_mm'] < umbral_inferior) | (X['bill_length_mm'] > umbral_superior))]\n",
        "\n",
        "Imprimir la cantidad de outliers eliminados\n",
        "\n",
        "print(\"Cantidad de outliers eliminados:\", len(X) - len(X_sin_outliers))\n",
        "\n",
        "Imprimir el DataFrame sin outliers\n",
        "\n",
        "print(\"DataFrame sin outliers:\")\n",
        "print(X_sin_outliers)"
      ],
      "metadata": {
        "id": "8XqhA4bBvBpN"
      }
    },
    {
      "cell_type": "code",
      "source": [
        "X['bill_depth_mm']"
      ],
      "metadata": {
        "colab": {
          "base_uri": "https://localhost:8080/"
        },
        "id": "yVAKvkhXsXFO",
        "outputId": "9a3147a2-befb-46cb-a873-b5d86a6ce141"
      },
      "execution_count": null,
      "outputs": [
        {
          "output_type": "execute_result",
          "data": {
            "text/plain": [
              "0      18.7\n",
              "1      17.4\n",
              "2      18.0\n",
              "4      19.3\n",
              "5      20.6\n",
              "       ... \n",
              "338    13.7\n",
              "340    14.3\n",
              "341    15.7\n",
              "342    14.8\n",
              "343    16.1\n",
              "Name: bill_depth_mm, Length: 333, dtype: float64"
            ]
          },
          "metadata": {},
          "execution_count": 104
        }
      ]
    },
    {
      "cell_type": "code",
      "source": [
        "# Calcular el rango intercuartil (IQR) para 'bill_depth_mm'\n",
        "Q1_b = np.percentile(X['bill_depth_mm'], 25)\n",
        "Q3_b = np.percentile(X['bill_depth_mm'], 75)\n",
        "IQR_b = Q3_b - Q1_b\n",
        "\n",
        "# Definir los límites para identificar outliers\n",
        "umbral_inferior_b = Q1_b - 1.5 * IQR_b\n",
        "umbral_superior_b = Q3_b + 1.5 * IQR_b\n",
        "\n",
        "# Identificar outliers\n",
        "outliers_b = X['bill_depth_mm'][(X['bill_depth_mm'] < umbral_inferior_b) | (X['bill_depth_mm'] > umbral_superior_b)]\n",
        "\n",
        "# Imprimir los outliers encontrados\n",
        "print(\"Valores atípicos:\")\n",
        "print(outliers_b)"
      ],
      "metadata": {
        "colab": {
          "base_uri": "https://localhost:8080/"
        },
        "id": "29laWxtdrW1e",
        "outputId": "a1eb1ea1-e0b2-4a00-8128-97396c544155"
      },
      "execution_count": null,
      "outputs": [
        {
          "output_type": "stream",
          "name": "stdout",
          "text": [
            "Valores atípicos:\n",
            "Series([], Name: bill_depth_mm, dtype: float64)\n"
          ]
        }
      ]
    },
    {
      "cell_type": "code",
      "source": [
        "X['flipper_length_mm']"
      ],
      "metadata": {
        "colab": {
          "base_uri": "https://localhost:8080/"
        },
        "id": "6G_DT1mRwG-7",
        "outputId": "d80957e4-0c78-4e63-e14c-6b199e90d9cf"
      },
      "execution_count": null,
      "outputs": [
        {
          "output_type": "execute_result",
          "data": {
            "text/plain": [
              "0      181.0\n",
              "1      186.0\n",
              "2      195.0\n",
              "4      193.0\n",
              "5      190.0\n",
              "       ...  \n",
              "338    214.0\n",
              "340    215.0\n",
              "341    222.0\n",
              "342    212.0\n",
              "343    213.0\n",
              "Name: flipper_length_mm, Length: 333, dtype: float64"
            ]
          },
          "metadata": {},
          "execution_count": 106
        }
      ]
    },
    {
      "cell_type": "code",
      "source": [
        "# Calcular el rango intercuartil (IQR)\n",
        "Q1_c = np.percentile(X['flipper_length_mm'], 25)\n",
        "Q3_c = np.percentile(X['flipper_length_mm'], 75)\n",
        "IQR = Q3_c - Q1_c\n",
        "\n",
        "# Definir los límites para identificar outliers\n",
        "umbral_inferior_c = Q1_c - 1.5 * IQR\n",
        "umbral_superior_c = Q3_c + 1.5 * IQR\n",
        "\n",
        "# Identificar outliers\n",
        "outliers_c = X['flipper_length_mm'][(X['flipper_length_mm'] < umbral_inferior_c) | (X['flipper_length_mm'] > umbral_superior_c)]\n",
        "\n",
        "# Imprimir los outliers encontrados\n",
        "print(\"Valores atípicos:\")\n",
        "print(outliers_c)"
      ],
      "metadata": {
        "colab": {
          "base_uri": "https://localhost:8080/"
        },
        "id": "jDxnNGYarXC1",
        "outputId": "cf00f724-3038-4b23-b8f0-796018bd30b8"
      },
      "execution_count": null,
      "outputs": [
        {
          "output_type": "stream",
          "name": "stdout",
          "text": [
            "Valores atípicos:\n",
            "Series([], Name: flipper_length_mm, dtype: float64)\n"
          ]
        }
      ]
    },
    {
      "cell_type": "markdown",
      "source": [
        "La data explicativa no contiene outliers."
      ],
      "metadata": {
        "id": "fb6SmDJkwYV0"
      }
    },
    {
      "cell_type": "markdown",
      "source": [
        "**Normalización de variables**"
      ],
      "metadata": {
        "id": "0eyjJGy9R0gY"
      }
    },
    {
      "cell_type": "code",
      "source": [
        "X"
      ],
      "metadata": {
        "colab": {
          "base_uri": "https://localhost:8080/",
          "height": 424
        },
        "id": "pekTMfJsREm0",
        "outputId": "fe68689a-9bde-492a-837d-e2ee52194360"
      },
      "execution_count": null,
      "outputs": [
        {
          "output_type": "execute_result",
          "data": {
            "text/plain": [
              "     bill_length_mm  bill_depth_mm  flipper_length_mm\n",
              "0              39.1           18.7              181.0\n",
              "1              39.5           17.4              186.0\n",
              "2              40.3           18.0              195.0\n",
              "4              36.7           19.3              193.0\n",
              "5              39.3           20.6              190.0\n",
              "..              ...            ...                ...\n",
              "338            47.2           13.7              214.0\n",
              "340            46.8           14.3              215.0\n",
              "341            50.4           15.7              222.0\n",
              "342            45.2           14.8              212.0\n",
              "343            49.9           16.1              213.0\n",
              "\n",
              "[333 rows x 3 columns]"
            ],
            "text/html": [
              "\n",
              "  <div id=\"df-35d4324d-8cc9-4403-a31e-8fd6c27f516e\" class=\"colab-df-container\">\n",
              "    <div>\n",
              "<style scoped>\n",
              "    .dataframe tbody tr th:only-of-type {\n",
              "        vertical-align: middle;\n",
              "    }\n",
              "\n",
              "    .dataframe tbody tr th {\n",
              "        vertical-align: top;\n",
              "    }\n",
              "\n",
              "    .dataframe thead th {\n",
              "        text-align: right;\n",
              "    }\n",
              "</style>\n",
              "<table border=\"1\" class=\"dataframe\">\n",
              "  <thead>\n",
              "    <tr style=\"text-align: right;\">\n",
              "      <th></th>\n",
              "      <th>bill_length_mm</th>\n",
              "      <th>bill_depth_mm</th>\n",
              "      <th>flipper_length_mm</th>\n",
              "    </tr>\n",
              "  </thead>\n",
              "  <tbody>\n",
              "    <tr>\n",
              "      <th>0</th>\n",
              "      <td>39.1</td>\n",
              "      <td>18.7</td>\n",
              "      <td>181.0</td>\n",
              "    </tr>\n",
              "    <tr>\n",
              "      <th>1</th>\n",
              "      <td>39.5</td>\n",
              "      <td>17.4</td>\n",
              "      <td>186.0</td>\n",
              "    </tr>\n",
              "    <tr>\n",
              "      <th>2</th>\n",
              "      <td>40.3</td>\n",
              "      <td>18.0</td>\n",
              "      <td>195.0</td>\n",
              "    </tr>\n",
              "    <tr>\n",
              "      <th>4</th>\n",
              "      <td>36.7</td>\n",
              "      <td>19.3</td>\n",
              "      <td>193.0</td>\n",
              "    </tr>\n",
              "    <tr>\n",
              "      <th>5</th>\n",
              "      <td>39.3</td>\n",
              "      <td>20.6</td>\n",
              "      <td>190.0</td>\n",
              "    </tr>\n",
              "    <tr>\n",
              "      <th>...</th>\n",
              "      <td>...</td>\n",
              "      <td>...</td>\n",
              "      <td>...</td>\n",
              "    </tr>\n",
              "    <tr>\n",
              "      <th>338</th>\n",
              "      <td>47.2</td>\n",
              "      <td>13.7</td>\n",
              "      <td>214.0</td>\n",
              "    </tr>\n",
              "    <tr>\n",
              "      <th>340</th>\n",
              "      <td>46.8</td>\n",
              "      <td>14.3</td>\n",
              "      <td>215.0</td>\n",
              "    </tr>\n",
              "    <tr>\n",
              "      <th>341</th>\n",
              "      <td>50.4</td>\n",
              "      <td>15.7</td>\n",
              "      <td>222.0</td>\n",
              "    </tr>\n",
              "    <tr>\n",
              "      <th>342</th>\n",
              "      <td>45.2</td>\n",
              "      <td>14.8</td>\n",
              "      <td>212.0</td>\n",
              "    </tr>\n",
              "    <tr>\n",
              "      <th>343</th>\n",
              "      <td>49.9</td>\n",
              "      <td>16.1</td>\n",
              "      <td>213.0</td>\n",
              "    </tr>\n",
              "  </tbody>\n",
              "</table>\n",
              "<p>333 rows × 3 columns</p>\n",
              "</div>\n",
              "    <div class=\"colab-df-buttons\">\n",
              "\n",
              "  <div class=\"colab-df-container\">\n",
              "    <button class=\"colab-df-convert\" onclick=\"convertToInteractive('df-35d4324d-8cc9-4403-a31e-8fd6c27f516e')\"\n",
              "            title=\"Convert this dataframe to an interactive table.\"\n",
              "            style=\"display:none;\">\n",
              "\n",
              "  <svg xmlns=\"http://www.w3.org/2000/svg\" height=\"24px\" viewBox=\"0 -960 960 960\">\n",
              "    <path d=\"M120-120v-720h720v720H120Zm60-500h600v-160H180v160Zm220 220h160v-160H400v160Zm0 220h160v-160H400v160ZM180-400h160v-160H180v160Zm440 0h160v-160H620v160ZM180-180h160v-160H180v160Zm440 0h160v-160H620v160Z\"/>\n",
              "  </svg>\n",
              "    </button>\n",
              "\n",
              "  <style>\n",
              "    .colab-df-container {\n",
              "      display:flex;\n",
              "      gap: 12px;\n",
              "    }\n",
              "\n",
              "    .colab-df-convert {\n",
              "      background-color: #E8F0FE;\n",
              "      border: none;\n",
              "      border-radius: 50%;\n",
              "      cursor: pointer;\n",
              "      display: none;\n",
              "      fill: #1967D2;\n",
              "      height: 32px;\n",
              "      padding: 0 0 0 0;\n",
              "      width: 32px;\n",
              "    }\n",
              "\n",
              "    .colab-df-convert:hover {\n",
              "      background-color: #E2EBFA;\n",
              "      box-shadow: 0px 1px 2px rgba(60, 64, 67, 0.3), 0px 1px 3px 1px rgba(60, 64, 67, 0.15);\n",
              "      fill: #174EA6;\n",
              "    }\n",
              "\n",
              "    .colab-df-buttons div {\n",
              "      margin-bottom: 4px;\n",
              "    }\n",
              "\n",
              "    [theme=dark] .colab-df-convert {\n",
              "      background-color: #3B4455;\n",
              "      fill: #D2E3FC;\n",
              "    }\n",
              "\n",
              "    [theme=dark] .colab-df-convert:hover {\n",
              "      background-color: #434B5C;\n",
              "      box-shadow: 0px 1px 3px 1px rgba(0, 0, 0, 0.15);\n",
              "      filter: drop-shadow(0px 1px 2px rgba(0, 0, 0, 0.3));\n",
              "      fill: #FFFFFF;\n",
              "    }\n",
              "  </style>\n",
              "\n",
              "    <script>\n",
              "      const buttonEl =\n",
              "        document.querySelector('#df-35d4324d-8cc9-4403-a31e-8fd6c27f516e button.colab-df-convert');\n",
              "      buttonEl.style.display =\n",
              "        google.colab.kernel.accessAllowed ? 'block' : 'none';\n",
              "\n",
              "      async function convertToInteractive(key) {\n",
              "        const element = document.querySelector('#df-35d4324d-8cc9-4403-a31e-8fd6c27f516e');\n",
              "        const dataTable =\n",
              "          await google.colab.kernel.invokeFunction('convertToInteractive',\n",
              "                                                    [key], {});\n",
              "        if (!dataTable) return;\n",
              "\n",
              "        const docLinkHtml = 'Like what you see? Visit the ' +\n",
              "          '<a target=\"_blank\" href=https://colab.research.google.com/notebooks/data_table.ipynb>data table notebook</a>'\n",
              "          + ' to learn more about interactive tables.';\n",
              "        element.innerHTML = '';\n",
              "        dataTable['output_type'] = 'display_data';\n",
              "        await google.colab.output.renderOutput(dataTable, element);\n",
              "        const docLink = document.createElement('div');\n",
              "        docLink.innerHTML = docLinkHtml;\n",
              "        element.appendChild(docLink);\n",
              "      }\n",
              "    </script>\n",
              "  </div>\n",
              "\n",
              "\n",
              "<div id=\"df-4d914364-f549-403b-abbe-ff27519386d1\">\n",
              "  <button class=\"colab-df-quickchart\" onclick=\"quickchart('df-4d914364-f549-403b-abbe-ff27519386d1')\"\n",
              "            title=\"Suggest charts\"\n",
              "            style=\"display:none;\">\n",
              "\n",
              "<svg xmlns=\"http://www.w3.org/2000/svg\" height=\"24px\"viewBox=\"0 0 24 24\"\n",
              "     width=\"24px\">\n",
              "    <g>\n",
              "        <path d=\"M19 3H5c-1.1 0-2 .9-2 2v14c0 1.1.9 2 2 2h14c1.1 0 2-.9 2-2V5c0-1.1-.9-2-2-2zM9 17H7v-7h2v7zm4 0h-2V7h2v10zm4 0h-2v-4h2v4z\"/>\n",
              "    </g>\n",
              "</svg>\n",
              "  </button>\n",
              "\n",
              "<style>\n",
              "  .colab-df-quickchart {\n",
              "      --bg-color: #E8F0FE;\n",
              "      --fill-color: #1967D2;\n",
              "      --hover-bg-color: #E2EBFA;\n",
              "      --hover-fill-color: #174EA6;\n",
              "      --disabled-fill-color: #AAA;\n",
              "      --disabled-bg-color: #DDD;\n",
              "  }\n",
              "\n",
              "  [theme=dark] .colab-df-quickchart {\n",
              "      --bg-color: #3B4455;\n",
              "      --fill-color: #D2E3FC;\n",
              "      --hover-bg-color: #434B5C;\n",
              "      --hover-fill-color: #FFFFFF;\n",
              "      --disabled-bg-color: #3B4455;\n",
              "      --disabled-fill-color: #666;\n",
              "  }\n",
              "\n",
              "  .colab-df-quickchart {\n",
              "    background-color: var(--bg-color);\n",
              "    border: none;\n",
              "    border-radius: 50%;\n",
              "    cursor: pointer;\n",
              "    display: none;\n",
              "    fill: var(--fill-color);\n",
              "    height: 32px;\n",
              "    padding: 0;\n",
              "    width: 32px;\n",
              "  }\n",
              "\n",
              "  .colab-df-quickchart:hover {\n",
              "    background-color: var(--hover-bg-color);\n",
              "    box-shadow: 0 1px 2px rgba(60, 64, 67, 0.3), 0 1px 3px 1px rgba(60, 64, 67, 0.15);\n",
              "    fill: var(--button-hover-fill-color);\n",
              "  }\n",
              "\n",
              "  .colab-df-quickchart-complete:disabled,\n",
              "  .colab-df-quickchart-complete:disabled:hover {\n",
              "    background-color: var(--disabled-bg-color);\n",
              "    fill: var(--disabled-fill-color);\n",
              "    box-shadow: none;\n",
              "  }\n",
              "\n",
              "  .colab-df-spinner {\n",
              "    border: 2px solid var(--fill-color);\n",
              "    border-color: transparent;\n",
              "    border-bottom-color: var(--fill-color);\n",
              "    animation:\n",
              "      spin 1s steps(1) infinite;\n",
              "  }\n",
              "\n",
              "  @keyframes spin {\n",
              "    0% {\n",
              "      border-color: transparent;\n",
              "      border-bottom-color: var(--fill-color);\n",
              "      border-left-color: var(--fill-color);\n",
              "    }\n",
              "    20% {\n",
              "      border-color: transparent;\n",
              "      border-left-color: var(--fill-color);\n",
              "      border-top-color: var(--fill-color);\n",
              "    }\n",
              "    30% {\n",
              "      border-color: transparent;\n",
              "      border-left-color: var(--fill-color);\n",
              "      border-top-color: var(--fill-color);\n",
              "      border-right-color: var(--fill-color);\n",
              "    }\n",
              "    40% {\n",
              "      border-color: transparent;\n",
              "      border-right-color: var(--fill-color);\n",
              "      border-top-color: var(--fill-color);\n",
              "    }\n",
              "    60% {\n",
              "      border-color: transparent;\n",
              "      border-right-color: var(--fill-color);\n",
              "    }\n",
              "    80% {\n",
              "      border-color: transparent;\n",
              "      border-right-color: var(--fill-color);\n",
              "      border-bottom-color: var(--fill-color);\n",
              "    }\n",
              "    90% {\n",
              "      border-color: transparent;\n",
              "      border-bottom-color: var(--fill-color);\n",
              "    }\n",
              "  }\n",
              "</style>\n",
              "\n",
              "  <script>\n",
              "    async function quickchart(key) {\n",
              "      const quickchartButtonEl =\n",
              "        document.querySelector('#' + key + ' button');\n",
              "      quickchartButtonEl.disabled = true;  // To prevent multiple clicks.\n",
              "      quickchartButtonEl.classList.add('colab-df-spinner');\n",
              "      try {\n",
              "        const charts = await google.colab.kernel.invokeFunction(\n",
              "            'suggestCharts', [key], {});\n",
              "      } catch (error) {\n",
              "        console.error('Error during call to suggestCharts:', error);\n",
              "      }\n",
              "      quickchartButtonEl.classList.remove('colab-df-spinner');\n",
              "      quickchartButtonEl.classList.add('colab-df-quickchart-complete');\n",
              "    }\n",
              "    (() => {\n",
              "      let quickchartButtonEl =\n",
              "        document.querySelector('#df-4d914364-f549-403b-abbe-ff27519386d1 button');\n",
              "      quickchartButtonEl.style.display =\n",
              "        google.colab.kernel.accessAllowed ? 'block' : 'none';\n",
              "    })();\n",
              "  </script>\n",
              "</div>\n",
              "\n",
              "  <div id=\"id_234ea8d7-0e43-4e6b-a1d5-3377677e2c6f\">\n",
              "    <style>\n",
              "      .colab-df-generate {\n",
              "        background-color: #E8F0FE;\n",
              "        border: none;\n",
              "        border-radius: 50%;\n",
              "        cursor: pointer;\n",
              "        display: none;\n",
              "        fill: #1967D2;\n",
              "        height: 32px;\n",
              "        padding: 0 0 0 0;\n",
              "        width: 32px;\n",
              "      }\n",
              "\n",
              "      .colab-df-generate:hover {\n",
              "        background-color: #E2EBFA;\n",
              "        box-shadow: 0px 1px 2px rgba(60, 64, 67, 0.3), 0px 1px 3px 1px rgba(60, 64, 67, 0.15);\n",
              "        fill: #174EA6;\n",
              "      }\n",
              "\n",
              "      [theme=dark] .colab-df-generate {\n",
              "        background-color: #3B4455;\n",
              "        fill: #D2E3FC;\n",
              "      }\n",
              "\n",
              "      [theme=dark] .colab-df-generate:hover {\n",
              "        background-color: #434B5C;\n",
              "        box-shadow: 0px 1px 3px 1px rgba(0, 0, 0, 0.15);\n",
              "        filter: drop-shadow(0px 1px 2px rgba(0, 0, 0, 0.3));\n",
              "        fill: #FFFFFF;\n",
              "      }\n",
              "    </style>\n",
              "    <button class=\"colab-df-generate\" onclick=\"generateWithVariable('X')\"\n",
              "            title=\"Generate code using this dataframe.\"\n",
              "            style=\"display:none;\">\n",
              "\n",
              "  <svg xmlns=\"http://www.w3.org/2000/svg\" height=\"24px\"viewBox=\"0 0 24 24\"\n",
              "       width=\"24px\">\n",
              "    <path d=\"M7,19H8.4L18.45,9,17,7.55,7,17.6ZM5,21V16.75L18.45,3.32a2,2,0,0,1,2.83,0l1.4,1.43a1.91,1.91,0,0,1,.58,1.4,1.91,1.91,0,0,1-.58,1.4L9.25,21ZM18.45,9,17,7.55Zm-12,3A5.31,5.31,0,0,0,4.9,8.1,5.31,5.31,0,0,0,1,6.5,5.31,5.31,0,0,0,4.9,4.9,5.31,5.31,0,0,0,6.5,1,5.31,5.31,0,0,0,8.1,4.9,5.31,5.31,0,0,0,12,6.5,5.46,5.46,0,0,0,6.5,12Z\"/>\n",
              "  </svg>\n",
              "    </button>\n",
              "    <script>\n",
              "      (() => {\n",
              "      const buttonEl =\n",
              "        document.querySelector('#id_234ea8d7-0e43-4e6b-a1d5-3377677e2c6f button.colab-df-generate');\n",
              "      buttonEl.style.display =\n",
              "        google.colab.kernel.accessAllowed ? 'block' : 'none';\n",
              "\n",
              "      buttonEl.onclick = () => {\n",
              "        google.colab.notebook.generateWithVariable('X');\n",
              "      }\n",
              "      })();\n",
              "    </script>\n",
              "  </div>\n",
              "\n",
              "    </div>\n",
              "  </div>\n"
            ],
            "application/vnd.google.colaboratory.intrinsic+json": {
              "type": "dataframe",
              "variable_name": "X",
              "summary": "{\n  \"name\": \"X\",\n  \"rows\": 333,\n  \"fields\": [\n    {\n      \"column\": \"bill_length_mm\",\n      \"properties\": {\n        \"dtype\": \"number\",\n        \"std\": 5.468668342647559,\n        \"min\": 32.1,\n        \"max\": 59.6,\n        \"num_unique_values\": 163,\n        \"samples\": [\n          59.6,\n          48.1,\n          46.3\n        ],\n        \"semantic_type\": \"\",\n        \"description\": \"\"\n      }\n    },\n    {\n      \"column\": \"bill_depth_mm\",\n      \"properties\": {\n        \"dtype\": \"number\",\n        \"std\": 1.9692354633199007,\n        \"min\": 13.1,\n        \"max\": 21.5,\n        \"num_unique_values\": 79,\n        \"samples\": [\n          19.5,\n          18.7,\n          17.0\n        ],\n        \"semantic_type\": \"\",\n        \"description\": \"\"\n      }\n    },\n    {\n      \"column\": \"flipper_length_mm\",\n      \"properties\": {\n        \"dtype\": \"number\",\n        \"std\": 14.015765288287879,\n        \"min\": 172.0,\n        \"max\": 231.0,\n        \"num_unique_values\": 54,\n        \"samples\": [\n          188.0,\n          231.0,\n          224.0\n        ],\n        \"semantic_type\": \"\",\n        \"description\": \"\"\n      }\n    }\n  ]\n}"
            }
          },
          "metadata": {},
          "execution_count": 108
        }
      ]
    },
    {
      "cell_type": "code",
      "source": [
        "from sklearn.preprocessing import StandardScaler\n",
        "\n",
        "# Inicializar el escalador StandardScaler\n",
        "scaler = StandardScaler()\n",
        "\n",
        "# Normalizar las características en X\n",
        "X_normalized = scaler.fit_transform(X)\n",
        "\n",
        "X_normalized_df = pd.DataFrame(X_normalized, columns=X.columns)"
      ],
      "metadata": {
        "id": "HnQLc3-0R3XP"
      },
      "execution_count": null,
      "outputs": []
    },
    {
      "cell_type": "code",
      "source": [
        "X_normalized_df"
      ],
      "metadata": {
        "colab": {
          "base_uri": "https://localhost:8080/",
          "height": 424
        },
        "id": "6lTQ-VLcSXbM",
        "outputId": "51ee6e25-1d43-46a3-e405-7b92ad9abcf5"
      },
      "execution_count": null,
      "outputs": [
        {
          "output_type": "execute_result",
          "data": {
            "text/plain": [
              "     bill_length_mm  bill_depth_mm  flipper_length_mm\n",
              "0         -0.896042       0.780732          -1.426752\n",
              "1         -0.822788       0.119584          -1.069474\n",
              "2         -0.676280       0.424729          -0.426373\n",
              "3         -1.335566       1.085877          -0.569284\n",
              "4         -0.859415       1.747026          -0.783651\n",
              "..              ...            ...                ...\n",
              "328        0.587352      -1.762145           0.931283\n",
              "329        0.514098      -1.457000           1.002739\n",
              "330        1.173384      -0.744994           1.502928\n",
              "331        0.221082      -1.202712           0.788372\n",
              "332        1.081817      -0.541564           0.859828\n",
              "\n",
              "[333 rows x 3 columns]"
            ],
            "text/html": [
              "\n",
              "  <div id=\"df-763c3bb4-b19c-42e2-8bda-25c9d1444d54\" class=\"colab-df-container\">\n",
              "    <div>\n",
              "<style scoped>\n",
              "    .dataframe tbody tr th:only-of-type {\n",
              "        vertical-align: middle;\n",
              "    }\n",
              "\n",
              "    .dataframe tbody tr th {\n",
              "        vertical-align: top;\n",
              "    }\n",
              "\n",
              "    .dataframe thead th {\n",
              "        text-align: right;\n",
              "    }\n",
              "</style>\n",
              "<table border=\"1\" class=\"dataframe\">\n",
              "  <thead>\n",
              "    <tr style=\"text-align: right;\">\n",
              "      <th></th>\n",
              "      <th>bill_length_mm</th>\n",
              "      <th>bill_depth_mm</th>\n",
              "      <th>flipper_length_mm</th>\n",
              "    </tr>\n",
              "  </thead>\n",
              "  <tbody>\n",
              "    <tr>\n",
              "      <th>0</th>\n",
              "      <td>-0.896042</td>\n",
              "      <td>0.780732</td>\n",
              "      <td>-1.426752</td>\n",
              "    </tr>\n",
              "    <tr>\n",
              "      <th>1</th>\n",
              "      <td>-0.822788</td>\n",
              "      <td>0.119584</td>\n",
              "      <td>-1.069474</td>\n",
              "    </tr>\n",
              "    <tr>\n",
              "      <th>2</th>\n",
              "      <td>-0.676280</td>\n",
              "      <td>0.424729</td>\n",
              "      <td>-0.426373</td>\n",
              "    </tr>\n",
              "    <tr>\n",
              "      <th>3</th>\n",
              "      <td>-1.335566</td>\n",
              "      <td>1.085877</td>\n",
              "      <td>-0.569284</td>\n",
              "    </tr>\n",
              "    <tr>\n",
              "      <th>4</th>\n",
              "      <td>-0.859415</td>\n",
              "      <td>1.747026</td>\n",
              "      <td>-0.783651</td>\n",
              "    </tr>\n",
              "    <tr>\n",
              "      <th>...</th>\n",
              "      <td>...</td>\n",
              "      <td>...</td>\n",
              "      <td>...</td>\n",
              "    </tr>\n",
              "    <tr>\n",
              "      <th>328</th>\n",
              "      <td>0.587352</td>\n",
              "      <td>-1.762145</td>\n",
              "      <td>0.931283</td>\n",
              "    </tr>\n",
              "    <tr>\n",
              "      <th>329</th>\n",
              "      <td>0.514098</td>\n",
              "      <td>-1.457000</td>\n",
              "      <td>1.002739</td>\n",
              "    </tr>\n",
              "    <tr>\n",
              "      <th>330</th>\n",
              "      <td>1.173384</td>\n",
              "      <td>-0.744994</td>\n",
              "      <td>1.502928</td>\n",
              "    </tr>\n",
              "    <tr>\n",
              "      <th>331</th>\n",
              "      <td>0.221082</td>\n",
              "      <td>-1.202712</td>\n",
              "      <td>0.788372</td>\n",
              "    </tr>\n",
              "    <tr>\n",
              "      <th>332</th>\n",
              "      <td>1.081817</td>\n",
              "      <td>-0.541564</td>\n",
              "      <td>0.859828</td>\n",
              "    </tr>\n",
              "  </tbody>\n",
              "</table>\n",
              "<p>333 rows × 3 columns</p>\n",
              "</div>\n",
              "    <div class=\"colab-df-buttons\">\n",
              "\n",
              "  <div class=\"colab-df-container\">\n",
              "    <button class=\"colab-df-convert\" onclick=\"convertToInteractive('df-763c3bb4-b19c-42e2-8bda-25c9d1444d54')\"\n",
              "            title=\"Convert this dataframe to an interactive table.\"\n",
              "            style=\"display:none;\">\n",
              "\n",
              "  <svg xmlns=\"http://www.w3.org/2000/svg\" height=\"24px\" viewBox=\"0 -960 960 960\">\n",
              "    <path d=\"M120-120v-720h720v720H120Zm60-500h600v-160H180v160Zm220 220h160v-160H400v160Zm0 220h160v-160H400v160ZM180-400h160v-160H180v160Zm440 0h160v-160H620v160ZM180-180h160v-160H180v160Zm440 0h160v-160H620v160Z\"/>\n",
              "  </svg>\n",
              "    </button>\n",
              "\n",
              "  <style>\n",
              "    .colab-df-container {\n",
              "      display:flex;\n",
              "      gap: 12px;\n",
              "    }\n",
              "\n",
              "    .colab-df-convert {\n",
              "      background-color: #E8F0FE;\n",
              "      border: none;\n",
              "      border-radius: 50%;\n",
              "      cursor: pointer;\n",
              "      display: none;\n",
              "      fill: #1967D2;\n",
              "      height: 32px;\n",
              "      padding: 0 0 0 0;\n",
              "      width: 32px;\n",
              "    }\n",
              "\n",
              "    .colab-df-convert:hover {\n",
              "      background-color: #E2EBFA;\n",
              "      box-shadow: 0px 1px 2px rgba(60, 64, 67, 0.3), 0px 1px 3px 1px rgba(60, 64, 67, 0.15);\n",
              "      fill: #174EA6;\n",
              "    }\n",
              "\n",
              "    .colab-df-buttons div {\n",
              "      margin-bottom: 4px;\n",
              "    }\n",
              "\n",
              "    [theme=dark] .colab-df-convert {\n",
              "      background-color: #3B4455;\n",
              "      fill: #D2E3FC;\n",
              "    }\n",
              "\n",
              "    [theme=dark] .colab-df-convert:hover {\n",
              "      background-color: #434B5C;\n",
              "      box-shadow: 0px 1px 3px 1px rgba(0, 0, 0, 0.15);\n",
              "      filter: drop-shadow(0px 1px 2px rgba(0, 0, 0, 0.3));\n",
              "      fill: #FFFFFF;\n",
              "    }\n",
              "  </style>\n",
              "\n",
              "    <script>\n",
              "      const buttonEl =\n",
              "        document.querySelector('#df-763c3bb4-b19c-42e2-8bda-25c9d1444d54 button.colab-df-convert');\n",
              "      buttonEl.style.display =\n",
              "        google.colab.kernel.accessAllowed ? 'block' : 'none';\n",
              "\n",
              "      async function convertToInteractive(key) {\n",
              "        const element = document.querySelector('#df-763c3bb4-b19c-42e2-8bda-25c9d1444d54');\n",
              "        const dataTable =\n",
              "          await google.colab.kernel.invokeFunction('convertToInteractive',\n",
              "                                                    [key], {});\n",
              "        if (!dataTable) return;\n",
              "\n",
              "        const docLinkHtml = 'Like what you see? Visit the ' +\n",
              "          '<a target=\"_blank\" href=https://colab.research.google.com/notebooks/data_table.ipynb>data table notebook</a>'\n",
              "          + ' to learn more about interactive tables.';\n",
              "        element.innerHTML = '';\n",
              "        dataTable['output_type'] = 'display_data';\n",
              "        await google.colab.output.renderOutput(dataTable, element);\n",
              "        const docLink = document.createElement('div');\n",
              "        docLink.innerHTML = docLinkHtml;\n",
              "        element.appendChild(docLink);\n",
              "      }\n",
              "    </script>\n",
              "  </div>\n",
              "\n",
              "\n",
              "<div id=\"df-d3ee7c1f-06bf-488b-bb4c-6b011d7c389f\">\n",
              "  <button class=\"colab-df-quickchart\" onclick=\"quickchart('df-d3ee7c1f-06bf-488b-bb4c-6b011d7c389f')\"\n",
              "            title=\"Suggest charts\"\n",
              "            style=\"display:none;\">\n",
              "\n",
              "<svg xmlns=\"http://www.w3.org/2000/svg\" height=\"24px\"viewBox=\"0 0 24 24\"\n",
              "     width=\"24px\">\n",
              "    <g>\n",
              "        <path d=\"M19 3H5c-1.1 0-2 .9-2 2v14c0 1.1.9 2 2 2h14c1.1 0 2-.9 2-2V5c0-1.1-.9-2-2-2zM9 17H7v-7h2v7zm4 0h-2V7h2v10zm4 0h-2v-4h2v4z\"/>\n",
              "    </g>\n",
              "</svg>\n",
              "  </button>\n",
              "\n",
              "<style>\n",
              "  .colab-df-quickchart {\n",
              "      --bg-color: #E8F0FE;\n",
              "      --fill-color: #1967D2;\n",
              "      --hover-bg-color: #E2EBFA;\n",
              "      --hover-fill-color: #174EA6;\n",
              "      --disabled-fill-color: #AAA;\n",
              "      --disabled-bg-color: #DDD;\n",
              "  }\n",
              "\n",
              "  [theme=dark] .colab-df-quickchart {\n",
              "      --bg-color: #3B4455;\n",
              "      --fill-color: #D2E3FC;\n",
              "      --hover-bg-color: #434B5C;\n",
              "      --hover-fill-color: #FFFFFF;\n",
              "      --disabled-bg-color: #3B4455;\n",
              "      --disabled-fill-color: #666;\n",
              "  }\n",
              "\n",
              "  .colab-df-quickchart {\n",
              "    background-color: var(--bg-color);\n",
              "    border: none;\n",
              "    border-radius: 50%;\n",
              "    cursor: pointer;\n",
              "    display: none;\n",
              "    fill: var(--fill-color);\n",
              "    height: 32px;\n",
              "    padding: 0;\n",
              "    width: 32px;\n",
              "  }\n",
              "\n",
              "  .colab-df-quickchart:hover {\n",
              "    background-color: var(--hover-bg-color);\n",
              "    box-shadow: 0 1px 2px rgba(60, 64, 67, 0.3), 0 1px 3px 1px rgba(60, 64, 67, 0.15);\n",
              "    fill: var(--button-hover-fill-color);\n",
              "  }\n",
              "\n",
              "  .colab-df-quickchart-complete:disabled,\n",
              "  .colab-df-quickchart-complete:disabled:hover {\n",
              "    background-color: var(--disabled-bg-color);\n",
              "    fill: var(--disabled-fill-color);\n",
              "    box-shadow: none;\n",
              "  }\n",
              "\n",
              "  .colab-df-spinner {\n",
              "    border: 2px solid var(--fill-color);\n",
              "    border-color: transparent;\n",
              "    border-bottom-color: var(--fill-color);\n",
              "    animation:\n",
              "      spin 1s steps(1) infinite;\n",
              "  }\n",
              "\n",
              "  @keyframes spin {\n",
              "    0% {\n",
              "      border-color: transparent;\n",
              "      border-bottom-color: var(--fill-color);\n",
              "      border-left-color: var(--fill-color);\n",
              "    }\n",
              "    20% {\n",
              "      border-color: transparent;\n",
              "      border-left-color: var(--fill-color);\n",
              "      border-top-color: var(--fill-color);\n",
              "    }\n",
              "    30% {\n",
              "      border-color: transparent;\n",
              "      border-left-color: var(--fill-color);\n",
              "      border-top-color: var(--fill-color);\n",
              "      border-right-color: var(--fill-color);\n",
              "    }\n",
              "    40% {\n",
              "      border-color: transparent;\n",
              "      border-right-color: var(--fill-color);\n",
              "      border-top-color: var(--fill-color);\n",
              "    }\n",
              "    60% {\n",
              "      border-color: transparent;\n",
              "      border-right-color: var(--fill-color);\n",
              "    }\n",
              "    80% {\n",
              "      border-color: transparent;\n",
              "      border-right-color: var(--fill-color);\n",
              "      border-bottom-color: var(--fill-color);\n",
              "    }\n",
              "    90% {\n",
              "      border-color: transparent;\n",
              "      border-bottom-color: var(--fill-color);\n",
              "    }\n",
              "  }\n",
              "</style>\n",
              "\n",
              "  <script>\n",
              "    async function quickchart(key) {\n",
              "      const quickchartButtonEl =\n",
              "        document.querySelector('#' + key + ' button');\n",
              "      quickchartButtonEl.disabled = true;  // To prevent multiple clicks.\n",
              "      quickchartButtonEl.classList.add('colab-df-spinner');\n",
              "      try {\n",
              "        const charts = await google.colab.kernel.invokeFunction(\n",
              "            'suggestCharts', [key], {});\n",
              "      } catch (error) {\n",
              "        console.error('Error during call to suggestCharts:', error);\n",
              "      }\n",
              "      quickchartButtonEl.classList.remove('colab-df-spinner');\n",
              "      quickchartButtonEl.classList.add('colab-df-quickchart-complete');\n",
              "    }\n",
              "    (() => {\n",
              "      let quickchartButtonEl =\n",
              "        document.querySelector('#df-d3ee7c1f-06bf-488b-bb4c-6b011d7c389f button');\n",
              "      quickchartButtonEl.style.display =\n",
              "        google.colab.kernel.accessAllowed ? 'block' : 'none';\n",
              "    })();\n",
              "  </script>\n",
              "</div>\n",
              "\n",
              "  <div id=\"id_0ff510fd-d016-4e49-b8b7-012f6b6c4491\">\n",
              "    <style>\n",
              "      .colab-df-generate {\n",
              "        background-color: #E8F0FE;\n",
              "        border: none;\n",
              "        border-radius: 50%;\n",
              "        cursor: pointer;\n",
              "        display: none;\n",
              "        fill: #1967D2;\n",
              "        height: 32px;\n",
              "        padding: 0 0 0 0;\n",
              "        width: 32px;\n",
              "      }\n",
              "\n",
              "      .colab-df-generate:hover {\n",
              "        background-color: #E2EBFA;\n",
              "        box-shadow: 0px 1px 2px rgba(60, 64, 67, 0.3), 0px 1px 3px 1px rgba(60, 64, 67, 0.15);\n",
              "        fill: #174EA6;\n",
              "      }\n",
              "\n",
              "      [theme=dark] .colab-df-generate {\n",
              "        background-color: #3B4455;\n",
              "        fill: #D2E3FC;\n",
              "      }\n",
              "\n",
              "      [theme=dark] .colab-df-generate:hover {\n",
              "        background-color: #434B5C;\n",
              "        box-shadow: 0px 1px 3px 1px rgba(0, 0, 0, 0.15);\n",
              "        filter: drop-shadow(0px 1px 2px rgba(0, 0, 0, 0.3));\n",
              "        fill: #FFFFFF;\n",
              "      }\n",
              "    </style>\n",
              "    <button class=\"colab-df-generate\" onclick=\"generateWithVariable('X_normalized_df')\"\n",
              "            title=\"Generate code using this dataframe.\"\n",
              "            style=\"display:none;\">\n",
              "\n",
              "  <svg xmlns=\"http://www.w3.org/2000/svg\" height=\"24px\"viewBox=\"0 0 24 24\"\n",
              "       width=\"24px\">\n",
              "    <path d=\"M7,19H8.4L18.45,9,17,7.55,7,17.6ZM5,21V16.75L18.45,3.32a2,2,0,0,1,2.83,0l1.4,1.43a1.91,1.91,0,0,1,.58,1.4,1.91,1.91,0,0,1-.58,1.4L9.25,21ZM18.45,9,17,7.55Zm-12,3A5.31,5.31,0,0,0,4.9,8.1,5.31,5.31,0,0,0,1,6.5,5.31,5.31,0,0,0,4.9,4.9,5.31,5.31,0,0,0,6.5,1,5.31,5.31,0,0,0,8.1,4.9,5.31,5.31,0,0,0,12,6.5,5.46,5.46,0,0,0,6.5,12Z\"/>\n",
              "  </svg>\n",
              "    </button>\n",
              "    <script>\n",
              "      (() => {\n",
              "      const buttonEl =\n",
              "        document.querySelector('#id_0ff510fd-d016-4e49-b8b7-012f6b6c4491 button.colab-df-generate');\n",
              "      buttonEl.style.display =\n",
              "        google.colab.kernel.accessAllowed ? 'block' : 'none';\n",
              "\n",
              "      buttonEl.onclick = () => {\n",
              "        google.colab.notebook.generateWithVariable('X_normalized_df');\n",
              "      }\n",
              "      })();\n",
              "    </script>\n",
              "  </div>\n",
              "\n",
              "    </div>\n",
              "  </div>\n"
            ],
            "application/vnd.google.colaboratory.intrinsic+json": {
              "type": "dataframe",
              "variable_name": "X_normalized_df",
              "summary": "{\n  \"name\": \"X_normalized_df\",\n  \"rows\": 333,\n  \"fields\": [\n    {\n      \"column\": \"bill_length_mm\",\n      \"properties\": {\n        \"dtype\": \"number\",\n        \"std\": 1.0015048917468008,\n        \"min\": -2.1779872927431403,\n        \"max\": 2.8582267903554412,\n        \"num_unique_values\": 163,\n        \"samples\": [\n          2.8582267903554412,\n          0.7521736283323981,\n          0.42253052471139924\n        ],\n        \"semantic_type\": \"\",\n        \"description\": \"\"\n      }\n    },\n    {\n      \"column\": \"bill_depth_mm\",\n      \"properties\": {\n        \"dtype\": \"number\",\n        \"std\": 1.0015048917468008,\n        \"min\": -2.067290642627703,\n        \"max\": 2.204743477908801,\n        \"num_unique_values\": 79,\n        \"samples\": [\n          1.187592496828681,\n          0.7807321043966328,\n          -0.08384622952146882\n        ],\n        \"semantic_type\": \"\",\n        \"description\": \"\"\n      }\n    },\n    {\n      \"column\": \"flipper_length_mm\",\n      \"properties\": {\n        \"dtype\": \"number\",\n        \"std\": 1.0015048917468008,\n        \"min\": -2.0698519502697263,\n        \"max\": 2.1460283386530725,\n        \"num_unique_values\": 54,\n        \"samples\": [\n          -0.9265623803923573,\n          2.1460283386530725,\n          1.6458391518317235\n        ],\n        \"semantic_type\": \"\",\n        \"description\": \"\"\n      }\n    }\n  ]\n}"
            }
          },
          "metadata": {},
          "execution_count": 110
        }
      ]
    },
    {
      "cell_type": "markdown",
      "source": [
        "Aquí hay algunos puntos clave a tener en cuenta para verificar si los datos están correctamente normalizados:\n",
        "\n",
        "Media cercana a cero: La media de cada columna debería estar cerca de cero. En tu tabla, las medias parecen estar centradas alrededor de cero.\n",
        "Desviación estándar cercana a uno: La desviación estándar de cada columna debería estar cerca de uno. En tu tabla, las desviaciones estándar parecen estar cerca de uno.\n",
        "\n",
        "Rango de valores: Los valores normalizados deben estar en un rango razonable, generalmente entre -3 y 3, pero esto puede variar dependiendo de los datos y del método de normalización utilizado."
      ],
      "metadata": {
        "id": "ilnDYs88TwKq"
      }
    },
    {
      "cell_type": "markdown",
      "source": [
        "**Aquí hay algunas ideas adicionales de feature engineering que se podrían explorar dependiendo de la data:**\n",
        "\n",
        "Creación de nuevas características: Puedes crear nuevas características a partir de las características existentes mediante operaciones matemáticas, como suma, resta, multiplicación, división, potenciación, raíces cuadradas, etc. También puedes combinar múltiples características para crear características compuestas que podrían ser más informativas.\n",
        "\n",
        "Transformaciones no lineales: Algunos algoritmos pueden beneficiarse de transformaciones no lineales de las características, como aplicar funciones como logaritmo, exponencial, función sigmoide, etc. Esto podría ayudar a capturar relaciones no lineales entre las características y la variable objetivo.\n",
        "\n",
        "Discretización de características: Si tienes características numéricas continuas, podrías discretizarlas en rangos discretos o intervalos para convertirlas en características categóricas. Esto podría ayudar a modelar relaciones no lineales y a lidiar con valores atípicos.\n",
        "\n",
        "Codificación de variables categóricas: Si tienes características categóricas, puedes convertirlas en variables numéricas utilizando técnicas como one-hot encoding, label encoding, target encoding, etc.\n",
        "\n",
        "Selección de características: Puedes utilizar técnicas de selección de características para identificar las características más importantes que contribuyen a la predicción del objetivo. Esto puede ayudar a reducir la dimensionalidad y mejorar la eficiencia computacional y la generalización del modelo.\n",
        "\n",
        "Interacciones entre características: Puedes crear nuevas características que representen interacciones o combinaciones de características existentes. Por ejemplo, producto de dos características o cociente entre ellas."
      ],
      "metadata": {
        "id": "PhNKTR9-dLGF"
      }
    },
    {
      "cell_type": "markdown",
      "source": [],
      "metadata": {
        "id": "LZUfKDa77vB5"
      }
    },
    {
      "cell_type": "code",
      "source": [
        "# Variables explicativas\n",
        "X_normalized\n",
        "\n",
        "# Variable explicada\n",
        "y"
      ],
      "metadata": {
        "colab": {
          "base_uri": "https://localhost:8080/"
        },
        "id": "uSkUHNHpb0tu",
        "outputId": "10788881-c3a7-48c4-c160-076c5180e5d9"
      },
      "execution_count": null,
      "outputs": [
        {
          "output_type": "execute_result",
          "data": {
            "text/plain": [
              "0      3750.0\n",
              "1      3800.0\n",
              "2      3250.0\n",
              "4      3450.0\n",
              "5      3650.0\n",
              "        ...  \n",
              "338    4925.0\n",
              "340    4850.0\n",
              "341    5750.0\n",
              "342    5200.0\n",
              "343    5400.0\n",
              "Name: body_mass_g, Length: 333, dtype: float64"
            ]
          },
          "metadata": {},
          "execution_count": 111
        }
      ]
    },
    {
      "cell_type": "code",
      "source": [
        "from sklearn.model_selection import train_test_split\n",
        "\n",
        "# Dividir los datos en conjuntos de entrenamiento y prueba\n",
        "X_train, X_test, y_train, y_test = train_test_split(X_normalized, y, test_size=0.2, random_state=42)\n",
        "\n",
        "# 'test_size=0.2' indica que el 20% de los datos se usarán como conjunto de prueba\n",
        "# 'random_state=42' proporciona una semilla para la aleatorización, asegurando reproducibilidad"
      ],
      "metadata": {
        "id": "XRXA_37aGJ1Z"
      },
      "execution_count": null,
      "outputs": []
    },
    {
      "cell_type": "code",
      "source": [
        "from sklearn.model_selection import train_test_split, cross_val_score\n",
        "from sklearn.linear_model import LinearRegression\n",
        "# Aplicar la validación cruzada k-fold en el conjunto de entrenamiento\n",
        "model = LinearRegression()\n",
        "cv_scores = cross_val_score(model, X_train, y_train, cv=5)  # cv=5 para usar validación cruzada k-fold con k=5\n",
        "\n",
        "# Imprimir las puntuaciones de validación cruzada\n",
        "print(\"Puntuaciones de validación cruzada:\", cv_scores)\n",
        "print(\"Puntuación media de validación cruzada:\", np.mean(cv_scores))"
      ],
      "metadata": {
        "colab": {
          "base_uri": "https://localhost:8080/"
        },
        "id": "wngAWdPPdgOp",
        "outputId": "b3b84509-cb38-4a42-e596-ebbf880ba80f"
      },
      "execution_count": null,
      "outputs": [
        {
          "output_type": "stream",
          "name": "stdout",
          "text": [
            "Puntuaciones de validación cruzada: [0.6884255  0.81164236 0.76125394 0.73533364 0.72759026]\n",
            "Puntuación media de validación cruzada: 0.7448491385197936\n"
          ]
        }
      ]
    },
    {
      "cell_type": "markdown",
      "source": [
        "Exacto, en este caso parece que las puntuaciones de validación cruzada son bastante consistentes entre los diferentes pliegues (folds), lo que indica que el modelo está generalizando de manera relativamente estable en diferentes subconjuntos de los datos de entrenamiento. La puntuación media de validación cruzada es una buena medida del rendimiento general del modelo y parece indicar que está obteniendo un buen rendimiento en promedio.\n",
        "\n",
        "Cuando las puntuaciones de validación cruzada varían significativamente entre los pliegues, puede ser un indicador de que el modelo está sobreajustando los datos de entrenamiento o que es sensible a la variación en los datos. En esos casos, puede ser útil investigar más a fondo las causas de esta variabilidad y considerar ajustes en el modelo o en los datos para mejorar la generalización.\n",
        "\n",
        "En resumen, tener puntuaciones de validación cruzada consistentes como las que has obtenido es una señal positiva y sugiere que el modelo está funcionando bien en este conjunto de datos."
      ],
      "metadata": {
        "id": "F4NSuHeWfr8w"
      }
    },
    {
      "cell_type": "code",
      "source": [
        "from sklearn.linear_model import LinearRegression\n",
        "\n",
        "# Crear una instancia del modelo de regresión lineal\n",
        "model = LinearRegression()\n",
        "\n",
        "# Ajustar el modelo a los datos de entrenamiento\n",
        "model.fit(X_train, y_train)\n",
        "\n",
        "# Una vez ajustado el modelo, puedes realizar predicciones en el conjunto de prueba\n",
        "y_pred = model.predict(X_test)"
      ],
      "metadata": {
        "id": "0ktWUDI1Rke6"
      },
      "execution_count": null,
      "outputs": []
    },
    {
      "cell_type": "code",
      "source": [
        "print(y_pred)"
      ],
      "metadata": {
        "colab": {
          "base_uri": "https://localhost:8080/"
        },
        "id": "ZBwkFw0aSquR",
        "outputId": "531ecd8b-fb6d-4942-e2d6-e78ff125649e"
      },
      "execution_count": null,
      "outputs": [
        {
          "output_type": "stream",
          "name": "stdout",
          "text": [
            "[3036.672239   5254.97621999 3925.045065   4087.38635138 3761.39329753\n",
            " 4736.74180001 5323.9059252  3949.33439266 3844.43086167 4261.39923571\n",
            " 3963.29126621 4066.97046977 4531.59211464 3798.06995326 4643.05370753\n",
            " 3376.74718601 3481.19624191 3779.20734824 3499.21809719 4841.32826939\n",
            " 3969.56042294 3647.28595473 5568.96990478 4366.23405996 3196.16333961\n",
            " 3538.69031018 4781.9599879  4795.66968463 3269.84509393 5630.96985796\n",
            " 3502.16514614 5701.15373138 4077.64696388 4241.02272635 5690.2694327\n",
            " 4600.05326654 3938.21581732 4526.26006452 3634.34947905 3414.01573031\n",
            " 3206.23555129 3638.20716252 4201.64518588 4123.73186729 3614.67478703\n",
            " 3470.1322951  5205.04602698 3563.58728897 3667.81614644 5114.43000306\n",
            " 3734.84398831 5024.06233401 4696.46989389 3150.33918493 3730.50485136\n",
            " 5177.36706284 3252.88587118 3942.07518515 4009.79127244 4358.33904488\n",
            " 5598.66167366 4917.94686946 5137.34233355 3805.73069169 3800.56421148\n",
            " 5441.03070804 3870.41576703]\n"
          ]
        }
      ]
    },
    {
      "cell_type": "code",
      "source": [
        "from sklearn.metrics import mean_squared_error\n",
        "\n",
        "# Calcular el RMSE\n",
        "rmse_linear = np.sqrt(mean_squared_error(y_test, y_pred))\n",
        "\n",
        "# Calcular los errores residuales\n",
        "residuals = y_test - y_pred\n",
        "\n",
        "print(f'El RMSE es: {rmse_linear}\\n')\n",
        "print(f'Los residuales son: {residuals}')"
      ],
      "metadata": {
        "colab": {
          "base_uri": "https://localhost:8080/"
        },
        "id": "467fTjAPSfrK",
        "outputId": "63f55f4e-e22d-4748-d1ca-b74b9a95d90c"
      },
      "execution_count": null,
      "outputs": [
        {
          "output_type": "stream",
          "name": "stdout",
          "text": [
            "El RMSE es: 356.6517523590454\n",
            "\n",
            "Los residuales son: 30     213.327761\n",
            "317   -379.976220\n",
            "79      74.954935\n",
            "201   -412.386351\n",
            "63     288.606702\n",
            "          ...    \n",
            "288   -437.342334\n",
            "4     -355.730692\n",
            "83     399.435789\n",
            "319   -191.030708\n",
            "66    -520.415767\n",
            "Name: body_mass_g, Length: 67, dtype: float64\n"
          ]
        }
      ]
    },
    {
      "cell_type": "markdown",
      "source": [
        "Un valor de RMSE de 356.65 indica que, en promedio, las predicciones del modelo están desviadas en aproximadamente 356.65 unidades en comparación con los valores reales."
      ],
      "metadata": {
        "id": "k0QkQl-_S-tq"
      }
    },
    {
      "cell_type": "code",
      "source": [
        "# Crear el histograma de los residuos con curva de densidad\n",
        "plt.figure(figsize=(8, 6))\n",
        "sns.histplot(residuals, kde=True, color='blue', alpha=0.7)\n",
        "plt.title('Histograma de Residuos con Curva de Densidad')\n",
        "plt.xlabel('Residuos')\n",
        "plt.ylabel('Frecuencia')\n",
        "plt.grid(True)\n",
        "plt.show()"
      ],
      "metadata": {
        "colab": {
          "base_uri": "https://localhost:8080/",
          "height": 564
        },
        "id": "V8kJu3Svr8gK",
        "outputId": "c0320933-0882-4c09-93c5-77f23bd13ea7"
      },
      "execution_count": null,
      "outputs": [
        {
          "output_type": "display_data",
          "data": {
            "text/plain": [
              "<Figure size 800x600 with 1 Axes>"
            ],
            "image/png": "[encoded data removed]"
          },
          "metadata": {}
        }
      ]
    },
    {
      "cell_type": "markdown",
      "source": [
        "Los residuos muestran un distribución normal, idealmente, los residuos de un modelo de regresión deberían seguir una distribución normal, ya que esto indica que el modelo está capturando adecuadamente la estructura subyacente de los datos y que los errores de predicción son aleatorios y no están sesgados en una dirección particular."
      ],
      "metadata": {
        "id": "59Tf0d6QsLFZ"
      }
    },
    {
      "cell_type": "code",
      "source": [
        "# Graficar los errores residuales\n",
        "plt.figure(figsize=(10, 6))\n",
        "plt.scatter(y_pred, residuals, alpha=0.5)\n",
        "plt.xlabel(\"Predicted values\")\n",
        "plt.ylabel(\"Residuals\")\n",
        "plt.title(\"Residual Plot\")\n",
        "plt.axhline(y=0, color='r', linestyle='--')\n",
        "plt.show()"
      ],
      "metadata": {
        "colab": {
          "base_uri": "https://localhost:8080/",
          "height": 564
        },
        "id": "2s0nA8N0i8vx",
        "outputId": "d997523f-31c9-4206-81ab-11c617c2feb3"
      },
      "execution_count": null,
      "outputs": [
        {
          "output_type": "display_data",
          "data": {
            "text/plain": [
              "<Figure size 1000x600 with 1 Axes>"
            ],
            "image/png": "[encoded data removed]"
          },
          "metadata": {}
        }
      ]
    },
    {
      "cell_type": "markdown",
      "source": [
        "Los residuos están dispersos y no muestran un patrón discernible. Esto indica que el modelo de regresión lineal está capturando la mayor parte de la variación en los datos y no hay relaciones no lineales importantes que el modelo no esté capturando. Esto es una señal positiva y sugiere que el modelo está funcionando adecuadamente para los datos proporcionados.\n",
        "\n",
        "La línea roja en el medio del histograma representa el valor cero en el eje vertical, lo que indica que los residuos tienen una media de cero. Esto significa que, en promedio, los residuos tienden a estar distribuidos equitativamente tanto por encima como por debajo de cero, lo que sugiere que el modelo no tiene un sesgo sistemático en sus predicciones.\n",
        "\n",
        "Si los residuos están cerca de cero, me refiero a que el promedio de los residuos tiende a ser cercano a cero. Es decir, si sumas todos los residuos y divides esa suma por el número total de residuos, obtendrás un valor cercano a cero.\n",
        "\n",
        "Esto es importante porque indica que, en promedio, el modelo no está cometiendo errores sistemáticos en sus predicciones. Si los residuos tienden a ser positivos en promedio, eso significa que el modelo tiende a subestimar los valores reales. Por otro lado, si los residuos tienden a ser negativos en promedio, eso indica que el modelo tiende a sobreestimar los valores reales.\n",
        "\n",
        "Cuando decimos que los residuos están distribuidos alrededor de cero, significa que en promedio no hay una tendencia de sobreestimar o subestimar consistentemente los valores reales. Si los residuos tienen una suma cercana a cero pero algunos son positivos y otros son negativos en cantidades grandes, podría indicar que el modelo está sesgado hacia un lado en particular. Por otro lado, si los residuos están distribuidos alrededor de cero de manera uniforme, significa que el modelo está haciendo predicciones que están en promedio en línea con los valores reales, lo cual es deseable.\n",
        "\n",
        "La dispersión de los residuos alrededor de cero es lo que indica que el modelo no tiene un sesgo sistemático y está haciendo predicciones razonablemente precisas."
      ],
      "metadata": {
        "id": "lDqcIWOBrmlO"
      }
    },
    {
      "cell_type": "markdown",
      "source": [
        "o sea si miro el histograma y el grafico de dispersion es como si diera vuelta el histograma.\n",
        "\n",
        "Exactamente, podrías pensar en el histograma como una especie de espejo del gráfico de dispersión. En el gráfico de dispersión, estás viendo cómo los residuos se distribuyen a lo largo del eje vertical (eje y), mientras que en el histograma, estás viendo cómo se distribuyen a lo largo del eje horizontal (eje x). Si la distribución es simétrica alrededor de cero en el histograma, y los puntos están dispersos uniformemente alrededor de la línea cero en el gráfico de dispersión, eso indica que el modelo está haciendo buenas predicciones en promedio.\n",
        "\n"
      ],
      "metadata": {
        "id": "k-8i3yks0tnE"
      }
    },
    {
      "cell_type": "code",
      "source": [
        "# Obtener los coeficientes de las características\n",
        "coeficientes = model.coef_\n",
        "coeficiente_bill_length_mm = round(coeficientes[0],3)\n",
        "coeficiente_bill_depth_mm = round(coeficientes[1],3)\n",
        "coeficiente_flipper_length_mm = round(coeficientes[2],3)\n",
        "\n",
        "# Obtener el término de intercepción\n",
        "intercepto = model.intercept_\n",
        "\n",
        "print(f'Los coeficientes son: {coeficientes}\\n')\n",
        "print(f'El intercepto es: {intercepto}\\n')\n",
        "print(f'La ecuación de regresión múltiple es:\\n Body mass = Intercepto {round(intercepto,3)} + bill_length_mm {coeficiente_bill_length_mm} + bill_depth_mm {coeficiente_bill_depth_mm} + flipper_length_mm {coeficiente_flipper_length_mm}')"
      ],
      "metadata": {
        "colab": {
          "base_uri": "https://localhost:8080/"
        },
        "id": "KSWcHT_kePEz",
        "outputId": "cc9c9ff0-dc09-4f7c-8bf6-45faa32b86eb"
      },
      "execution_count": null,
      "outputs": [
        {
          "output_type": "stream",
          "name": "stdout",
          "text": [
            "Los coeficientes son: [ 21.0646914   19.77707077 703.19549413]\n",
            "\n",
            "El intercepto es: 4212.706721548198\n",
            "\n",
            "La ecuación de regresión múltiple es:\n",
            " Body mass = Intercepto 4212.707 + bill_length_mm 21.065 + bill_depth_mm 19.777 + flipper_length_mm 703.195\n"
          ]
        }
      ]
    },
    {
      "cell_type": "markdown",
      "source": [
        "**Resumen completo**\n",
        "\n",
        "Para ello se debe usar OLS."
      ],
      "metadata": {
        "id": "M7Xe3YZG1HkC"
      }
    },
    {
      "cell_type": "code",
      "source": [
        "import statsmodels.api as sm\n",
        "\n",
        "# Añadir una columna de unos para representar el término de intercepción en el modelo\n",
        "X_train_with_intercept = sm.add_constant(X_train)\n",
        "\n",
        "# Crear un modelo OLS (Ordinary Least Squares)\n",
        "model = sm.OLS(y_train, X_train_with_intercept)\n",
        "\n",
        "# Ajustar el modelo\n",
        "results = model.fit()\n",
        "\n",
        "# Obtener los resultados de resumen\n",
        "print(results.summary())"
      ],
      "metadata": {
        "colab": {
          "base_uri": "https://localhost:8080/"
        },
        "id": "qgX9ya_41F8J",
        "outputId": "5d2711b1-ae30-420f-8caa-133d3bc6cc9f"
      },
      "execution_count": null,
      "outputs": [
        {
          "output_type": "stream",
          "name": "stdout",
          "text": [
            "                            OLS Regression Results                            \n",
            "==============================================================================\n",
            "Dep. Variable:            body_mass_g   R-squared:                       0.755\n",
            "Model:                            OLS   Adj. R-squared:                  0.752\n",
            "Method:                 Least Squares   F-statistic:                     269.3\n",
            "Date:                Sun, 14 Apr 2024   Prob (F-statistic):           1.01e-79\n",
            "Time:                        07:18:44   Log-Likelihood:                -1970.5\n",
            "No. Observations:                 266   AIC:                             3949.\n",
            "Df Residuals:                     262   BIC:                             3963.\n",
            "Df Model:                           3                                         \n",
            "Covariance Type:            nonrobust                                         \n",
            "==============================================================================\n",
            "                 coef    std err          t      P>|t|      [0.025      0.975]\n",
            "------------------------------------------------------------------------------\n",
            "const       4212.7067     24.662    170.819      0.000    4164.146    4261.267\n",
            "x1            21.0647     35.126      0.600      0.549     -48.100      90.230\n",
            "x2            19.7771     31.492      0.628      0.531     -42.232      81.786\n",
            "x3           703.1955     41.996     16.745      0.000     620.504     785.887\n",
            "==============================================================================\n",
            "Omnibus:                        5.174   Durbin-Watson:                   2.053\n",
            "Prob(Omnibus):                  0.075   Jarque-Bera (JB):                4.995\n",
            "Skew:                           0.333   Prob(JB):                       0.0823\n",
            "Kurtosis:                       3.083   Cond. No.                         3.08\n",
            "==============================================================================\n",
            "\n",
            "Notes:\n",
            "[1] Standard Errors assume that the covariance matrix of the errors is correctly specified.\n"
          ]
        }
      ]
    },
    {
      "cell_type": "markdown",
      "source": [
        "Este es un resumen de los resultados de un modelo de regresión lineal utilizando la biblioteca statsmodels. Veamos cada sección detalladamente:\n",
        "\n",
        "Dep. Variable (Variable dependiente): En este caso, la variable dependiente es \"body_mass_g\", que representa la masa corporal de los pingüinos.\n",
        "\n",
        "R-squared (R cuadrado): Es una medida de cuánta variabilidad en la variable dependiente es explicada por el modelo. En este caso, el valor de R cuadrado es 0.755, lo que significa que alrededor del 75.5% de la variabilidad en la masa corporal se explica por las variables independientes incluidas en el modelo.\n",
        "\n",
        "Adj. R-squared (R cuadrado ajustado): Similar al R cuadrado, pero ajustado para el número de variables en el modelo. En este caso, es 0.752, lo que significa que es ligeramente menor que el R cuadrado.\n",
        "\n",
        "Method (Método): Indica el método utilizado para ajustar el modelo, que en este caso es \"Least Squares\" (Mínimos Cuadrados).\n",
        "\n",
        "F-statistic (Estadístico F): Es una medida de la significancia global del modelo. Un valor alto de F-statistic indica que al menos una de las variables independientes es significativa para predecir la variable dependiente. En este caso, el valor es 269.3 con un valor p (Prob) extremadamente bajo, lo que sugiere que el modelo es estadísticamente significativo.\n",
        "\n",
        "Date (Fecha) y Time (Hora): Simplemente indican la fecha y hora en que se generaron los resultados.\n",
        "\n",
        "No. Observations (Número de observaciones): Indica el número total de observaciones en el conjunto de datos.\n",
        "\n",
        "Df Residuals (Grados de libertad de los residuos): Representa el número de observaciones menos el número de parámetros estimados en el modelo (en este caso, los coeficientes). En este caso, hay 262 grados de libertad de los residuos.\n",
        "\n",
        "Df Model (Grados de libertad del modelo): Representa el número de parámetros estimados en el modelo (en este caso, los coeficientes).\n",
        "\n",
        "Covariance Type (Tipo de covarianza): Indica el tipo de covarianza utilizada en el modelo. En este caso, es \"nonrobust\" (no robusto).\n",
        "\n",
        "Luego, tenemos una tabla que muestra los coeficientes estimados para cada variable independiente, junto con sus errores estándar, estadísticas t y valores p:\n",
        "\n",
        "const: Este es el término de intercepción del modelo, que representa el valor esperado de la variable dependiente cuando todas las variables independientes son cero.\n",
        "\n",
        "x1, x2, x3: Estos son los coeficientes estimados para las variables independientes \"x1\", \"x2\" y \"x3\" (que podrían ser las longitudes del pico, profundidad del pico y longitud de la aleta).\n",
        "\n",
        "std err (Error estándar): Es la desviación estándar del coeficiente estimado.\n",
        "t (Estadística t): Es una medida de cuántas desviaciones estándar es el coeficiente estimado del cero. Valores absolutos más altos indican una mayor significancia estadística.\n",
        "\n",
        "P>|t| (Valor p): Es la probabilidad de observar una estadística t al menos tan extrema como la observada si la verdadera media del coeficiente es cero.\n",
        "Valores bajos (generalmente menos de 0.05) indican que el coeficiente es estadísticamente significativo.\n",
        "\n",
        "En la tabla, los valores bajo la columna \"[0.025\" y \"[0.975]\" son los intervalos de confianza del 95% para los coeficientes de las variables. Esto significa que hay un 95% de probabilidad de que el verdadero valor del coeficiente de la variable caiga dentro de estos intervalos.\n",
        "\n",
        "Los valores \"[0.025\" y \"[0.975]\" representan los cuantiles del 2.5% y del 97.5%, respectivamente, de la distribución t de Student. Estos cuantiles definen el intervalo de confianza del 95% alrededor del estimador del coeficiente.\n",
        "\n",
        "Por ejemplo:\n",
        "\n",
        "Para la variable x1, el intervalo de confianza del 95% para el coeficiente es [-48.100, 90.230].\n",
        "Para la variable x2, el intervalo de confianza del 95% para el coeficiente es [-42.232, 81.786].\n",
        "Para la variable x3, el intervalo de confianza del 95% para el coeficiente es [620.504, 785.887].\n",
        "Estos intervalos proporcionan una medida de la incertidumbre asociada con cada coeficiente estimado. Si un intervalo contiene el valor cero, esto indica que el coeficiente no es significativamente diferente de cero y, por lo tanto, esa variable puede no tener una influencia significativa en la variable de respuesta. Sin embargo, como todos los intervalos no incluyen el valor cero en este caso, sugiere que todas las variables tienen una influencia significativa en la variable de respuesta.\n",
        "\n",
        "Exactamente, proporcionar intervalos de confianza junto con los coeficientes estimados brinda una visión más completa de la incertidumbre asociada con cada coeficiente. Esto permite una interpretación más realista de los resultados del modelo y ayuda a los clientes o a los tomadores de decisiones a comprender la variabilidad en las estimaciones de los coeficientes. Además, los intervalos de confianza son útiles para evaluar la significancia estadística de los coeficientes y para determinar si alguna variable tiene un efecto significativo en la variable de respuesta.\n",
        "\n",
        "\n",
        "Finalmente, en la sección de \"Notes\", hay algunas notas adicionales sobre los resultados del modelo. En este caso, indica que los errores estándar asumen que la matriz de covarianza de los errores está correctamente especificada.\n",
        "\n",
        "Cuando se informa que \"los errores estándar asumen que la matriz de covarianza de los errores está correctamente especificada\", significa que se está utilizando una estimación de los errores estándar que se basa en esta suposición. En otras palabras, los errores estándar calculados se basan en la asunción de que la estructura de covarianza de los errores es la correcta según el modelo especificado. Si esta suposición no se cumple en la realidad, los errores estándar y, por lo tanto, las inferencias basadas en ellos podrían ser sesgados.\n",
        "\n",
        "Por ejemplo, si la matriz de covarianza de errores subestima la variabilidad real en los errores, los errores estándar calculados serán demasiado pequeños. Como resultado, los intervalos de confianza pueden ser demasiado estrechos y las pruebas de hipótesis pueden ser demasiado permisivas, lo que lleva a conclusiones erróneas de significancia estadística.\n",
        "\n",
        "Del mismo modo, si la matriz de covarianza de errores sobreestima la variabilidad real en los errores, los errores estándar calculados serán demasiado grandes. Esto podría conducir a intervalos de confianza demasiado amplios y pruebas de hipótesis demasiado conservadoras, lo que también podría llevar a conclusiones incorrectas."
      ],
      "metadata": {
        "id": "Xiv6kZtp2vKI"
      }
    },
    {
      "cell_type": "code",
      "source": [
        "import statsmodels.api as sm\n",
        "\n",
        "# Agregar una columna de unos para representar la constante en el modelo\n",
        "X_train_with_const = sm.add_constant(X_train)\n",
        "\n",
        "# Crear una instancia del modelo OLS (Mínimos cuadrados ordinarios)\n",
        "model_sm = sm.OLS(y_train, X_train_with_const)\n",
        "\n",
        "# Ajustar el modelo a los datos\n",
        "results = model_sm.fit()\n",
        "\n",
        "# Obtener los p-values de las variables del modelo\n",
        "p_values = results.pvalues\n",
        "\n",
        "# Imprimir los p-values\n",
        "print(\"P-values de las variables del modelo:\")\n",
        "print(p_values)\n"
      ],
      "metadata": {
        "colab": {
          "base_uri": "https://localhost:8080/"
        },
        "id": "k8v-XBbY3zHN",
        "outputId": "b5a02b4a-18de-4826-8f82-33cce17a7ce9"
      },
      "execution_count": null,
      "outputs": [
        {
          "output_type": "stream",
          "name": "stdout",
          "text": [
            "P-values de las variables del modelo:\n",
            "const    1.144439e-270\n",
            "x1        5.492294e-01\n",
            "x2        5.305449e-01\n",
            "x3        2.741490e-43\n",
            "dtype: float64\n"
          ]
        }
      ]
    },
    {
      "cell_type": "markdown",
      "source": [
        "Exacto, en el modelo que proporcionaste, todos los valores p son significativos porque son menores que un nivel de significancia comúnmente utilizado, como 0.05. Esto indica que todas las variables predictoras en el modelo tienen una influencia estadísticamente significativa en la variable de respuesta.\n",
        "\n",
        "Por lo tanto, en este caso, podemos concluir que todas las variables predictoras contribuyen significativamente a la predicción de la variable de respuesta."
      ],
      "metadata": {
        "id": "y6oYN0_l4V4f"
      }
    },
    {
      "cell_type": "markdown",
      "source": [
        "# **Predecir valores**"
      ],
      "metadata": {
        "id": "O-adhS_tGrQr"
      }
    },
    {
      "cell_type": "code",
      "source": [
        "print(\"Forma del conjunto de datos de entrenamiento:\", X_train.shape)"
      ],
      "metadata": {
        "colab": {
          "base_uri": "https://localhost:8080/"
        },
        "id": "kztpHRfQHm95",
        "outputId": "25680c62-bc89-460d-9f17-3887bd34b8e6"
      },
      "execution_count": null,
      "outputs": [
        {
          "output_type": "stream",
          "name": "stdout",
          "text": [
            "Forma del conjunto de datos de entrenamiento: (266, 3)\n"
          ]
        }
      ]
    },
    {
      "cell_type": "code",
      "source": [
        "# Definir los coeficientes y el intercepto\n",
        "coeficientes = [21.0646914, 19.77707077, 703.19549413]\n",
        "intercepto = 4212.706721548198\n",
        "\n",
        "# Definir las variables predictoras para un nuevo conjunto de datos\n",
        "nuevo_conjunto_de_datos = [\n",
        "    [-0.896042, 0.780732, -1.426752]] # Agregar más datos si tienes.\n",
        "\n",
        "# Calcular las predicciones utilizando la ecuación de regresión múltiple\n",
        "predicciones = np.dot(nuevo_conjunto_de_datos, coeficientes) + intercepto\n",
        "\n",
        "prediccion = predicciones[0]\n",
        "\n",
        "# Imprimir las predicciones\n",
        "print(f\"Predicciones de peso corporal {round(prediccion,2)} gramos\")"
      ],
      "metadata": {
        "colab": {
          "base_uri": "https://localhost:8080/"
        },
        "id": "oGc1PzOJHGzZ",
        "outputId": "42e40d7a-81e4-4566-b385-a0f732d03b6b"
      },
      "execution_count": null,
      "outputs": [
        {
          "output_type": "stream",
          "name": "stdout",
          "text": [
            "Predicciones de peso corporal 3205.99 gramos\n"
          ]
        }
      ]
    }
  ]
}